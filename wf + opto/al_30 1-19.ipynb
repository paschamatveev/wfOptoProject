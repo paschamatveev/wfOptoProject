{
 "cells": [
  {
   "cell_type": "code",
   "execution_count": 1,
   "id": "2d72601c-88ac-4425-ac65-15d4fe8fef8a",
   "metadata": {},
   "outputs": [],
   "source": [
    "%matplotlib inline\n",
    "%reload_ext autoreload\n",
    "%autoreload 2\n",
    "\n",
    "import collections\n",
    "from datetime import datetime\n",
    "from IPython.display import clear_output, display, HTML\n",
    "import itertools\n",
    "import matplotlib.pyplot as plt\n",
    "import matplotlib as mpl\n",
    "import numpy as np\n",
    "import os\n",
    "from pathlib import Path\n",
    "import pickle\n",
    "import scipy\n",
    "# import seaborn as sns\n",
    "import sklearn\n",
    "from sklearn.decomposition import PCA\n",
    "import sys\n",
    "from numpy.fft import fft, rfft\n",
    "from scipy.signal import spectrogram\n",
    "from wfOpto import *\n",
    "from matplotlib.patches import Rectangle\n",
    "import warnings\n",
    "warnings.filterwarnings(\"ignore\")"
   ]
  },
  {
   "cell_type": "markdown",
   "id": "91e8e3a3",
   "metadata": {},
   "source": [
    "LED Oscilations Test w/ AL_0030"
   ]
  },
  {
   "cell_type": "code",
   "execution_count": null,
   "id": "96eaa06f",
   "metadata": {},
   "outputs": [],
   "source": [
    "# load stimulus related files generated post-experiment\n",
    "pdFlips = np.load(r'Z:\\Subjects\\ZYE_0069\\2023-09-06\\2\\ledFlipTimes.npy').ravel()\n",
    "flipRates = np.load(r'Z:\\Subjects\\ZYE_0069\\2023-09-06\\2\\ledFreq.npy').ravel()\n",
    "\n",
    "def findStimStartTimes():\n",
    "    \"\"\"\n",
    "    This function takes in the photodiode flip times, which includes ALL\n",
    "    times the light turned on and off (so not just the start of the stimulus).\n",
    "    Taking advantage of the fact that stimuli are exactly 2 seconds long, we\n",
    "    find the flip times that do correspond to the start of each stimulus.\n",
    "    \n",
    "    No input arguments - uses loaded files above.\n",
    "    Returns:\n",
    "        startTimes: array of the start time for each stimulus. e.g. if \n",
    "            there were 10 repetitions each of 5 different frequencies,\n",
    "            this would be length (50, 1)\n",
    "        stimFlips: array of the flip times within each stimulus. e.g.\n",
    "            in the above example, it would be length (50, n), where\n",
    "            n corresponds to the number of flips that occurred within\n",
    "            the stimulus (and thus is not even across stimuli)\n",
    "    \"\"\"\n",
    "    \n",
    "    durationS = 2 # fixed?\n",
    "    startTimes = []\n",
    "    stimFlips = []\n",
    "    \n",
    "    thisStart = pdFlips[0]\n",
    "\n",
    "    for stim in range(len(flipRates)):\n",
    "        thisEnd = thisStart + durationS + 0.1\n",
    "        try:\n",
    "            nextStart = pdFlips[pdFlips > thisEnd][0] # set to first pd flip that is past the stim duration\n",
    "        except:\n",
    "            nextStart = None # should only happen at the end?\n",
    "        startTimes.append(thisStart)\n",
    "        \n",
    "        flipIx = np.where((pdFlips >= thisStart) & (pdFlips <= thisEnd))\n",
    "        flipTimes = pdFlips[flipIx]\n",
    "        stimFlips.append(flipTimes)\n",
    "        \n",
    "        thisStart = nextStart\n",
    "        \n",
    "    startTimes = np.array(startTimes)\n",
    "    stimFlips = np.array(stimFlips, dtype='object')\n",
    "    return startTimes, stimFlips\n",
    "\n",
    "\n",
    "startTimes, stimFlips = findStimStartTimes()"
   ]
  },
  {
   "cell_type": "code",
   "execution_count": 6,
   "id": "9148b97b",
   "metadata": {},
   "outputs": [
    {
     "ename": "FileNotFoundError",
     "evalue": "[Errno 2] No such file or directory: 'Z:\\\\Subjects\\\\AL_0030\\\\2024-01-19\\\\4\\\\cameraFrameTimes.npy'",
     "output_type": "error",
     "traceback": [
      "\u001b[1;31m---------------------------------------------------------------------------\u001b[0m",
      "\u001b[1;31mFileNotFoundError\u001b[0m                         Traceback (most recent call last)",
      "Cell \u001b[1;32mIn[6], line 3\u001b[0m\n\u001b[0;32m      1\u001b[0m serverPath \u001b[38;5;241m=\u001b[39m Path(\u001b[38;5;124mr\u001b[39m\u001b[38;5;124m'\u001b[39m\u001b[38;5;124mZ:\u001b[39m\u001b[38;5;124m\\\u001b[39m\u001b[38;5;124mSubjects\u001b[39m\u001b[38;5;124m\\\u001b[39m\u001b[38;5;124mAL_0030\u001b[39m\u001b[38;5;124m\\\u001b[39m\u001b[38;5;124m2024-01-19\u001b[39m\u001b[38;5;124m\\\u001b[39m\u001b[38;5;124m4\u001b[39m\u001b[38;5;124m'\u001b[39m)\n\u001b[0;32m      2\u001b[0m timeFile \u001b[38;5;241m=\u001b[39m serverPath \u001b[38;5;241m/\u001b[39m \u001b[38;5;124m'\u001b[39m\u001b[38;5;124mcameraFrameTimes.npy\u001b[39m\u001b[38;5;124m'\u001b[39m\n\u001b[1;32m----> 3\u001b[0m frameTimes \u001b[38;5;241m=\u001b[39m np\u001b[38;5;241m.\u001b[39msqueeze(\u001b[43mnp\u001b[49m\u001b[38;5;241;43m.\u001b[39;49m\u001b[43mload\u001b[49m\u001b[43m(\u001b[49m\u001b[43mtimeFile\u001b[49m\u001b[43m)\u001b[49m)[::\u001b[38;5;241m2\u001b[39m] \u001b[38;5;66;03m# every other frame - we want blue only\u001b[39;00m\n\u001b[0;32m      4\u001b[0m svdTemp \u001b[38;5;241m=\u001b[39m np\u001b[38;5;241m.\u001b[39mload(serverPath \u001b[38;5;241m/\u001b[39m \u001b[38;5;124m'\u001b[39m\u001b[38;5;124mcorr/svdTemporalComponents_corr.npy\u001b[39m\u001b[38;5;124m'\u001b[39m)\n\u001b[0;32m      5\u001b[0m svdSpat \u001b[38;5;241m=\u001b[39m np\u001b[38;5;241m.\u001b[39mload(serverPath \u001b[38;5;241m/\u001b[39m \u001b[38;5;124m'\u001b[39m\u001b[38;5;124mblue/svdSpatialComponents.npy\u001b[39m\u001b[38;5;124m'\u001b[39m)\n",
      "File \u001b[1;32mc:\\Users\\nadia\\anaconda3\\envs\\steinmetzlab\\lib\\site-packages\\numpy\\lib\\npyio.py:427\u001b[0m, in \u001b[0;36mload\u001b[1;34m(file, mmap_mode, allow_pickle, fix_imports, encoding, max_header_size)\u001b[0m\n\u001b[0;32m    425\u001b[0m     own_fid \u001b[38;5;241m=\u001b[39m \u001b[38;5;28;01mFalse\u001b[39;00m\n\u001b[0;32m    426\u001b[0m \u001b[38;5;28;01melse\u001b[39;00m:\n\u001b[1;32m--> 427\u001b[0m     fid \u001b[38;5;241m=\u001b[39m stack\u001b[38;5;241m.\u001b[39menter_context(\u001b[38;5;28;43mopen\u001b[39;49m\u001b[43m(\u001b[49m\u001b[43mos_fspath\u001b[49m\u001b[43m(\u001b[49m\u001b[43mfile\u001b[49m\u001b[43m)\u001b[49m\u001b[43m,\u001b[49m\u001b[43m \u001b[49m\u001b[38;5;124;43m\"\u001b[39;49m\u001b[38;5;124;43mrb\u001b[39;49m\u001b[38;5;124;43m\"\u001b[39;49m\u001b[43m)\u001b[49m)\n\u001b[0;32m    428\u001b[0m     own_fid \u001b[38;5;241m=\u001b[39m \u001b[38;5;28;01mTrue\u001b[39;00m\n\u001b[0;32m    430\u001b[0m \u001b[38;5;66;03m# Code to distinguish from NumPy binary files and pickles.\u001b[39;00m\n",
      "\u001b[1;31mFileNotFoundError\u001b[0m: [Errno 2] No such file or directory: 'Z:\\\\Subjects\\\\AL_0030\\\\2024-01-19\\\\4\\\\cameraFrameTimes.npy'"
     ]
    }
   ],
   "source": [
    "serverPath = Path(r'Z:\\Subjects\\AL_0030\\2024-01-19\\4')\n",
    "timeFile = serverPath / 'cameraFrameTimes.npy'\n",
    "frameTimes = np.squeeze(np.load(timeFile))[::2] # every other frame - we want blue only\n",
    "svdTemp = np.load(serverPath / 'corr/svdTemporalComponents_corr.npy')\n",
    "svdSpat = np.load(serverPath / 'blue/svdSpatialComponents.npy')\n",
    "svdSpatFull = svdSpat[:,:,:500]\n",
    "meanImage = np.load(serverPath / 'blue/meanImage.npy')\n",
    "px, py, ncomps = svdSpatFull.shape\n",
    "svdSpat = svdSpatFull.reshape(px*py, ncomps)\n",
    "tToWf = scipy.interpolate.interp1d(frameTimes, svdTemp, axis=0, fill_value='extrapolate')\n",
    "spatial = svdSpatFull.reshape(560*560,-1)"
   ]
  },
  {
   "cell_type": "markdown",
   "id": "bdf81bd6",
   "metadata": {},
   "source": []
  },
  {
   "cell_type": "code",
   "execution_count": null,
   "id": "46fc7da1",
   "metadata": {},
   "outputs": [],
   "source": []
  }
 ],
 "metadata": {
  "kernelspec": {
   "display_name": "Python 3 (ipykernel)",
   "language": "python",
   "name": "python3"
  },
  "language_info": {
   "codemirror_mode": {
    "name": "ipython",
    "version": 3
   },
   "file_extension": ".py",
   "mimetype": "text/x-python",
   "name": "python",
   "nbconvert_exporter": "python",
   "pygments_lexer": "ipython3",
   "version": "3.10.13"
  }
 },
 "nbformat": 4,
 "nbformat_minor": 5
}
