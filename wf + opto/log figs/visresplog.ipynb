{
 "cells": [
  {
   "cell_type": "code",
   "execution_count": 1,
   "metadata": {},
   "outputs": [
    {
     "name": "stdout",
     "output_type": "stream",
     "text": [
      "pytoolsAL: Modules missing.  Not loading image.  Message: cannot import name 'geometry' from 'skimage._shared' (c:\\Users\\nadia\\anaconda3\\envs\\steinmetzlab\\Lib\\site-packages\\skimage\\_shared\\__init__.py)\n",
      "It seems that scikit-image has not been built correctly.\n",
      "\n",
      "Your install of scikit-image appears to be broken.\n",
      "Try re-installing the package following the instructions at:\n",
      "https://scikit-image.org/docs/stable/user_guide/install.html\n",
      "pytoolsAL: Modules missing.  Not loading plotting.  Message: No module named 'seaborn'\n"
     ]
    }
   ],
   "source": [
    "import collections\n",
    "from datetime import datetime\n",
    "from IPython.display import clear_output, display, HTML\n",
    "import itertools\n",
    "import matplotlib.pyplot as plt\n",
    "import matplotlib as mpl\n",
    "import numpy as np\n",
    "import os\n",
    "from pathlib import Path\n",
    "import pickle\n",
    "import scipy\n",
    "# import seaborn as sns\n",
    "import sklearn\n",
    "from sklearn.decomposition import PCA\n",
    "import sys\n",
    "from scipy.ndimage import gaussian_filter1d\n",
    "import imageio\n",
    "from IPython.display import HTML\n",
    "import pytoolsAL as ptAL\n",
    "mpl.rcParams['pdf.fonttype'] = 42\n",
    "\n",
    "import sys\n",
    "sys.path.append(\"C:/Users/nadia/Documents/GitHub/steinmetzlab/wf + opto/figure-making\")\n",
    "from wfOpto import *"
   ]
  },
  {
   "cell_type": "code",
   "execution_count": 2,
   "metadata": {},
   "outputs": [],
   "source": [
    "#work\n",
    "plt.style.use(r'C:\\Users\\nadia\\Documents\\GitHub\\steinmetzlab\\ALpres.mplstyle')"
   ]
  },
  {
   "cell_type": "code",
   "execution_count": 3,
   "metadata": {},
   "outputs": [
    {
     "ename": "FileNotFoundError",
     "evalue": "[Errno 2] No such file or directory: 'Y:\\\\Subjects\\\\AL_0035\\\\2025-01-25\\\\1\\\\corr\\\\svdTemporalComponents_corr.npy'",
     "output_type": "error",
     "traceback": [
      "\u001b[1;31m---------------------------------------------------------------------------\u001b[0m",
      "\u001b[1;31mFileNotFoundError\u001b[0m                         Traceback (most recent call last)",
      "Cell \u001b[1;32mIn[3], line 1\u001b[0m\n\u001b[1;32m----> 1\u001b[0m data \u001b[38;5;241m=\u001b[39m \u001b[43mwfOpto\u001b[49m\u001b[43m(\u001b[49m\u001b[43mPath\u001b[49m\u001b[43m(\u001b[49m\u001b[38;5;124;43mr\u001b[39;49m\u001b[38;5;124;43m'\u001b[39;49m\u001b[38;5;124;43mY:\u001b[39;49m\u001b[38;5;124;43m\\\u001b[39;49m\u001b[38;5;124;43mSubjects\u001b[39;49m\u001b[38;5;124;43m\\\u001b[39;49m\u001b[38;5;124;43mAL_0035\u001b[39;49m\u001b[38;5;124;43m\\\u001b[39;49m\u001b[38;5;124;43m2025-01-25\u001b[39;49m\u001b[38;5;124;43m\\\u001b[39;49m\u001b[38;5;124;43m1\u001b[39;49m\u001b[38;5;124;43m'\u001b[39;49m\u001b[43m)\u001b[49m\u001b[43m)\u001b[49m\n",
      "File \u001b[1;32mC:\\Users/nadia/Documents/GitHub/steinmetzlab/wf + opto/figure-making\\wfOpto.py:24\u001b[0m, in \u001b[0;36mwfOpto.__init__\u001b[1;34m(self, pathSubject, listExps)\u001b[0m\n\u001b[0;32m     22\u001b[0m \u001b[38;5;28mself\u001b[39m\u001b[38;5;241m.\u001b[39mtimeFile \u001b[38;5;241m=\u001b[39m serverPath \u001b[38;5;241m/\u001b[39m \u001b[38;5;124m'\u001b[39m\u001b[38;5;124mcameraFrameTimes.npy\u001b[39m\u001b[38;5;124m'\u001b[39m\n\u001b[0;32m     23\u001b[0m \u001b[38;5;28mself\u001b[39m\u001b[38;5;241m.\u001b[39mframeTimes \u001b[38;5;241m=\u001b[39m np\u001b[38;5;241m.\u001b[39msqueeze(np\u001b[38;5;241m.\u001b[39mload(\u001b[38;5;28mself\u001b[39m\u001b[38;5;241m.\u001b[39mtimeFile))[::\u001b[38;5;241m2\u001b[39m] \u001b[38;5;66;03m# every other frame - we want blue only\u001b[39;00m\n\u001b[1;32m---> 24\u001b[0m \u001b[38;5;28mself\u001b[39m\u001b[38;5;241m.\u001b[39msvdTemp \u001b[38;5;241m=\u001b[39m \u001b[43mnp\u001b[49m\u001b[38;5;241;43m.\u001b[39;49m\u001b[43mload\u001b[49m\u001b[43m(\u001b[49m\u001b[43mserverPath\u001b[49m\u001b[43m \u001b[49m\u001b[38;5;241;43m/\u001b[39;49m\u001b[43m \u001b[49m\u001b[38;5;124;43m'\u001b[39;49m\u001b[38;5;124;43mcorr/svdTemporalComponents_corr.npy\u001b[39;49m\u001b[38;5;124;43m'\u001b[39;49m\u001b[43m)\u001b[49m\n\u001b[0;32m     25\u001b[0m \u001b[38;5;28mself\u001b[39m\u001b[38;5;241m.\u001b[39msvdSpat \u001b[38;5;241m=\u001b[39m np\u001b[38;5;241m.\u001b[39mload(serverPath \u001b[38;5;241m/\u001b[39m \u001b[38;5;124m'\u001b[39m\u001b[38;5;124mblue/svdSpatialComponents.npy\u001b[39m\u001b[38;5;124m'\u001b[39m)\n\u001b[0;32m     26\u001b[0m \u001b[38;5;28mself\u001b[39m\u001b[38;5;241m.\u001b[39msvdSpatFull \u001b[38;5;241m=\u001b[39m \u001b[38;5;28mself\u001b[39m\u001b[38;5;241m.\u001b[39msvdSpat[:,:,:\u001b[38;5;241m50\u001b[39m]\n",
      "File \u001b[1;32mc:\\Users\\nadia\\anaconda3\\envs\\steinmetzlab\\Lib\\site-packages\\numpy\\lib\\npyio.py:427\u001b[0m, in \u001b[0;36mload\u001b[1;34m(file, mmap_mode, allow_pickle, fix_imports, encoding, max_header_size)\u001b[0m\n\u001b[0;32m    425\u001b[0m     own_fid \u001b[38;5;241m=\u001b[39m \u001b[38;5;28;01mFalse\u001b[39;00m\n\u001b[0;32m    426\u001b[0m \u001b[38;5;28;01melse\u001b[39;00m:\n\u001b[1;32m--> 427\u001b[0m     fid \u001b[38;5;241m=\u001b[39m stack\u001b[38;5;241m.\u001b[39menter_context(\u001b[38;5;28;43mopen\u001b[39;49m\u001b[43m(\u001b[49m\u001b[43mos_fspath\u001b[49m\u001b[43m(\u001b[49m\u001b[43mfile\u001b[49m\u001b[43m)\u001b[49m\u001b[43m,\u001b[49m\u001b[43m \u001b[49m\u001b[38;5;124;43m\"\u001b[39;49m\u001b[38;5;124;43mrb\u001b[39;49m\u001b[38;5;124;43m\"\u001b[39;49m\u001b[43m)\u001b[49m)\n\u001b[0;32m    428\u001b[0m     own_fid \u001b[38;5;241m=\u001b[39m \u001b[38;5;28;01mTrue\u001b[39;00m\n\u001b[0;32m    430\u001b[0m \u001b[38;5;66;03m# Code to distinguish from NumPy binary files and pickles.\u001b[39;00m\n",
      "\u001b[1;31mFileNotFoundError\u001b[0m: [Errno 2] No such file or directory: 'Y:\\\\Subjects\\\\AL_0035\\\\2025-01-25\\\\1\\\\corr\\\\svdTemporalComponents_corr.npy'"
     ]
    }
   ],
   "source": [
    "data = wfOpto(Path(r'Y:\\Subjects\\AL_0035\\2025-01-25\\1'))"
   ]
  },
  {
   "cell_type": "code",
   "execution_count": null,
   "metadata": {},
   "outputs": [],
   "source": [
    "plt.imshow(data.meanImage, cmap='bwr')\n",
    "plt.scatter(x=120,y=380)"
   ]
  },
  {
   "cell_type": "code",
   "execution_count": null,
   "metadata": {},
   "outputs": [],
   "source": [
    "name='AL35'\n",
    "date='01-25'"
   ]
  },
  {
   "cell_type": "code",
   "execution_count": null,
   "metadata": {},
   "outputs": [],
   "source": [
    "data=data\n",
    "powers=np.unique(data.laserPowers).ravel()\n",
    "galvoX=0;galvoY=0;x=120;y=380;width=15;anchor=(1,1)\n",
    "ylim=[-0.008,0.001];start=-0.3;end=1;xlim=[-0.01,0.5]\n",
    "n_samples = round(start*-1+end)*35\n",
    "colors=plt.cm.inferno(np.linspace(.4,1,13))\n",
    "pxPowers = []\n",
    "sems=[]\n",
    "t=1081\n",
    "timestamps = np.linspace(start, end, n_samples)\n",
    "galvoXTr=np.argwhere(data.galvoX[:t]==galvoX).ravel()\n",
    "galvoYTr=np.argwhere(data.galvoY[:t]==galvoY).ravel()\n",
    "loc=np.intersect1d(galvoXTr,galvoYTr)\n",
    "\n",
    "meanimg = data.meanImage.reshape(560,560,-1)\n",
    "avg = meanimg[(y-width):(y+width),(x-width):(x+width)]\n",
    "avg = np.mean(avg,axis=(0,1))\n",
    "\n",
    "y_range = np.arange(y - width, y + width)\n",
    "x_range = np.arange(x - width, x + width)\n",
    "# Create a meshgrid of the coordinates\n",
    "y_coords, x_coords = np.meshgrid(y_range, x_range, indexing='ij')\n",
    "# Flatten the coordinate arrays\n",
    "y_coords_flat = y_coords.flatten()\n",
    "x_coords_flat = x_coords.flatten()\n",
    "# Use np.ravel_multi_index to convert multi-dimensional indices to flat indices\n",
    "flat_indices = np.ravel_multi_index((y_coords_flat, x_coords_flat), (560, 560))\n",
    "\n",
    "for power in powers:\n",
    "    pwTrs = np.argwhere(data.laserPowers[:t]== power).ravel()\n",
    "    theseTrs=np.intersect1d(pwTrs,loc)\n",
    "    onTimes = data.laserOn[theseTrs]\n",
    "    trs = [np.linspace(start+on, end+on, n_samples) for on in onTimes]\n",
    "    trs = np.squeeze(np.array(trs))\n",
    "\n",
    "    trial_activity=[]\n",
    "    for trial in trs[:45]:\n",
    "        wf = data.tToWFManual(trial)\n",
    "        mov = data.svdSpat[flat_indices] @ wf.T\n",
    "        videoROI_avg = np.mean(mov,axis=0)\n",
    "        dff = videoROI_avg/avg\n",
    "        trial_activity.append(dff)\n",
    "    sems.append(scipy.stats.sem(trial_activity,axis=0))\n",
    "    pxPowers.append(np.mean(trial_activity,axis=0))\n",
    "\n",
    "\n",
    "fig=plt.figure(figsize=(5,2),dpi=300)\n",
    "gs = mpl.gridspec.GridSpec(1,2, figure=fig)\n",
    "width_ratios = [1,1]\n",
    "powerscorr = [round(i/2.777777778,2) for i in powers]\n",
    "\n",
    "ax = plt.subplot(gs[0,0])\n",
    "lines = [plt.plot(timestamps, y, label=f'{powerscorr[i]} mW',color=colors[i])[0] for i, y in enumerate(pxPowers[1:])]\n",
    "\n",
    "for iP, power in enumerate(pxPowers):\n",
    "    plt.fill_between(timestamps, \\\n",
    "            power-sems[iP],\\\n",
    "            power+sems[iP], color=colors[iP],label='_nolegend_',alpha=.5,linewidth=0)\n",
    "\n",
    "plt.axvspan(0,.1,ymin=0.95,ymax=1,color='red',lw=0,alpha=0.5)\n",
    "\n",
    "#set colorbar\n",
    "cm = mpl.cm.ScalarMappable(cmap='inferno') # creates a color mapping object\n",
    "cm.set_clim(0, 1.3) # sets limits to our power mW limits - exp.v_to_mw is 2.7 here\n",
    "# plt.plot(x, y, c=cm.to_rgba(power/2.7), label=f'{power/2.7} mW') # the power variable is in V (taken from data npys)\n",
    "cbar = plt.colorbar(ax=ax,mappable=cm,label='Laser power (mW)') # tells the colorbar to use your colormap object\n",
    "cbar.set_ticks([0,1.3])\n",
    "cbar.outline.set_visible(False)\n",
    "\n",
    "#make scale bars\n",
    "t_bar_s = 0.1 # length of time bar\n",
    "dff_bar = 0.03 # length of dff bar\n",
    "x_start = 0 - 0.13 # where the bar should start\n",
    "y_start = -0.016 # where the bar should start\n",
    "\n",
    "plt.ylim([-.08,0.08])\n",
    "plt.xlim([-.1,0.6])\n",
    "plt.axhline(0, color='k', linestyle='--',lw=0.5)\n",
    "plt.plot([x_start, x_start+t_bar_s], [y_start, y_start], c='k', lw=2, clip_on=False) # these plot the bars\n",
    "plt.plot([x_start, x_start], [y_start, y_start+dff_bar], c='k', lw=2, clip_on=False)\n",
    "plt.text(x_start, y_start-0.01, f'{t_bar_s*1000:.0f} ms', ha='left', va='top', fontsize='x-small') # these are the text\n",
    "plt.text(x_start-0.05, y_start, f'{dff_bar*100:.0f} % dF/F', ha='right', va='bottom', rotation=90, fontsize='x-small')\n",
    "plt.axvspan(0,0.1,ymin=0.95,ymax=1,color='red',lw=0,alpha=0.5)\n",
    "plt.title(f'Loc ({galvoX},{galvoY})')\n",
    "ax.spines['left'].set_visible(False)\n",
    "ax.spines['bottom'].set_visible(False)\n",
    "plt.xticks([])\n",
    "plt.yticks([])"
   ]
  },
  {
   "cell_type": "code",
   "execution_count": null,
   "metadata": {},
   "outputs": [],
   "source": [
    "fig.savefig(f'opto/{name}_{date}_visresp.png',dpi=300)"
   ]
  }
 ],
 "metadata": {
  "kernelspec": {
   "display_name": "steinmetzlab",
   "language": "python",
   "name": "python3"
  },
  "language_info": {
   "codemirror_mode": {
    "name": "ipython",
    "version": 3
   },
   "file_extension": ".py",
   "mimetype": "text/x-python",
   "name": "python",
   "nbconvert_exporter": "python",
   "pygments_lexer": "ipython3",
   "version": "3.12.1"
  }
 },
 "nbformat": 4,
 "nbformat_minor": 2
}
