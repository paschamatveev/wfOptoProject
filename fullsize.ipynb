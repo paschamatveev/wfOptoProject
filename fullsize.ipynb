{
 "cells": [
  {
   "cell_type": "markdown",
   "id": "c7949089-f74f-4cfb-8ab2-8405c52edb6b",
   "metadata": {},
   "source": [
    "### Full Size "
   ]
  },
  {
   "cell_type": "code",
   "execution_count": 1,
   "id": "af59185e-889d-41c1-9a94-ca84bd5566b4",
   "metadata": {},
   "outputs": [],
   "source": [
    "import matplotlib as mpl\n",
    "import matplotlib.pyplot as plt\n",
    "import numpy as np\n",
    "import os\n",
    "from pathlib import Path\n",
    "import scipy"
   ]
  },
  {
   "cell_type": "code",
   "execution_count": 3,
   "id": "257e6d3d-7399-48f0-b952-1b3f37093154",
   "metadata": {},
   "outputs": [],
   "source": [
    "serverPath = Path(r'Z:\\Subjects\\AL_0023\\2023-05-15\\1')\n",
    "\n",
    "timeFile = serverPath / 'cameraFrameTimes.npy'\n",
    "frameTimes = np.squeeze(np.load(timeFile))[::2] # every other frame - we want blue only\n",
    "svdTemp = np.load(serverPath / 'corr/svdTemporalComponents_corr.npy')\n",
    "svdSpat = np.load(serverPath / 'blue/svdSpatialComponents.npy')\n",
    "meanImage = np.load(serverPath / 'blue/meanImage.npy')\n",
    "stimOnTimes = np.squeeze(np.load(r'Z:\\Subjects\\AL_0023\\2023-05-15\\3\\linTestOnTimes.npy'))\n",
    "stimContrasts = np.squeeze(np.load(r'Z:\\Subjects\\AL_0023\\2023-05-15\\3\\linTestContrasts.npy'))\n",
    "stimDurations = np.squeeze(np.load(r'Z:\\Subjects\\AL_0023\\2023-05-15\\3\\linTestDurations.npy'))"
   ]
  },
  {
   "cell_type": "code",
   "execution_count": null,
   "id": "e78698b0-23b7-46fc-bcdb-ad6b5892f942",
   "metadata": {},
   "outputs": [],
   "source": []
  }
 ],
 "metadata": {
  "kernelspec": {
   "display_name": "Python 3 (ipykernel)",
   "language": "python",
   "name": "python3"
  },
  "language_info": {
   "codemirror_mode": {
    "name": "ipython",
    "version": 3
   },
   "file_extension": ".py",
   "mimetype": "text/x-python",
   "name": "python",
   "nbconvert_exporter": "python",
   "pygments_lexer": "ipython3",
   "version": "3.10.12"
  }
 },
 "nbformat": 4,
 "nbformat_minor": 5
}
