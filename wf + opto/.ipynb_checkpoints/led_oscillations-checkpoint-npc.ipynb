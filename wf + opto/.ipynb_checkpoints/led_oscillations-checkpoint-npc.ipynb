{
 "cells": [
  {
   "cell_type": "code",
   "execution_count": 153,
   "id": "fd000a74-4e5b-4693-a145-f0fda6243d93",
   "metadata": {},
   "outputs": [],
   "source": [
    "%matplotlib inline\n",
    "%reload_ext autoreload\n",
    "%autoreload 2\n",
    "\n",
    "import collections\n",
    "from datetime import datetime\n",
    "from IPython.display import clear_output, display, HTML\n",
    "import itertools\n",
    "import matplotlib.pyplot as plt\n",
    "import matplotlib as mpl\n",
    "import numpy as np\n",
    "import os\n",
    "from pathlib import Path\n",
    "import pickle\n",
    "import scipy\n",
    "# import seaborn as sns\n",
    "import sklearn\n",
    "from sklearn.decomposition import PCA\n",
    "import sys"
   ]
  },
  {
   "cell_type": "code",
   "execution_count": 154,
   "id": "b83ff157-ccb3-48cf-8a17-4268ee64e483",
   "metadata": {},
   "outputs": [],
   "source": [
    "from wfOpto import *"
   ]
  },
  {
   "cell_type": "code",
   "execution_count": 155,
   "id": "ab94242f-cdc4-43af-89fb-1da2d74179ff",
   "metadata": {},
   "outputs": [],
   "source": [
    "from matplotlib.patches import Rectangle"
   ]
  },
  {
   "cell_type": "markdown",
   "id": "4891a970-85a4-4e64-b211-c55cfd444ea3",
   "metadata": {},
   "source": [
    "# goal: compare visual response to different LED frequencies\n",
    "- given the rate of LED and its start time\n",
    "- start with plotting the PSTH of V1 response for one mouse, 0-2 seconds\n",
    "    - it may be easier to look at a handful of frequencies first rather than all 10\n",
    "- find a \"single value\" way to quantify the extent of coherence\n",
    "    - start with using amplitude. does the amplitude across the stimulus window correspond to the extent of coherence (qualitatively?)\n",
    "- plot the amplitude vs oscillation rate\n",
    "- compare this plot for different GCaMP lines"
   ]
  },
  {
   "cell_type": "code",
   "execution_count": 156,
   "id": "947bdcc4-7793-4241-9805-ece108a64be8",
   "metadata": {},
   "outputs": [],
   "source": [
    "# load stimulus related files generated post-experiment\n",
    "pdFlips = np.load(r'Z:\\Subjects\\ZYE_0069\\2023-09-06\\2\\ledFlipTimes.npy').ravel()\n",
    "flipRates = np.load(r'Z:\\Subjects\\ZYE_0069\\2023-09-06\\2\\ledFreq.npy').ravel()\n",
    "\n",
    "def findStimStartTimes():\n",
    "    \"\"\"\n",
    "    This function takes in the photodiode flip times, which includes ALL\n",
    "    times the light turned on and off (so not just the start of the stimulus).\n",
    "    Taking advantage of the fact that stimuli are exactly 2 seconds long, we\n",
    "    find the flip times that do correspond to the start of each stimulus.\n",
    "    \n",
    "    No input arguments - uses loaded files above.\n",
    "    Returns:\n",
    "        startTimes: array of the start time for each stimulus. e.g. if \n",
    "            there were 10 repetitions each of 5 different frequencies,\n",
    "            this would be length (50, 1)\n",
    "        stimFlips: array of the flip times within each stimulus. e.g.\n",
    "            in the above example, it would be length (50, n), where\n",
    "            n corresponds to the number of flips that occurred within\n",
    "            the stimulus (and thus is not even across stimuli)\n",
    "    \"\"\"\n",
    "    \n",
    "    durationS = 2 # fixed?\n",
    "    startTimes = []\n",
    "    stimFlips = []\n",
    "    \n",
    "    thisStart = pdFlips[0]\n",
    "\n",
    "    for stim in range(len(flipRates)):\n",
    "        thisEnd = thisStart + durationS + 0.1\n",
    "        try:\n",
    "            nextStart = pdFlips[pdFlips > thisEnd][0] # set to first pd flip that is past the stim duration\n",
    "        except:\n",
    "            nextStart = None # should only happen at the end?\n",
    "        startTimes.append(thisStart)\n",
    "        \n",
    "        flipIx = np.where((pdFlips >= thisStart) & (pdFlips <= thisEnd))\n",
    "        flipTimes = pdFlips[flipIx]\n",
    "        stimFlips.append(flipTimes)\n",
    "        \n",
    "        thisStart = nextStart\n",
    "        \n",
    "    startTimes = np.array(startTimes)\n",
    "    stimFlips = np.array(stimFlips, dtype='object')\n",
    "    return startTimes, stimFlips"
   ]
  },
  {
   "cell_type": "code",
   "execution_count": 162,
   "id": "57f7cb2c-edbd-43a5-abcd-8dbcbd835151",
   "metadata": {},
   "outputs": [],
   "source": [
    "startTimes, stimFlips = findStimStartTimes()"
   ]
  },
  {
   "cell_type": "code",
   "execution_count": 5,
   "id": "fa47cb6a-06a0-48d2-ad36-8d067f370008",
   "metadata": {},
   "outputs": [
    {
     "data": {
      "text/plain": [
       "(635.0, 650.0)"
      ]
     },
     "execution_count": 5,
     "metadata": {},
     "output_type": "execute_result"
    },
    {
     "data": {
      "image/png": "[encoded data removed]",
      "text/plain": [
       "<Figure size 2000x300 with 1 Axes>"
      ]
     },
     "metadata": {},
     "output_type": "display_data"
    }
   ],
   "source": [
    "f = plt.figure(figsize=(20, 3))\n",
    "plt.scatter(pdFlips, np.ones(len(pdFlips)), lw=0)\n",
    "plt.scatter(startTimes, np.ones(len(startTimes))*1.5, marker='v', lw=0)\n",
    "plt.ylim(0, 3)\n",
    "plt.xlim(635, 650)"
   ]
  },
  {
   "cell_type": "code",
   "execution_count": 157,
   "id": "a16a86ec-b599-4cbe-8d25-b26be49e0233",
   "metadata": {},
   "outputs": [],
   "source": [
    "serverPath = Path(r'Z:\\Subjects\\ZYE_0069\\2023-09-06\\1')\n",
    "timeFile = serverPath / 'cameraFrameTimes.npy'\n",
    "frameTimes = np.squeeze(np.load(timeFile))[::2] # every other frame - we want blue only\n",
    "svdTemp = np.load(serverPath / 'corr/svdTemporalComponents_corr.npy')\n",
    "svdSpat = np.load(serverPath / 'blue/svdSpatialComponents.npy')\n",
    "svdSpatFull = svdSpat[:,:,:500]\n",
    "meanImage = np.load(serverPath / 'blue/meanImage.npy')\n",
    "px, py, ncomps = svdSpatFull.shape\n",
    "svdSpat = svdSpatFull.reshape(px*py, ncomps)\n",
    "tToWf = scipy.interpolate.interp1d(frameTimes, svdTemp, axis=0, fill_value='extrapolate')\n",
    "spatial = svdSpatFull.reshape(560*560,-1)"
   ]
  },
  {
   "cell_type": "code",
   "execution_count": 163,
   "id": "047e21b4-3de8-4295-a485-b7b2443d378a",
   "metadata": {},
   "outputs": [],
   "source": [
    "stimFreqs = []\n",
    "for stim in stimFlips:\n",
    "    stimFreqs.append(len(stim))"
   ]
  },
  {
   "cell_type": "code",
   "execution_count": 36,
   "id": "65fdaddb-0a88-42c4-8b92-e9dac3bcf9fb",
   "metadata": {},
   "outputs": [
    {
     "name": "stdout",
     "output_type": "stream",
     "text": [
      "[  8  16  24  32  40  48  56  64  72  80  88  96 104 112 120]\n"
     ]
    }
   ],
   "source": [
    "print(np.unique(stimFreqs))"
   ]
  },
  {
   "cell_type": "code",
   "execution_count": 45,
   "id": "68116865-e1a7-464d-88bf-f8f7a2bb4288",
   "metadata": {
    "collapsed": true,
    "jupyter": {
     "outputs_hidden": true
    }
   },
   "outputs": [
    {
     "data": {
      "text/plain": [
       "[120,\n",
       " 96,\n",
       " 72,\n",
       " 48,\n",
       " 72,\n",
       " 48,\n",
       " 48,\n",
       " 56,\n",
       " 64,\n",
       " 104,\n",
       " 64,\n",
       " 56,\n",
       " 16,\n",
       " 24,\n",
       " 8,\n",
       " 88,\n",
       " 80,\n",
       " 104,\n",
       " 64,\n",
       " 48,\n",
       " 40,\n",
       " 104,\n",
       " 16,\n",
       " 48,\n",
       " 48,\n",
       " 112,\n",
       " 96,\n",
       " 112,\n",
       " 48,\n",
       " 104,\n",
       " 24,\n",
       " 32,\n",
       " 80,\n",
       " 40,\n",
       " 40,\n",
       " 72,\n",
       " 16,\n",
       " 64,\n",
       " 80,\n",
       " 88,\n",
       " 40,\n",
       " 120,\n",
       " 120,\n",
       " 120,\n",
       " 8,\n",
       " 112,\n",
       " 112,\n",
       " 120,\n",
       " 32,\n",
       " 80,\n",
       " 40,\n",
       " 56,\n",
       " 112,\n",
       " 80,\n",
       " 96,\n",
       " 96,\n",
       " 112,\n",
       " 40,\n",
       " 88,\n",
       " 96,\n",
       " 24,\n",
       " 120,\n",
       " 32,\n",
       " 72,\n",
       " 112,\n",
       " 8,\n",
       " 64,\n",
       " 80,\n",
       " 56,\n",
       " 72,\n",
       " 120,\n",
       " 8,\n",
       " 96,\n",
       " 8,\n",
       " 88,\n",
       " 8,\n",
       " 120,\n",
       " 40,\n",
       " 8,\n",
       " 80,\n",
       " 16,\n",
       " 64,\n",
       " 24,\n",
       " 40,\n",
       " 24,\n",
       " 32,\n",
       " 96,\n",
       " 16,\n",
       " 72,\n",
       " 40,\n",
       " 104,\n",
       " 88,\n",
       " 88,\n",
       " 104,\n",
       " 48,\n",
       " 8,\n",
       " 24,\n",
       " 8,\n",
       " 24,\n",
       " 64,\n",
       " 80,\n",
       " 104,\n",
       " 72,\n",
       " 8,\n",
       " 56,\n",
       " 64,\n",
       " 56,\n",
       " 48,\n",
       " 24,\n",
       " 104,\n",
       " 88,\n",
       " 40,\n",
       " 40,\n",
       " 88,\n",
       " 48,\n",
       " 16,\n",
       " 104,\n",
       " 112,\n",
       " 40,\n",
       " 40,\n",
       " 48,\n",
       " 104,\n",
       " 72,\n",
       " 112,\n",
       " 88,\n",
       " 16,\n",
       " 96,\n",
       " 8,\n",
       " 80,\n",
       " 16,\n",
       " 16,\n",
       " 80,\n",
       " 88,\n",
       " 96,\n",
       " 16,\n",
       " 56,\n",
       " 112,\n",
       " 48,\n",
       " 120,\n",
       " 64,\n",
       " 112,\n",
       " 48,\n",
       " 48,\n",
       " 48,\n",
       " 48,\n",
       " 80,\n",
       " 8,\n",
       " 32,\n",
       " 80,\n",
       " 32,\n",
       " 112,\n",
       " 88,\n",
       " 64,\n",
       " 56,\n",
       " 112,\n",
       " 72,\n",
       " 56,\n",
       " 72,\n",
       " 24,\n",
       " 24,\n",
       " 8,\n",
       " 32,\n",
       " 120,\n",
       " 8,\n",
       " 16,\n",
       " 112,\n",
       " 104,\n",
       " 64,\n",
       " 72,\n",
       " 112,\n",
       " 64,\n",
       " 24,\n",
       " 8,\n",
       " 120,\n",
       " 40,\n",
       " 120,\n",
       " 88,\n",
       " 24,\n",
       " 16,\n",
       " 32,\n",
       " 96,\n",
       " 24,\n",
       " 32,\n",
       " 96,\n",
       " 80,\n",
       " 40,\n",
       " 120,\n",
       " 104,\n",
       " 96,\n",
       " 16,\n",
       " 24,\n",
       " 80,\n",
       " 56,\n",
       " 8,\n",
       " 16,\n",
       " 64,\n",
       " 8,\n",
       " 56,\n",
       " 40,\n",
       " 56,\n",
       " 112,\n",
       " 72,\n",
       " 112,\n",
       " 16,\n",
       " 64,\n",
       " 120,\n",
       " 16,\n",
       " 80,\n",
       " 96,\n",
       " 56,\n",
       " 104,\n",
       " 32,\n",
       " 96,\n",
       " 56,\n",
       " 120,\n",
       " 88,\n",
       " 80,\n",
       " 96,\n",
       " 56,\n",
       " 56,\n",
       " 64,\n",
       " 112,\n",
       " 80,\n",
       " 120,\n",
       " 40,\n",
       " 8,\n",
       " 32,\n",
       " 56,\n",
       " 8,\n",
       " 104,\n",
       " 24,\n",
       " 112,\n",
       " 48,\n",
       " 16,\n",
       " 48,\n",
       " 16,\n",
       " 104,\n",
       " 104,\n",
       " 64,\n",
       " 120,\n",
       " 8,\n",
       " 104,\n",
       " 112,\n",
       " 120,\n",
       " 120,\n",
       " 72,\n",
       " 48,\n",
       " 16,\n",
       " 88,\n",
       " 96,\n",
       " 88,\n",
       " 32,\n",
       " 40,\n",
       " 72,\n",
       " 96,\n",
       " 48,\n",
       " 88,\n",
       " 56,\n",
       " 56,\n",
       " 16,\n",
       " 104,\n",
       " 88,\n",
       " 96,\n",
       " 56,\n",
       " 40,\n",
       " 48,\n",
       " 48,\n",
       " 64,\n",
       " 40,\n",
       " 32,\n",
       " 88,\n",
       " 48,\n",
       " 96,\n",
       " 88,\n",
       " 72,\n",
       " 16,\n",
       " 120,\n",
       " 88,\n",
       " 80,\n",
       " 16,\n",
       " 64,\n",
       " 48,\n",
       " 96,\n",
       " 88,\n",
       " 120,\n",
       " 8,\n",
       " 56,\n",
       " 120,\n",
       " 80,\n",
       " 32,\n",
       " 40,\n",
       " 104,\n",
       " 88,\n",
       " 88,\n",
       " 72,\n",
       " 112,\n",
       " 8,\n",
       " 112,\n",
       " 104,\n",
       " 88,\n",
       " 96,\n",
       " 72,\n",
       " 16,\n",
       " 56,\n",
       " 96,\n",
       " 72,\n",
       " 80,\n",
       " 56,\n",
       " 104,\n",
       " 112,\n",
       " 104,\n",
       " 80,\n",
       " 32,\n",
       " 64,\n",
       " 32,\n",
       " 80,\n",
       " 112,\n",
       " 96,\n",
       " 40,\n",
       " 104,\n",
       " 40,\n",
       " 120,\n",
       " 80,\n",
       " 96,\n",
       " 72,\n",
       " 32,\n",
       " 32,\n",
       " 56,\n",
       " 32,\n",
       " 64,\n",
       " 24,\n",
       " 120,\n",
       " 32,\n",
       " 32,\n",
       " 40,\n",
       " 24,\n",
       " 112,\n",
       " 8,\n",
       " 40,\n",
       " 64,\n",
       " 64,\n",
       " 24,\n",
       " 80,\n",
       " 88,\n",
       " 88,\n",
       " 32,\n",
       " 8,\n",
       " 104,\n",
       " 88,\n",
       " 8,\n",
       " 24,\n",
       " 24,\n",
       " 48,\n",
       " 72,\n",
       " 112,\n",
       " 56,\n",
       " 24,\n",
       " 24,\n",
       " 64,\n",
       " 64,\n",
       " 24,\n",
       " 72,\n",
       " 112,\n",
       " 88,\n",
       " 24,\n",
       " 48,\n",
       " 8,\n",
       " 120,\n",
       " 72,\n",
       " 80,\n",
       " 24,\n",
       " 104,\n",
       " 80,\n",
       " 120,\n",
       " 24,\n",
       " 104,\n",
       " 40,\n",
       " 96,\n",
       " 16,\n",
       " 56,\n",
       " 48,\n",
       " 96,\n",
       " 32,\n",
       " 16,\n",
       " 8,\n",
       " 80,\n",
       " 56,\n",
       " 64,\n",
       " 32,\n",
       " 80,\n",
       " 72,\n",
       " 80,\n",
       " 104,\n",
       " 72,\n",
       " 72,\n",
       " 56,\n",
       " 56,\n",
       " 64,\n",
       " 72,\n",
       " 32,\n",
       " 8,\n",
       " 8,\n",
       " 16,\n",
       " 104,\n",
       " 48,\n",
       " 120,\n",
       " 112,\n",
       " 32,\n",
       " 56,\n",
       " 64,\n",
       " 32,\n",
       " 80,\n",
       " 8,\n",
       " 32,\n",
       " 48,\n",
       " 40,\n",
       " 64,\n",
       " 24,\n",
       " 104,\n",
       " 32,\n",
       " 120,\n",
       " 64,\n",
       " 40,\n",
       " 120,\n",
       " 16,\n",
       " 72,\n",
       " 104,\n",
       " 24,\n",
       " 112,\n",
       " 120,\n",
       " 64,\n",
       " 16,\n",
       " 96,\n",
       " 72,\n",
       " 24,\n",
       " 112,\n",
       " 32,\n",
       " 24,\n",
       " 16,\n",
       " 96,\n",
       " 48,\n",
       " 96,\n",
       " 96,\n",
       " 16,\n",
       " 72,\n",
       " 40,\n",
       " 88,\n",
       " 88,\n",
       " 72,\n",
       " 40]"
      ]
     },
     "execution_count": 45,
     "metadata": {},
     "output_type": "execute_result"
    }
   ],
   "source": [
    "stimFreqs"
   ]
  },
  {
   "cell_type": "code",
   "execution_count": null,
   "id": "b3404f38-bda7-4458-9e96-41017bf99525",
   "metadata": {},
   "outputs": [],
   "source": [
    "# create a graph for freq of 64 (32?) i guess\n",
    "\n",
    "# indexes where the freq is 64\n",
    "index64 = [i for i,x in enumerate(stimFreqs) if x == 120]\n",
    "#find startTimes where its 64\n",
    "startTimes64 = startTimes[index64]\n",
    "#find activity where its 64\n",
    "\n",
    "# activity64 = tToWf([x+2 for x in startTimes64])\n",
    "# video = spatial @ activity64\n",
    "# video = video.reshape(560, 560, -1)"
   ]
  },
  {
   "cell_type": "code",
   "execution_count": null,
   "id": "af559162-8bf9-416b-bfbd-3c8eb49f63d0",
   "metadata": {},
   "outputs": [],
   "source": [
    "allVideos = []\n",
    "for time in startTimes64:\n",
    "    trial_activity = tToWf(np.linspace(time,time+2,100))\n",
    "    dwf = [np.diff(i, prepend=i[0]) for i in trial_activity.T]\n",
    "    dwf = np.array(dwf)\n",
    "    \n",
    "    # avg_trial_activity = np.mean(dwf, axis=1)\n",
    "    \n",
    "    video = spatial @ dwf\n",
    "    video = video.reshape(560,560,-1)\n",
    "    # video = np.mean(videoAvg, axis=2)\n",
    "    \n",
    "    allVideos.append(video)\n",
    "    \n",
    "allVideos = np.array(allVideos)"
   ]
  },
  {
   "cell_type": "code",
   "execution_count": null,
   "id": "b87f0988-7cf3-43db-a670-8fd4263307b6",
   "metadata": {},
   "outputs": [],
   "source": [
    "allVideos.shape"
   ]
  },
  {
   "cell_type": "code",
   "execution_count": null,
   "id": "78941892-c8cc-41d1-a98c-5691965d892a",
   "metadata": {},
   "outputs": [],
   "source": [
    "video = np.mean(allVideos,axis=0)"
   ]
  },
  {
   "cell_type": "code",
   "execution_count": null,
   "id": "fd8dcfd5-284f-410e-b8dc-da8662816f03",
   "metadata": {},
   "outputs": [],
   "source": [
    "video.shape"
   ]
  },
  {
   "cell_type": "code",
   "execution_count": 135,
   "id": "2adb6e61-017c-41c9-a420-3918589d44b3",
   "metadata": {
    "collapsed": true,
    "jupyter": {
     "outputs_hidden": true
    }
   },
   "outputs": [
    {
     "ename": "IndexError",
     "evalue": "index 198 is out of bounds for axis 2 with size 100",
     "output_type": "error",
     "traceback": [
      "\u001b[1;31m---------------------------------------------------------------------------\u001b[0m",
      "\u001b[1;31mIndexError\u001b[0m                                Traceback (most recent call last)",
      "Cell \u001b[1;32mIn[135], line 14\u001b[0m\n\u001b[0;32m      1\u001b[0m \u001b[38;5;66;03m# n_col=5\u001b[39;00m\n\u001b[0;32m      2\u001b[0m \u001b[38;5;66;03m# n_row=10\u001b[39;00m\n\u001b[0;32m      3\u001b[0m \u001b[38;5;66;03m# f = plt.figure(figsize=(n_col*3, n_row*3))\u001b[39;00m\n\u001b[1;32m   (...)\u001b[0m\n\u001b[0;32m     11\u001b[0m \n\u001b[0;32m     12\u001b[0m \u001b[38;5;66;03m# f.tight_layout()\u001b[39;00m\n\u001b[1;32m---> 14\u001b[0m plt\u001b[38;5;241m.\u001b[39mimshow(\u001b[43mvideo\u001b[49m\u001b[43m[\u001b[49m\u001b[43m:\u001b[49m\u001b[43m,\u001b[49m\u001b[43m \u001b[49m\u001b[43m:\u001b[49m\u001b[43m,\u001b[49m\u001b[43m \u001b[49m\u001b[43mi\u001b[49m\u001b[38;5;241;43m*\u001b[39;49m\u001b[38;5;241;43m2\u001b[39;49m\u001b[43m]\u001b[49m, clim \u001b[38;5;241m=\u001b[39m np\u001b[38;5;241m.\u001b[39mpercentile(video, (\u001b[38;5;241m2\u001b[39m, \u001b[38;5;241m99.9\u001b[39m)), cmap\u001b[38;5;241m=\u001b[39m\u001b[38;5;124m'\u001b[39m\u001b[38;5;124mbwr\u001b[39m\u001b[38;5;124m'\u001b[39m)\n\u001b[0;32m     15\u001b[0m ax \u001b[38;5;241m=\u001b[39m plt\u001b[38;5;241m.\u001b[39mgca()\n\u001b[0;32m     17\u001b[0m \u001b[38;5;66;03m# Create a Rectangle patch\u001b[39;00m\n",
      "\u001b[1;31mIndexError\u001b[0m: index 198 is out of bounds for axis 2 with size 100"
     ]
    }
   ],
   "source": [
    "# n_col=5\n",
    "# n_row=10\n",
    "# f = plt.figure(figsize=(n_col*3, n_row*3))\n",
    "# gs = mpl.gridspec.GridSpec(n_row, n_col)\n",
    "# clim = np.percentile(allVideos,(2,99.9))\n",
    "\n",
    "# for i in range(50):\n",
    "#     ax = plt.subplot(gs[i])\n",
    "#     brain=plt.imshow(video[:, :, i*2], clim = np.percentile(video, (2, 99.9)), cmap='bwr')\n",
    "#     plt.colorbar(brain)\n",
    "\n",
    "# f.tight_layout()\n",
    "\n",
    "plt.imshow(video[:, :, i*2], clim = np.percentile(video, (2, 99.9)), cmap='bwr')\n",
    "ax = plt.gca()\n",
    "\n",
    "# Create a Rectangle patch\n",
    "rect = Rectangle((100,380),120,120,linewidth=1,edgecolor='r',facecolor='none')\n",
    "\n",
    "# Add the patch to the Axes\n",
    "ax.add_patch(rect)"
   ]
  },
  {
   "cell_type": "code",
   "execution_count": 146,
   "id": "425c504b-71da-4ded-8861-7bb332a0aae3",
   "metadata": {},
   "outputs": [],
   "source": [
    "# plot pixel activity in this area? average a set of pixels\n",
    "# plain ol pixel activity over timecourse\n",
    "vc = []\n",
    "# array of activities\n",
    "\n",
    "for condition in allVideos:\n",
    "    trialAvgs = []\n",
    "    for i in range(100):\n",
    "        ROI = np.mean(condition[380:500,120:220,i])\n",
    "        trialAvgs.append(ROI)\n",
    "    vc.append(trialAvgs)\n",
    "vc = np.array(vc)"
   ]
  },
  {
   "cell_type": "code",
   "execution_count": 147,
   "id": "e726be50-c647-4a0a-8091-9846b2a2183c",
   "metadata": {},
   "outputs": [
    {
     "data": {
      "text/plain": [
       "(30, 100)"
      ]
     },
     "execution_count": 147,
     "metadata": {},
     "output_type": "execute_result"
    }
   ],
   "source": [
    "vc.shape"
   ]
  },
  {
   "cell_type": "code",
   "execution_count": 148,
   "id": "ff1210b8-0dc1-4ede-b200-7ec2c5ddc802",
   "metadata": {},
   "outputs": [
    {
     "data": {
      "image/png": "[encoded data removed]",
      "text/plain": [
       "<Figure size 640x480 with 1 Axes>"
      ]
     },
     "metadata": {},
     "output_type": "display_data"
    }
   ],
   "source": [
    "for stim in vc:\n",
    "   plt.plot(stim,'o',markersize=1,color='black')\n",
    "plt.xlabel('time (ms)')\n",
    "plt.ylabel('activity')\n",
    "plt.title('120 flips')\n",
    "plt.show()"
   ]
  },
  {
   "cell_type": "code",
   "execution_count": null,
   "id": "180d8257-2402-4a9c-85e4-bdc59e295dd1",
   "metadata": {},
   "outputs": [
    {
     "data": {
      "image/png": "[encoded data removed]",
      "text/plain": [
       "<Figure size 1500x1200 with 1 Axes>"
      ]
     },
     "metadata": {},
     "output_type": "display_data"
    },
    {
     "data": {
      "image/png": "[encoded data removed]",
      "text/plain": [
       "<Figure size 640x480 with 1 Axes>"
      ]
     },
     "metadata": {},
     "output_type": "display_data"
    },
    {
     "data": {
      "image/png": "[encoded data removed]",
      "text/plain": [
       "<Figure size 640x480 with 1 Axes>"
      ]
     },
     "metadata": {},
     "output_type": "display_data"
    },
    {
     "data": {
      "image/png": "[encoded data removed]",
      "text/plain": [
       "<Figure size 640x480 with 1 Axes>"
      ]
     },
     "metadata": {},
     "output_type": "display_data"
    },
    {
     "data": {
      "image/png": "[encoded data removed]",
      "text/plain": [
       "<Figure size 640x480 with 1 Axes>"
      ]
     },
     "metadata": {},
     "output_type": "display_data"
    },
    {
     "data": {
      "image/png": "[encoded data removed]",
      "text/plain": [
       "<Figure size 640x480 with 1 Axes>"
      ]
     },
     "metadata": {},
     "output_type": "display_data"
    }
   ],
   "source": [
    "allVideos=[]\n",
    "n_col=5\n",
    "n_row=4\n",
    "f = plt.figure(figsize=(n_col*3, n_row*3))\n",
    "gs = mpl.gridspec.GridSpec(n_row, n_col)\n",
    "for count,freq in enumerate(np.unique(stimFreqs)):\n",
    "    ax = plt.subplot(gs[count])\n",
    "    index = [i for i,x in enumerate(stimFreqs) if x == freq]\n",
    "    startTimesFreq = startTimes[index]\n",
    "    allVideos = []\n",
    "    for time in startTimesFreq:\n",
    "        trial_activity = tToWf(np.linspace(time,time+2,100))\n",
    "        dwf = [np.diff(i, prepend=i[0]) for i in trial_activity.T]\n",
    "        dwf = np.array(dwf)\n",
    "    \n",
    "        video = spatial @ dwf\n",
    "        video = video.reshape(560,560,-1)\n",
    "        \n",
    "        allVideos.append(video)\n",
    "        \n",
    "    allVideos = np.array(allVideos)\n",
    "    clim = np.percentile(allVideos,(2,99.9))\n",
    "    vc=[]\n",
    "    for condition in allVideos:\n",
    "        trialAvgs = []\n",
    "        for i in range(100):\n",
    "            ROI = np.mean(condition[380:500,120:220,i])\n",
    "            trialAvgs.append(ROI)\n",
    "        vc.append(trialAvgs)\n",
    "    vc = np.array(vc)\n",
    "    for stim in vc:\n",
    "        plt.plot(stim,'o',markersize=1,color='black')\n",
    "    plt.xlabel('time (ms)')\n",
    "    plt.ylabel('activity')\n",
    "    plt.title(f'{freq} flips')\n",
    "    plt.show()\n",
    "    f.tight_layout()"
   ]
  },
  {
   "cell_type": "code",
   "execution_count": 149,
   "id": "056349dc-d9eb-48d8-9794-5d2d394cf38d",
   "metadata": {},
   "outputs": [
    {
     "name": "stdout",
     "output_type": "stream",
     "text": [
      "15\n"
     ]
    }
   ],
   "source": [
    "print(len(np.unique(stimFreqs)))"
   ]
  },
  {
   "cell_type": "code",
   "execution_count": 152,
   "id": "010bdb20-24cf-4543-a445-0a39a2ba0bca",
   "metadata": {},
   "outputs": [
    {
     "name": "stdin",
     "output_type": "stream",
     "text": [
      "Once deleted, variables cannot be recovered. Proceed (y/[n])?  y\n"
     ]
    }
   ],
   "source": [
    "%reset"
   ]
  },
  {
   "cell_type": "code",
   "execution_count": null,
   "id": "fe9e28c7-7663-4e75-8797-4c0879d61193",
   "metadata": {},
   "outputs": [],
   "source": []
  }
 ],
 "metadata": {
  "kernelspec": {
   "display_name": "Python 3 (ipykernel)",
   "language": "python",
   "name": "python3"
  },
  "language_info": {
   "codemirror_mode": {
    "name": "ipython",
    "version": 3
   },
   "file_extension": ".py",
   "mimetype": "text/x-python",
   "name": "python",
   "nbconvert_exporter": "python",
   "pygments_lexer": "ipython3",
   "version": "3.10.12"
  }
 },
 "nbformat": 4,
 "nbformat_minor": 5
}
