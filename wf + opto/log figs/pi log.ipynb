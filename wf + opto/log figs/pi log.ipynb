{
 "cells": [
  {
   "cell_type": "code",
   "execution_count": 4,
   "metadata": {},
   "outputs": [],
   "source": [
    "import collections\n",
    "from datetime import datetime\n",
    "from IPython.display import clear_output, display, HTML\n",
    "import itertools\n",
    "import matplotlib.pyplot as plt\n",
    "import matplotlib as mpl\n",
    "import numpy as np\n",
    "import os\n",
    "from pathlib import Path\n",
    "import pickle\n",
    "import scipy\n",
    "# import seaborn as sns\n",
    "import sklearn\n",
    "from sklearn.decomposition import PCA\n",
    "import sys\n",
    "from scipy.ndimage import gaussian_filter1d\n",
    "import imageio\n",
    "from IPython.display import HTML\n",
    "import pytoolsAL as ptAL\n",
    "mpl.rcParams['pdf.fonttype'] = 42\n",
    "\n",
    "import sys\n",
    "sys.path.append(\"C:/Users/nadia/Documents/GitHub/steinmetzlab/wf + opto/figure-making\")\n",
    "from wfOpto import *"
   ]
  },
  {
   "cell_type": "code",
   "execution_count": 5,
   "metadata": {},
   "outputs": [],
   "source": [
    "#work\n",
    "plt.style.use(r'C:\\Users\\nadia\\Documents\\GitHub\\steinmetzlab\\ALpres.mplstyle')"
   ]
  },
  {
   "cell_type": "code",
   "execution_count": null,
   "metadata": {},
   "outputs": [],
   "source": [
    "data = wfOpto(Path(r'Y:\\Subjects\\AL_0033\\2025-01-28\\1'))"
   ]
  },
  {
   "cell_type": "code",
   "execution_count": null,
   "metadata": {},
   "outputs": [],
   "source": [
    "plt.imshow(data.meanImage, cmap='bwr')\n",
    "plt.scatter(x=120,y=380)"
   ]
  },
  {
   "cell_type": "code",
   "execution_count": null,
   "metadata": {},
   "outputs": [],
   "source": [
    "name='AL33'\n",
    "date='01-28'"
   ]
  },
  {
   "cell_type": "code",
   "execution_count": null,
   "metadata": {},
   "outputs": [],
   "source": [
    "data=data\n",
    "powers=np.unique(data.laserPowers).ravel()\n",
    "galvoX=0;galvoY=3;x=120;y=400;width=15;anchor=(1,1)\n",
    "ylim=[-0.008,0.001];start=-0.3;end=1;xlim=[-0.01,0.5]\n",
    "n_samples = round(start*-1+end)*35\n",
    "colors=plt.cm.inferno(np.linspace(.4,1,13))\n",
    "pxPowers = []\n",
    "sems=[]\n",
    "timestamps = np.linspace(start, end, n_samples)\n",
    "galvoXTr=np.argwhere(data.galvoX==galvoX).ravel()\n",
    "galvoYTr=np.argwhere(data.galvoY==galvoY).ravel()\n",
    "loc=np.intersect1d(galvoXTr,galvoYTr)\n",
    "\n",
    "meanimg = data.meanImage.reshape(560,560,-1)\n",
    "avg = meanimg[(y-width):(y+width),(x-width):(x+width)]\n",
    "avg = np.mean(avg,axis=(0,1))\n",
    "\n",
    "y_range = np.arange(y - width, y + width)\n",
    "x_range = np.arange(x - width, x + width)\n",
    "# Create a meshgrid of the coordinates\n",
    "y_coords, x_coords = np.meshgrid(y_range, x_range, indexing='ij')\n",
    "# Flatten the coordinate arrays\n",
    "y_coords_flat = y_coords.flatten()\n",
    "x_coords_flat = x_coords.flatten()\n",
    "# Use np.ravel_multi_index to convert multi-dimensional indices to flat indices\n",
    "flat_indices = np.ravel_multi_index((y_coords_flat, x_coords_flat), (560, 560))\n",
    "\n",
    "for power in powers:\n",
    "    pwTrs = np.argwhere(data.laserPowers== power).ravel()\n",
    "    theseTrs=np.intersect1d(pwTrs,loc)\n",
    "    onTimes = data.laserOn[theseTrs]\n",
    "    trs = [np.linspace(start+on, end+on, n_samples) for on in onTimes]\n",
    "    trs = np.squeeze(np.array(trs))\n",
    "\n",
    "    trial_activity=[]\n",
    "    for trial in trs[:45]:\n",
    "        wf = data.tToWFManual(trial)\n",
    "        mov = data.svdSpat[flat_indices] @ wf.T\n",
    "        videoROI_avg = np.mean(mov,axis=0)\n",
    "        dff = videoROI_avg/avg\n",
    "        trial_activity.append(dff)\n",
    "    sems.append(scipy.stats.sem(trial_activity,axis=0))\n",
    "    pxPowers.append(np.mean(trial_activity,axis=0))\n",
    "\n",
    "\n",
    "fig=plt.figure(figsize=(5,2),dpi=300)\n",
    "gs = mpl.gridspec.GridSpec(1,2, figure=fig)\n",
    "width_ratios = [1,1]\n",
    "powerscorr = [round(i/2.777777778,2) for i in powers]\n",
    "\n",
    "ax = plt.subplot(gs[0,0])\n",
    "lines = [plt.plot(timestamps, y, label=f'{powerscorr[i]} mW',color=colors[i])[0] for i, y in enumerate(pxPowers[1:])]\n",
    "\n",
    "for iP, power in enumerate(pxPowers):\n",
    "    plt.fill_between(timestamps, \\\n",
    "            power-sems[iP],\\\n",
    "            power+sems[iP], color=colors[iP],label='_nolegend_',alpha=.5,linewidth=0)\n",
    "\n",
    "plt.axvspan(0,.1,ymin=0.95,ymax=1,color='red',lw=0,alpha=0.5)\n",
    "\n",
    "#set colorbar\n",
    "cm = mpl.cm.ScalarMappable(cmap='inferno') # creates a color mapping object\n",
    "cm.set_clim(0, 1.3) # sets limits to our power mW limits - exp.v_to_mw is 2.7 here\n",
    "# plt.plot(x, y, c=cm.to_rgba(power/2.7), label=f'{power/2.7} mW') # the power variable is in V (taken from data npys)\n",
    "cbar = plt.colorbar(ax=ax,mappable=cm,label='Laser power (mW)') # tells the colorbar to use your colormap object\n",
    "cbar.set_ticks([0,1.3])\n",
    "cbar.outline.set_visible(False)\n",
    "\n",
    "#make scale bars\n",
    "t_bar_s = 0.1 # length of time bar\n",
    "dff_bar = 0.03 # length of dff bar\n",
    "x_start = 0 - 0.13 # where the bar should start\n",
    "y_start = -0.016 # where the bar should start\n",
    "\n",
    "plt.ylim([-.08,0.08])\n",
    "plt.xlim([-.1,0.6])\n",
    "plt.axhline(0, color='k', linestyle='--',lw=0.5)\n",
    "plt.plot([x_start, x_start+t_bar_s], [y_start, y_start], c='k', lw=2, clip_on=False) # these plot the bars\n",
    "plt.plot([x_start, x_start], [y_start, y_start+dff_bar], c='k', lw=2, clip_on=False)\n",
    "plt.text(x_start, y_start-0.01, f'{t_bar_s*1000:.0f} ms', ha='left', va='top', fontsize='x-small') # these are the text\n",
    "plt.text(x_start-0.05, y_start, f'{dff_bar*100:.0f} % dF/F', ha='right', va='bottom', rotation=90, fontsize='x-small')\n",
    "plt.axvspan(0,0.1,ymin=0.95,ymax=1,color='red',lw=0,alpha=0.5)\n",
    "plt.title(f'Loc ({galvoX},{galvoY})')\n",
    "ax.spines['left'].set_visible(False)\n",
    "ax.spines['bottom'].set_visible(False)\n",
    "plt.xticks([])\n",
    "plt.yticks([])"
   ]
  },
  {
   "cell_type": "code",
   "execution_count": null,
   "metadata": {},
   "outputs": [],
   "source": [
    "fig.savefig(f'opto/{name}_{date}_pi.png',dpi=300)"
   ]
  }
 ],
 "metadata": {
  "kernelspec": {
   "display_name": "steinmetzlab",
   "language": "python",
   "name": "python3"
  },
  "language_info": {
   "codemirror_mode": {
    "name": "ipython",
    "version": 3
   },
   "file_extension": ".py",
   "mimetype": "text/x-python",
   "name": "python",
   "nbconvert_exporter": "python",
   "pygments_lexer": "ipython3",
   "version": "3.12.1"
  }
 },
 "nbformat": 4,
 "nbformat_minor": 2
}
