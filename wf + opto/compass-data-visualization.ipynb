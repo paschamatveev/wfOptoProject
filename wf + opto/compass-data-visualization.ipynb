{
 "cells": [
  {
   "cell_type": "markdown",
   "metadata": {},
   "source": [
    "## visual decoding"
   ]
  },
  {
   "cell_type": "markdown",
   "metadata": {},
   "source": [
    "- percieved intensity and vs actual intensity\n",
    "- perceptually uniform colormaps are best\n",
    "    - deaths\n",
    "\n",
    "\n",
    "- continuous, sequential data [0,100] use sequential\n",
    "- diverging data ([-100, 100], like a correlation) use a divergent colormap\n",
    "- discrete versions of all the colormaps exist\n",
    "- categorical data \n",
    "    - sequential colormap that has been discretized\n",
    "    - when put in greyscale, you can still decode the info (colorblind people) each color has a differnet brightness\n"
   ]
  },
  {
   "cell_type": "markdown",
   "metadata": {},
   "source": [
    "website - storytelling with data. recreating poor data visualizations"
   ]
  },
  {
   "cell_type": "markdown",
   "metadata": {},
   "source": [
    "## contextual adjustments\n"
   ]
  },
  {
   "cell_type": "markdown",
   "metadata": {},
   "source": [
    "presentaiton, poster, or paper\n",
    "- time to understand\n",
    "- proximity to it\n",
    "- text explanations\n",
    "- self explanatory"
   ]
  },
  {
   "cell_type": "markdown",
   "metadata": {},
   "source": [
    "different channels you can use\n",
    "- magnitudes\n",
    "    - position on a common scale > positions on unaligned scale > length > tilt/angle > area\n",
    "- identity\n",
    "    - spatial region > color hue > ..\n",
    "    - text on the legend\n"
   ]
  },
  {
   "cell_type": "markdown",
   "metadata": {},
   "source": [
    "## visual encoding"
   ]
  },
  {
   "cell_type": "markdown",
   "metadata": {},
   "source": [
    "creating a figure :)"
   ]
  },
  {
   "cell_type": "code",
   "execution_count": 1,
   "metadata": {},
   "outputs": [],
   "source": [
    "import matplotlib.pyplot as plt\n",
    "import seaborn as sns\n",
    "import plotly as px"
   ]
  },
  {
   "cell_type": "code",
   "execution_count": 2,
   "metadata": {},
   "outputs": [
    {
     "ename": "NameError",
     "evalue": "name 'plt' is not defined",
     "output_type": "error",
     "traceback": [
      "\u001b[1;31m---------------------------------------------------------------------------\u001b[0m",
      "\u001b[1;31mNameError\u001b[0m                                 Traceback (most recent call last)",
      "Cell \u001b[1;32mIn[2], line 1\u001b[0m\n\u001b[1;32m----> 1\u001b[0m \u001b[43mplt\u001b[49m\u001b[38;5;241m.\u001b[39mbar(x\u001b[38;5;241m=\u001b[39mx,y\u001b[38;5;241m=\u001b[39my) \u001b[38;5;66;03m#matplotlib\u001b[39;00m\n\u001b[0;32m      2\u001b[0m sns\u001b[38;5;241m.\u001b[39mbarplot(x\u001b[38;5;241m=\u001b[39mx,y\u001b[38;5;241m=\u001b[39my) \u001b[38;5;66;03m#seaborn\u001b[39;00m\n",
      "\u001b[1;31mNameError\u001b[0m: name 'plt' is not defined"
     ]
    }
   ],
   "source": [
    "plt.bar(x=x,y=y) #matplotlib\n",
    "sns.barplot(x=x,y=y) #seaborn"
   ]
  },
  {
   "cell_type": "code",
   "execution_count": null,
   "metadata": {},
   "outputs": [],
   "source": [
    "#making a datframe"
   ]
  },
  {
   "cell_type": "code",
   "execution_count": null,
   "metadata": {},
   "outputs": [],
   "source": [
    "#subplots\n",
    "\n",
    "fig, axs = plt.subplots(1,4,figsize=(10,3))\n",
    "axs[0].bar()\n",
    "sns.barplot()"
   ]
  },
  {
   "cell_type": "markdown",
   "metadata": {},
   "source": [
    "### more complicated plots"
   ]
  },
  {
   "cell_type": "markdown",
   "metadata": {},
   "source": [
    "repository - friendsdontletfriends (make bad plots)"
   ]
  },
  {
   "cell_type": "markdown",
   "metadata": {},
   "source": [
    "1) no bar plots for means separation \n",
    "    - hides that the two groups are very different\n",
    "    - most evident in a swarm (?) plot\n",
    "easy to use seaborn on a dataframe to create this \n",
    "\n",
    "barplot starts at 0, but data goes negative\n",
    "\n",
    "what if we still wanna see the mean and the statistical spread? \n",
    "- color dots with a diverging colormap \n",
    "- median and std\n"
   ]
  },
  {
   "cell_type": "markdown",
   "metadata": {},
   "source": [
    "2) no heatmaps without checking outliers\n",
    "    - outliers disguide patterns in your heatmap\n",
    "    - can max out the range at 90-somethingth percentile so outliers are left out \n",
    "    "
   ]
  },
  {
   "cell_type": "markdown",
   "metadata": {},
   "source": [
    "3) no pie charts\n",
    "    - hard to compare groups\n",
    "    - arc lengths are reduntant \n",
    "        - can make a donut plot to have the arc lengths \n",
    "        - can make a stacked bar chart - BUT - this forces you to decode values from unaligned axes. you have to focus on calculating the numbers\n",
    "    - **mini bar charts!**\n",
    "        - lets axes be aligned for all types of plots"
   ]
  },
  {
   "cell_type": "markdown",
   "metadata": {},
   "source": [
    "4) no word clouds\n",
    "    - how much bigger is one word than the other? how does the length factor in the size? do the colors actually mean anything? what does it mean when words are oriented differnetly?\n",
    "    - bar chart - easier to decode accurately "
   ]
  },
  {
   "cell_type": "markdown",
   "metadata": {},
   "source": [
    "### code styles"
   ]
  },
  {
   "cell_type": "markdown",
   "metadata": {},
   "source": [
    "explicit \n",
    "- make the axis object and use methods on that object \n",
    "    \n",
    "    fig,ax = plt.subplot(....)\n",
    "    \n",
    "    ax.plot(...0)\n",
    "    \n",
    "    ax.set_xlabel(....)\n",
    "\n",
    "- more easy to understand where youre doing what\n",
    "\n",
    "implicit \n",
    "- call library many times\n",
    "\n",
    "    plt.figure(...)\n",
    "\n",
    "    plt.plot()\n",
    "\n",
    "    plt.plot()\n",
    "\n",
    "    plt.xlabel()\n",
    "\n",
    "    plt.title()\n",
    "    \n",
    "- just goes on latest axis you made, can go to wrong place\n",
    "\n",
    "3 layers of matplotlib\n",
    "- figure canvas\n",
    "    - area on which figure is drawn\n",
    "- the render\n",
    "    - draws on figure canvas\n",
    "- the artist\n",
    "    - knows how to use the renderer to paint on the canvas\n",
    "    - typicall work here!\n",
    "    - two types\n",
    "        - primitives - things to draw\n",
    "            - line\n",
    "            - rectangle\n",
    "            - text\n",
    "            - image\n",
    "        - containers - where to draw\n",
    "            - figure\n",
    "            - axis\n",
    "\n",
    "what is an artist anyway?\n",
    "- abstract base class"
   ]
  },
  {
   "cell_type": "markdown",
   "metadata": {},
   "source": [
    "slide maker - rise "
   ]
  },
  {
   "cell_type": "markdown",
   "metadata": {},
   "source": []
  }
 ],
 "metadata": {
  "kernelspec": {
   "display_name": "steinmetzlab",
   "language": "python",
   "name": "python3"
  },
  "language_info": {
   "codemirror_mode": {
    "name": "ipython",
    "version": 3
   },
   "file_extension": ".py",
   "mimetype": "text/x-python",
   "name": "python",
   "nbconvert_exporter": "python",
   "pygments_lexer": "ipython3",
   "version": "3.12.1"
  }
 },
 "nbformat": 4,
 "nbformat_minor": 2
}
