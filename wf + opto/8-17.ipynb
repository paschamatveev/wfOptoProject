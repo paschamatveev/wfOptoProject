{
 "cells": [
  {
   "cell_type": "code",
   "execution_count": 1,
   "id": "db19fcf4-288d-4766-8ce3-ed5960366c36",
   "metadata": {},
   "outputs": [
    {
     "name": "stdout",
     "output_type": "stream",
     "text": [
      "pytoolsAL: Modules missing.  Not loading neuropixels.  Message: No module named 'slidingRP'\n",
      "pytoolsAL: Modules missing.  Not loading plotting.  Message: No module named 'pandas'\n"
     ]
    }
   ],
   "source": [
    "from wfOpto import *"
   ]
  },
  {
   "cell_type": "code",
   "execution_count": null,
   "id": "451cc750-1c3c-43d7-b161-db9efa5f58d2",
   "metadata": {},
   "outputs": [],
   "source": [
    "data816 = wfOpto(Path(r'Z:\\Subjects\\ZYE_0069\\2023-08-17\\1'))"
   ]
  }
 ],
 "metadata": {
  "kernelspec": {
   "display_name": "Python 3 (ipykernel)",
   "language": "python",
   "name": "python3"
  },
  "language_info": {
   "codemirror_mode": {
    "name": "ipython",
    "version": 3
   },
   "file_extension": ".py",
   "mimetype": "text/x-python",
   "name": "python",
   "nbconvert_exporter": "python",
   "pygments_lexer": "ipython3",
   "version": "3.10.12"
  }
 },
 "nbformat": 4,
 "nbformat_minor": 5
}
