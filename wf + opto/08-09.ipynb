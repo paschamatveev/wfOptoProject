{
 "cells": [
  {
   "cell_type": "code",
   "execution_count": null,
   "id": "4ae5bd54-8ae5-4f6c-8e8d-ad0c91f4838d",
   "metadata": {},
   "outputs": [],
   "source": [
    "from wfOpto import *"
   ]
  },
  {
   "cell_type": "code",
   "execution_count": null,
   "id": "88a79b2a-9a41-4439-a787-02abc383714a",
   "metadata": {},
   "outputs": [],
   "source": [
    "data809 = wfOpto(Path(r'Z:\\Subjects\\AL_0023\\2023-08-09\\x'))"
   ]
  },
  {
   "cell_type": "code",
   "execution_count": null,
   "id": "08e54f12-a2a3-4a64-8e73-a7a29fc96df8",
   "metadata": {},
   "outputs": [],
   "source": [
    "for power in np.unique(data089.laserPowers):\n",
    "    powTrials = np.squeeze(np.argwhere(data809.laserPowers==power))\n",
    "    data089.compareAvgs(powTrials)"
   ]
  }
 ],
 "metadata": {
  "kernelspec": {
   "display_name": "Python 3 (ipykernel)",
   "language": "python",
   "name": "python3"
  },
  "language_info": {
   "codemirror_mode": {
    "name": "ipython",
    "version": 3
   },
   "file_extension": ".py",
   "mimetype": "text/x-python",
   "name": "python",
   "nbconvert_exporter": "python",
   "pygments_lexer": "ipython3",
   "version": "3.10.12"
  }
 },
 "nbformat": 4,
 "nbformat_minor": 5
}
