{
 "cells": [
  {
   "cell_type": "code",
   "execution_count": 8,
   "id": "54d9901c-bf95-46d2-bc49-9e38cf68fbfc",
   "metadata": {},
   "outputs": [],
   "source": [
    "import collections\n",
    "from datetime import datetime\n",
    "from IPython.display import clear_output, display, HTML\n",
    "import itertools\n",
    "import matplotlib.pyplot as plt\n",
    "import matplotlib as mpl\n",
    "import numpy as np\n",
    "import os\n",
    "from pathlib import Path\n",
    "import pickle\n",
    "import scipy\n",
    "# import seaborn as sns\n",
    "import sklearn\n",
    "from sklearn.decomposition import PCA\n",
    "import sys\n",
    "from scipy.ndimage import gaussian_filter1d\n",
    "from wfOpto import *"
   ]
  },
  {
   "cell_type": "code",
   "execution_count": 9,
   "id": "84bb3ae7",
   "metadata": {},
   "outputs": [],
   "source": [
    "data = wfOpto(Path(r'Y:\\Subjects\\AB_0032\\2024-04-25\\1'))"
   ]
  },
  {
   "cell_type": "code",
   "execution_count": 10,
   "id": "248c898f",
   "metadata": {},
   "outputs": [
    {
     "name": "stderr",
     "output_type": "stream",
     "text": [
      "<>:33: SyntaxWarning: invalid escape sequence '\\D'\n",
      "<>:33: SyntaxWarning: invalid escape sequence '\\D'\n",
      "C:\\Users\\nadia\\AppData\\Local\\Temp\\ipykernel_28920\\3408799236.py:33: SyntaxWarning: invalid escape sequence '\\D'\n",
      "  plt.ylabel('Brain Activity ($\\Delta F$/F)')\n"
     ]
    }
   ],
   "source": [
    "def powerDep3Pow(ax,data,ylim):\n",
    "    colors=['deepskyblue','dodgerblue','mediumblue']\n",
    "    powers = np.array([0.2,1.7,3])\n",
    "    pixel = (198, 246)\n",
    "    pxPowers = []\n",
    "    n_samples = 650\n",
    "    timestamps = np.linspace(-0.3, 1, n_samples)*1000\n",
    "\n",
    "    pixel_ix = np.ravel_multi_index((246, 198), (data.py, data.px))\n",
    "    for iP, power in enumerate(powers):\n",
    "        theseTrs = np.argwhere(data.laserPowers == power).ravel()\n",
    "        onTimes = data.laserOn[theseTrs]\n",
    "        trs = [np.linspace(-.3+on, 1+on, n_samples) for on in onTimes]\n",
    "        trs = np.squeeze(np.array(trs))\n",
    "        \n",
    "        thisPower = []\n",
    "        for iT, tr in enumerate(trs):\n",
    "            wf = data.tToWFManual(tr)\n",
    "            dwf = [np.diff(i, prepend=i[0]) for i in wf.T]\n",
    "            dwf = np.array(dwf)\n",
    "            mov = data.svdSpat[pixel_ix] @ dwf\n",
    "            thisPower.append(mov)\n",
    "        thisPower = np.array(thisPower)\n",
    "        pxPowers.append(thisPower)\n",
    "        for c,iP in enumerate(pxPowers):\n",
    "            iP = gaussian_filter1d(iP, sigma=2)\n",
    "        plt.plot(timestamps, np.mean(iP, axis=0),linewidth=2,color=colors[c])\n",
    "        plt.fill_between(timestamps, \\\n",
    "                 np.mean(iP, axis=0)-scipy.stats.sem(iP,axis=0),\\\n",
    "                 np.mean(iP,axis=0)+scipy.stats.sem(iP,axis=0), color=colors[c], label='_nolegend_',alpha=.3,linewidth=0)\n",
    "        plt.legend(['0.07 mW', '0.63 mW', '1.1 mW'], loc='upper right',bbox_to_anchor=(1.2,1))\n",
    "        plt.xlabel('Time (ms)')\n",
    "        plt.ylabel('Brain Activity ($\\Delta F$/F)')\n",
    "        plt.title('3 Powers')\n",
    "        ax.xaxis.set_major_locator(mpl.ticker.MultipleLocator(200))\n",
    "        plt.axvspan(0,100,color='gray',alpha=.2,lw=0,label='_nolegend_')\n",
    "        plt.ylim(ylim)\n",
    "    "
   ]
  },
  {
   "cell_type": "code",
   "execution_count": 11,
   "id": "33cf9698",
   "metadata": {},
   "outputs": [
    {
     "name": "stderr",
     "output_type": "stream",
     "text": [
      "<>:30: SyntaxWarning: invalid escape sequence '\\D'\n",
      "<>:30: SyntaxWarning: invalid escape sequence '\\D'\n",
      "C:\\Users\\nadia\\AppData\\Local\\Temp\\ipykernel_28920\\4209947142.py:30: SyntaxWarning: invalid escape sequence '\\D'\n",
      "  plt.ylabel('$\\Delta F$')\n"
     ]
    }
   ],
   "source": [
    "def powerDepAllPow(ax,data,ylim):\n",
    "    powers = np.unique(data.laserPowers)\n",
    "    pixel = (198, 246)\n",
    "    pxPowers = []\n",
    "    n_samples = 650\n",
    "    timestamps = np.linspace(-0.3, 1, n_samples)*1000\n",
    "\n",
    "    pixel_ix = np.ravel_multi_index((246, 198), (data.py, data.px))\n",
    "    for iP, power in enumerate(powers):\n",
    "        theseTrs = np.argwhere(data.laserPowers == power).ravel()\n",
    "        onTimes = data.laserOn[theseTrs]\n",
    "        trs = [np.linspace(-.3+on, 1+on, n_samples) for on in onTimes]\n",
    "        trs = np.squeeze(np.array(trs))\n",
    "        \n",
    "        thisPower = []\n",
    "        for iT, tr in enumerate(trs):\n",
    "            wf = data.tToWFManual(tr)\n",
    "            dwf = [np.diff(i, prepend=i[0]) for i in wf.T]\n",
    "            dwf = np.array(dwf)\n",
    "            mov = data.svdSpat[pixel_ix] @ dwf\n",
    "            thisPower.append(mov)\n",
    "        thisPower = np.array(thisPower)\n",
    "        pxPowers.append(thisPower)\n",
    "\n",
    "        for iP in pxPowers:\n",
    "            iP = gaussian_filter1d(iP, sigma=2)\n",
    "        plt.plot(timestamps, np.mean(iP, axis=0),color='k')\n",
    "        ax.xaxis.set_major_locator(mpl.ticker.MultipleLocator(200))\n",
    "        plt.xlabel('time (ms)')\n",
    "        plt.ylabel('$\\Delta F$/F')\n",
    "        plt.title('All Powers')\n",
    "        plt.ylim(ylim)"
   ]
  },
  {
   "cell_type": "code",
   "execution_count": 12,
   "id": "238dfa16",
   "metadata": {},
   "outputs": [
    {
     "name": "stderr",
     "output_type": "stream",
     "text": [
      "<>:34: SyntaxWarning: invalid escape sequence '\\D'\n",
      "<>:34: SyntaxWarning: invalid escape sequence '\\D'\n",
      "C:\\Users\\nadia\\AppData\\Local\\Temp\\ipykernel_28920\\572810013.py:34: SyntaxWarning: invalid escape sequence '\\D'\n",
      "  plt.ylabel(\"Brain Activity ($\\Delta F$/F)\")\n"
     ]
    }
   ],
   "source": [
    "def powerQuant(ax,data):\n",
    "    powers = np.unique(data.laserPowers)\n",
    "    pixel = (198, 246)\n",
    "    pxPowers = []\n",
    "    n_samples = 650\n",
    "    timestamps = np.linspace(-0.3, 1, n_samples)*1000\n",
    "\n",
    "    pixel_ix = np.ravel_multi_index((246, 198), (data.py, data.px))\n",
    "    for iP, power in enumerate(powers):\n",
    "        theseTrs = np.argwhere(data.laserPowers == power).ravel()\n",
    "        onTimes = data.laserOn[theseTrs]\n",
    "        trs = [np.linspace(-.3+on, 1+on, n_samples) for on in onTimes]\n",
    "        trs = np.squeeze(np.array(trs))\n",
    "        \n",
    "        thisPower = []\n",
    "        for iT, tr in enumerate(trs):\n",
    "            wf = data.tToWFManual(tr)\n",
    "            dwf = [np.diff(i, prepend=i[0]) for i in wf.T]\n",
    "            dwf = np.array(dwf)\n",
    "            mov = data.svdSpat[pixel_ix] @ dwf\n",
    "            thisPower.append(mov)\n",
    "        thisPower = np.array(thisPower)\n",
    "        pxPowers.append(thisPower)\n",
    "\n",
    "    pixelInterp = scipy.interpolate.interp1d(timestamps, pxPowers, axis=2, fill_value='extrapolate')\n",
    "\n",
    "    time90 = pixelInterp(90)\n",
    "\n",
    "    timeMean = np.mean(time90, axis=1)\n",
    "    plt.plot(powers,timeMean,'-o',c='k',lw=2)\n",
    "    plt.errorbar(powers,timeMean,yerr=.8,c='k')\n",
    "    plt.scatter(powers,timeMean)\n",
    "    plt.xlabel(\"Laser powers (mW)\")\n",
    "    plt.ylabel(\"Brain Activity ($\\Delta F$/F)\")\n",
    "    plt.title(\"Brain inactivation at peak (90 ms)\")"
   ]
  },
  {
   "cell_type": "markdown",
   "id": "7e31db79",
   "metadata": {},
   "source": [
    "## Power:Inactivation figs"
   ]
  },
  {
   "cell_type": "code",
   "execution_count": 17,
   "id": "fe40d484",
   "metadata": {},
   "outputs": [
    {
     "data": {
      "image/png": "[encoded data removed]",
      "text/plain": [
       "<Figure size 1000x300 with 3 Axes>"
      ]
     },
     "metadata": {},
     "output_type": "display_data"
    }
   ],
   "source": [
    "f = plt.figure(figsize=(10, 3))\n",
    "gs = mpl.gridspec.GridSpec(1, 3)\n",
    "\n",
    "ylim=[-40,50]\n",
    "ax = plt.subplot(gs[0])\n",
    "powerDep3Pow(ax,data,ylim)\n",
    "\n",
    "ax = plt.subplot(gs[1])\n",
    "powerDepAllPow(ax,data,ylim)\n",
    "\n",
    "ax = plt.subplot(gs[2])\n",
    "powerQuant(ax,data)\n",
    "\n",
    "f.tight_layout()"
   ]
  },
  {
   "cell_type": "code",
   "execution_count": null,
   "id": "9ff44ef6",
   "metadata": {},
   "outputs": [],
   "source": [
    "mouse='AB_0032'\n",
    "date=\"4/25\""
   ]
  },
  {
   "cell_type": "code",
   "execution_count": null,
   "id": "56ed6173",
   "metadata": {},
   "outputs": [],
   "source": [
    "f.savefig(f'C:\\GitHub\\steinmetzlab\\wf + opto\\figs\\opto\\{mouse}powDep_{date}')"
   ]
  },
  {
   "cell_type": "markdown",
   "id": "922fd2fa",
   "metadata": {},
   "source": [
    "## Stim Length figs"
   ]
  },
  {
   "cell_type": "code",
   "execution_count": 87,
   "id": "17518efc",
   "metadata": {},
   "outputs": [
    {
     "ename": "FileNotFoundError",
     "evalue": "[Errno 2] No such file or directory: 'Y:\\\\Subjects\\\\AB_0032\\\\2024-05-12\\\\3\\\\corr\\\\svdTemporalComponents_corr.npy'",
     "output_type": "error",
     "traceback": [
      "\u001b[1;31m---------------------------------------------------------------------------\u001b[0m",
      "\u001b[1;31mFileNotFoundError\u001b[0m                         Traceback (most recent call last)",
      "Cell \u001b[1;32mIn[87], line 1\u001b[0m\n\u001b[1;32m----> 1\u001b[0m data\u001b[38;5;241m=\u001b[39m\u001b[43mwfOpto\u001b[49m\u001b[43m(\u001b[49m\u001b[43mPath\u001b[49m\u001b[43m(\u001b[49m\u001b[38;5;124;43mr\u001b[39;49m\u001b[38;5;124;43m'\u001b[39;49m\u001b[38;5;124;43mY:\u001b[39;49m\u001b[38;5;124;43m\\\u001b[39;49m\u001b[38;5;124;43mSubjects\u001b[39;49m\u001b[38;5;124;43m\\\u001b[39;49m\u001b[38;5;124;43mAB_0032\u001b[39;49m\u001b[38;5;124;43m\\\u001b[39;49m\u001b[38;5;124;43m2024-05-12\u001b[39;49m\u001b[38;5;124;43m\\\u001b[39;49m\u001b[38;5;124;43m3\u001b[39;49m\u001b[38;5;124;43m'\u001b[39;49m\u001b[43m)\u001b[49m\u001b[43m)\u001b[49m\n",
      "File \u001b[1;32mc:\\GitHub\\steinmetzlab\\wf + opto\\wfOpto.py:24\u001b[0m, in \u001b[0;36mwfOpto.__init__\u001b[1;34m(self, pathSubject, listExps)\u001b[0m\n\u001b[0;32m     22\u001b[0m \u001b[38;5;28mself\u001b[39m\u001b[38;5;241m.\u001b[39mtimeFile \u001b[38;5;241m=\u001b[39m serverPath \u001b[38;5;241m/\u001b[39m \u001b[38;5;124m'\u001b[39m\u001b[38;5;124mcameraFrameTimes.npy\u001b[39m\u001b[38;5;124m'\u001b[39m\n\u001b[0;32m     23\u001b[0m \u001b[38;5;28mself\u001b[39m\u001b[38;5;241m.\u001b[39mframeTimes \u001b[38;5;241m=\u001b[39m np\u001b[38;5;241m.\u001b[39msqueeze(np\u001b[38;5;241m.\u001b[39mload(\u001b[38;5;28mself\u001b[39m\u001b[38;5;241m.\u001b[39mtimeFile))[::\u001b[38;5;241m2\u001b[39m] \u001b[38;5;66;03m# every other frame - we want blue only\u001b[39;00m\n\u001b[1;32m---> 24\u001b[0m \u001b[38;5;28mself\u001b[39m\u001b[38;5;241m.\u001b[39msvdTemp \u001b[38;5;241m=\u001b[39m \u001b[43mnp\u001b[49m\u001b[38;5;241;43m.\u001b[39;49m\u001b[43mload\u001b[49m\u001b[43m(\u001b[49m\u001b[43mserverPath\u001b[49m\u001b[43m \u001b[49m\u001b[38;5;241;43m/\u001b[39;49m\u001b[43m \u001b[49m\u001b[38;5;124;43m'\u001b[39;49m\u001b[38;5;124;43mcorr/svdTemporalComponents_corr.npy\u001b[39;49m\u001b[38;5;124;43m'\u001b[39;49m\u001b[43m)\u001b[49m\n\u001b[0;32m     25\u001b[0m \u001b[38;5;28mself\u001b[39m\u001b[38;5;241m.\u001b[39msvdSpat \u001b[38;5;241m=\u001b[39m np\u001b[38;5;241m.\u001b[39mload(serverPath \u001b[38;5;241m/\u001b[39m \u001b[38;5;124m'\u001b[39m\u001b[38;5;124mblue/svdSpatialComponents.npy\u001b[39m\u001b[38;5;124m'\u001b[39m)\n\u001b[0;32m     26\u001b[0m \u001b[38;5;28mself\u001b[39m\u001b[38;5;241m.\u001b[39msvdSpatFull \u001b[38;5;241m=\u001b[39m \u001b[38;5;28mself\u001b[39m\u001b[38;5;241m.\u001b[39msvdSpat[:,:,:\u001b[38;5;241m500\u001b[39m]\n",
      "File \u001b[1;32mc:\\Users\\nadia\\anaconda3\\envs\\steinmetzlab\\Lib\\site-packages\\numpy\\lib\\npyio.py:427\u001b[0m, in \u001b[0;36mload\u001b[1;34m(file, mmap_mode, allow_pickle, fix_imports, encoding, max_header_size)\u001b[0m\n\u001b[0;32m    425\u001b[0m     own_fid \u001b[38;5;241m=\u001b[39m \u001b[38;5;28;01mFalse\u001b[39;00m\n\u001b[0;32m    426\u001b[0m \u001b[38;5;28;01melse\u001b[39;00m:\n\u001b[1;32m--> 427\u001b[0m     fid \u001b[38;5;241m=\u001b[39m stack\u001b[38;5;241m.\u001b[39menter_context(\u001b[38;5;28;43mopen\u001b[39;49m\u001b[43m(\u001b[49m\u001b[43mos_fspath\u001b[49m\u001b[43m(\u001b[49m\u001b[43mfile\u001b[49m\u001b[43m)\u001b[49m\u001b[43m,\u001b[49m\u001b[43m \u001b[49m\u001b[38;5;124;43m\"\u001b[39;49m\u001b[38;5;124;43mrb\u001b[39;49m\u001b[38;5;124;43m\"\u001b[39;49m\u001b[43m)\u001b[49m)\n\u001b[0;32m    428\u001b[0m     own_fid \u001b[38;5;241m=\u001b[39m \u001b[38;5;28;01mTrue\u001b[39;00m\n\u001b[0;32m    430\u001b[0m \u001b[38;5;66;03m# Code to distinguish from NumPy binary files and pickles.\u001b[39;00m\n",
      "\u001b[1;31mFileNotFoundError\u001b[0m: [Errno 2] No such file or directory: 'Y:\\\\Subjects\\\\AB_0032\\\\2024-05-12\\\\3\\\\corr\\\\svdTemporalComponents_corr.npy'"
     ]
    }
   ],
   "source": [
    "data=wfOpto(Path(r'Y:\\Subjects\\AB_0032\\2024-05-12\\1'))"
   ]
  },
  {
   "cell_type": "code",
   "execution_count": 29,
   "id": "ad2b5fbc",
   "metadata": {},
   "outputs": [
    {
     "name": "stderr",
     "output_type": "stream",
     "text": [
      "<>:32: SyntaxWarning: invalid escape sequence '\\D'\n",
      "<>:32: SyntaxWarning: invalid escape sequence '\\D'\n",
      "C:\\Users\\nadia\\AppData\\Local\\Temp\\ipykernel_28920\\4213990241.py:32: SyntaxWarning: invalid escape sequence '\\D'\n",
      "  plt.ylabel('$\\Delta F$')\n"
     ]
    }
   ],
   "source": [
    "def stimDepPow1(ax,ylim,data,pow):\n",
    "    lens = np.unique(data.pulseLengths)\n",
    "    power=pow\n",
    "    pixel = (198, 246)\n",
    "    pxLen = []\n",
    "    n_samples = 650\n",
    "    timestamps = np.linspace(-0.3, 1, n_samples)*1000\n",
    "\n",
    "    pixel_ix = np.ravel_multi_index((246, 198), (data.py, data.px))\n",
    "    for iP, len in enumerate(lens):\n",
    "        lenTrs = np.argwhere(data.pulseLengths == len).ravel()\n",
    "        theseTrs=np.intersect1d(lenTrs,data.laserPowers==pow)\n",
    "        onTimes = data.laserOn[theseTrs]\n",
    "        trs = [np.linspace(-.3+on, 1+on, n_samples) for on in onTimes]\n",
    "        trs = np.squeeze(np.array(trs))\n",
    "        \n",
    "        thisLen = []\n",
    "        for iT, tr in enumerate(trs):\n",
    "            wf = data.tToWFManual(tr)\n",
    "            dwf = [np.diff(i, prepend=i[0]) for i in wf.T]\n",
    "            dwf = np.array(dwf)\n",
    "            mov = data.svdSpat[pixel_ix] @ dwf\n",
    "            thisLen.append(mov)\n",
    "        thisLen = np.array(thisLen)\n",
    "        pxLen.append(thisLen)\n",
    "\n",
    "        for iP in pxLen:\n",
    "            iP = gaussian_filter1d(iP, sigma=2)\n",
    "        plt.plot(timestamps, np.mean(iP, axis=0),color='k')\n",
    "        ax.xaxis.set_major_locator(mpl.ticker.MultipleLocator(200))\n",
    "        plt.xlabel('time (ms)')\n",
    "        plt.ylabel('$\\Delta F$')\n",
    "        plt.title('temporal resolution')\n",
    "        plt.ylim(ylim)"
   ]
  },
  {
   "cell_type": "code",
   "execution_count": 63,
   "id": "8dc5493b",
   "metadata": {},
   "outputs": [
    {
     "name": "stderr",
     "output_type": "stream",
     "text": [
      "<>:33: SyntaxWarning: invalid escape sequence '\\D'\n",
      "<>:33: SyntaxWarning: invalid escape sequence '\\D'\n",
      "C:\\Users\\nadia\\AppData\\Local\\Temp\\ipykernel_28920\\840355682.py:33: SyntaxWarning: invalid escape sequence '\\D'\n",
      "  plt.ylabel('$\\Delta F$')\n",
      "C:\\Users\\nadia\\AppData\\Local\\Temp\\ipykernel_28920\\840355682.py:33: SyntaxWarning: invalid escape sequence '\\D'\n",
      "  plt.ylabel('$\\Delta F$')\n"
     ]
    },
    {
     "ename": "IndexError",
     "evalue": "invalid index to scalar variable.",
     "output_type": "error",
     "traceback": [
      "\u001b[1;31m---------------------------------------------------------------------------\u001b[0m",
      "\u001b[1;31mIndexError\u001b[0m                                Traceback (most recent call last)",
      "Cell \u001b[1;32mIn[63], line 20\u001b[0m\n\u001b[0;32m     18\u001b[0m \u001b[38;5;28;01mfor\u001b[39;00m iT, tr \u001b[38;5;129;01min\u001b[39;00m \u001b[38;5;28menumerate\u001b[39m(trs):\n\u001b[0;32m     19\u001b[0m     wf \u001b[38;5;241m=\u001b[39m data\u001b[38;5;241m.\u001b[39mtToWFManual(tr)\n\u001b[1;32m---> 20\u001b[0m     dwf \u001b[38;5;241m=\u001b[39m [np\u001b[38;5;241m.\u001b[39mdiff(i, prepend\u001b[38;5;241m=\u001b[39m\u001b[43mi\u001b[49m\u001b[43m[\u001b[49m\u001b[38;5;241;43m0\u001b[39;49m\u001b[43m]\u001b[49m) \u001b[38;5;28;01mfor\u001b[39;00m i \u001b[38;5;129;01min\u001b[39;00m wf\u001b[38;5;241m.\u001b[39mT]\n\u001b[0;32m     21\u001b[0m     dwf \u001b[38;5;241m=\u001b[39m np\u001b[38;5;241m.\u001b[39marray(dwf)\n\u001b[0;32m     22\u001b[0m     mov \u001b[38;5;241m=\u001b[39m data\u001b[38;5;241m.\u001b[39msvdSpat[pixel_ix] \u001b[38;5;241m@\u001b[39m dwf\n",
      "\u001b[1;31mIndexError\u001b[0m: invalid index to scalar variable."
     ]
    }
   ],
   "source": [
    "lens = np.unique(data.pulseLengths)\n",
    "power=.7\n",
    "pixel = (198, 246)\n",
    "pxLen = []\n",
    "n_samples = 650\n",
    "timestamps = np.linspace(-0.3, 1, n_samples)*1000\n",
    "\n",
    "pixel_ix = np.ravel_multi_index((246, 198), (data.py, data.px))\n",
    "for iP, len in enumerate(lens):\n",
    "    lenTrs = np.argwhere(data.pulseLengths == len).ravel()\n",
    "    pws=np.argwhere(data.laserPowers==power).ravel()\n",
    "    theseTrs=np.intersect1d(lenTrs,pws)\n",
    "    onTimes = data.laserOn[theseTrs]\n",
    "    trs = [np.linspace(-.3+on, 1+on, n_samples) for on in onTimes]\n",
    "    trs = np.squeeze(np.array(trs))\n",
    "    \n",
    "    thisLen = []\n",
    "    for iT, tr in enumerate(trs):\n",
    "        wf = data.tToWFManual(tr)\n",
    "        dwf = [np.diff(i, prepend=i[0]) for i in wf.T]\n",
    "        dwf = np.array(dwf)\n",
    "        mov = data.svdSpat[pixel_ix] @ dwf\n",
    "        thisLen.append(mov)\n",
    "    thisLen = np.array(thisLen)\n",
    "    pxLen.append(thisLen)\n",
    "pxLen=np.array(pxLen)\n",
    "\n",
    "for iP in pxLen:\n",
    "    iP = gaussian_filter1d(iP, sigma=2)\n",
    "    plt.plot(timestamps, iP,color='k')\n",
    "ax.xaxis.set_major_locator(mpl.ticker.MultipleLocator(200))\n",
    "plt.xlabel('time (ms)')\n",
    "plt.ylabel('$\\Delta F$')\n",
    "plt.title('temporal resolution')\n",
    "plt.ylim(ylim)"
   ]
  },
  {
   "cell_type": "code",
   "execution_count": null,
   "id": "405ef7da",
   "metadata": {},
   "outputs": [],
   "source": [
    "def stimDepPow2(ax,ylim,data,pow):"
   ]
  },
  {
   "cell_type": "code",
   "execution_count": 30,
   "id": "612d95fd",
   "metadata": {},
   "outputs": [
    {
     "name": "stderr",
     "output_type": "stream",
     "text": [
      "c:\\Users\\nadia\\anaconda3\\envs\\steinmetzlab\\Lib\\site-packages\\numpy\\core\\fromnumeric.py:3504: RuntimeWarning: Mean of empty slice.\n",
      "  return _methods._mean(a, axis=axis, dtype=dtype,\n",
      "c:\\Users\\nadia\\anaconda3\\envs\\steinmetzlab\\Lib\\site-packages\\numpy\\core\\_methods.py:129: RuntimeWarning: invalid value encountered in scalar divide\n",
      "  ret = ret.dtype.type(ret / rcount)\n",
      "C:\\Users\\nadia\\AppData\\Local\\Temp\\ipykernel_28920\\4213990241.py:32: SyntaxWarning: invalid escape sequence '\\D'\n",
      "  plt.ylabel('$\\Delta F$')\n"
     ]
    },
    {
     "ename": "ValueError",
     "evalue": "x and y must have same first dimension, but have shapes (650,) and (1,)",
     "output_type": "error",
     "traceback": [
      "\u001b[1;31m---------------------------------------------------------------------------\u001b[0m",
      "\u001b[1;31mValueError\u001b[0m                                Traceback (most recent call last)",
      "Cell \u001b[1;32mIn[30], line 5\u001b[0m\n\u001b[0;32m      1\u001b[0m \u001b[38;5;66;03m# f = plt.figure(figsize=(10, 3))\u001b[39;00m\n\u001b[0;32m      2\u001b[0m \u001b[38;5;66;03m# gs = mpl.gridspec.GridSpec(1)\u001b[39;00m\n\u001b[0;32m      4\u001b[0m ylim\u001b[38;5;241m=\u001b[39m[\u001b[38;5;241m-\u001b[39m\u001b[38;5;241m50\u001b[39m,\u001b[38;5;241m50\u001b[39m]\n\u001b[1;32m----> 5\u001b[0m \u001b[43mstimDepPow1\u001b[49m\u001b[43m(\u001b[49m\u001b[43max\u001b[49m\u001b[43m,\u001b[49m\u001b[43mylim\u001b[49m\u001b[43m,\u001b[49m\u001b[43mdata\u001b[49m\u001b[43m,\u001b[49m\u001b[38;5;241;43m.75\u001b[39;49m\u001b[43m)\u001b[49m\n\u001b[0;32m      7\u001b[0m \u001b[38;5;66;03m# stimDepPow2(ax,ylim,data,.75)\u001b[39;00m\n",
      "Cell \u001b[1;32mIn[29], line 29\u001b[0m, in \u001b[0;36mstimDepPow1\u001b[1;34m(ax, ylim, data, pow)\u001b[0m\n\u001b[0;32m     27\u001b[0m \u001b[38;5;28;01mfor\u001b[39;00m iP \u001b[38;5;129;01min\u001b[39;00m pxLen:\n\u001b[0;32m     28\u001b[0m     iP \u001b[38;5;241m=\u001b[39m gaussian_filter1d(iP, sigma\u001b[38;5;241m=\u001b[39m\u001b[38;5;241m2\u001b[39m)\n\u001b[1;32m---> 29\u001b[0m \u001b[43mplt\u001b[49m\u001b[38;5;241;43m.\u001b[39;49m\u001b[43mplot\u001b[49m\u001b[43m(\u001b[49m\u001b[43mtimestamps\u001b[49m\u001b[43m,\u001b[49m\u001b[43m \u001b[49m\u001b[43mnp\u001b[49m\u001b[38;5;241;43m.\u001b[39;49m\u001b[43mmean\u001b[49m\u001b[43m(\u001b[49m\u001b[43miP\u001b[49m\u001b[43m,\u001b[49m\u001b[43m \u001b[49m\u001b[43maxis\u001b[49m\u001b[38;5;241;43m=\u001b[39;49m\u001b[38;5;241;43m0\u001b[39;49m\u001b[43m)\u001b[49m\u001b[43m,\u001b[49m\u001b[43mcolor\u001b[49m\u001b[38;5;241;43m=\u001b[39;49m\u001b[38;5;124;43m'\u001b[39;49m\u001b[38;5;124;43mk\u001b[39;49m\u001b[38;5;124;43m'\u001b[39;49m\u001b[43m)\u001b[49m\n\u001b[0;32m     30\u001b[0m ax\u001b[38;5;241m.\u001b[39mxaxis\u001b[38;5;241m.\u001b[39mset_major_locator(mpl\u001b[38;5;241m.\u001b[39mticker\u001b[38;5;241m.\u001b[39mMultipleLocator(\u001b[38;5;241m200\u001b[39m))\n\u001b[0;32m     31\u001b[0m plt\u001b[38;5;241m.\u001b[39mxlabel(\u001b[38;5;124m'\u001b[39m\u001b[38;5;124mtime (ms)\u001b[39m\u001b[38;5;124m'\u001b[39m)\n",
      "File \u001b[1;32mc:\\Users\\nadia\\anaconda3\\envs\\steinmetzlab\\Lib\\site-packages\\matplotlib\\pyplot.py:3590\u001b[0m, in \u001b[0;36mplot\u001b[1;34m(scalex, scaley, data, *args, **kwargs)\u001b[0m\n\u001b[0;32m   3582\u001b[0m \u001b[38;5;129m@_copy_docstring_and_deprecators\u001b[39m(Axes\u001b[38;5;241m.\u001b[39mplot)\n\u001b[0;32m   3583\u001b[0m \u001b[38;5;28;01mdef\u001b[39;00m \u001b[38;5;21mplot\u001b[39m(\n\u001b[0;32m   3584\u001b[0m     \u001b[38;5;241m*\u001b[39margs: \u001b[38;5;28mfloat\u001b[39m \u001b[38;5;241m|\u001b[39m ArrayLike \u001b[38;5;241m|\u001b[39m \u001b[38;5;28mstr\u001b[39m,\n\u001b[1;32m   (...)\u001b[0m\n\u001b[0;32m   3588\u001b[0m     \u001b[38;5;241m*\u001b[39m\u001b[38;5;241m*\u001b[39mkwargs,\n\u001b[0;32m   3589\u001b[0m ) \u001b[38;5;241m-\u001b[39m\u001b[38;5;241m>\u001b[39m \u001b[38;5;28mlist\u001b[39m[Line2D]:\n\u001b[1;32m-> 3590\u001b[0m     \u001b[38;5;28;01mreturn\u001b[39;00m \u001b[43mgca\u001b[49m\u001b[43m(\u001b[49m\u001b[43m)\u001b[49m\u001b[38;5;241;43m.\u001b[39;49m\u001b[43mplot\u001b[49m\u001b[43m(\u001b[49m\n\u001b[0;32m   3591\u001b[0m \u001b[43m        \u001b[49m\u001b[38;5;241;43m*\u001b[39;49m\u001b[43margs\u001b[49m\u001b[43m,\u001b[49m\n\u001b[0;32m   3592\u001b[0m \u001b[43m        \u001b[49m\u001b[43mscalex\u001b[49m\u001b[38;5;241;43m=\u001b[39;49m\u001b[43mscalex\u001b[49m\u001b[43m,\u001b[49m\n\u001b[0;32m   3593\u001b[0m \u001b[43m        \u001b[49m\u001b[43mscaley\u001b[49m\u001b[38;5;241;43m=\u001b[39;49m\u001b[43mscaley\u001b[49m\u001b[43m,\u001b[49m\n\u001b[0;32m   3594\u001b[0m \u001b[43m        \u001b[49m\u001b[38;5;241;43m*\u001b[39;49m\u001b[38;5;241;43m*\u001b[39;49m\u001b[43m(\u001b[49m\u001b[43m{\u001b[49m\u001b[38;5;124;43m\"\u001b[39;49m\u001b[38;5;124;43mdata\u001b[39;49m\u001b[38;5;124;43m\"\u001b[39;49m\u001b[43m:\u001b[49m\u001b[43m \u001b[49m\u001b[43mdata\u001b[49m\u001b[43m}\u001b[49m\u001b[43m \u001b[49m\u001b[38;5;28;43;01mif\u001b[39;49;00m\u001b[43m \u001b[49m\u001b[43mdata\u001b[49m\u001b[43m \u001b[49m\u001b[38;5;129;43;01mis\u001b[39;49;00m\u001b[43m \u001b[49m\u001b[38;5;129;43;01mnot\u001b[39;49;00m\u001b[43m \u001b[49m\u001b[38;5;28;43;01mNone\u001b[39;49;00m\u001b[43m \u001b[49m\u001b[38;5;28;43;01melse\u001b[39;49;00m\u001b[43m \u001b[49m\u001b[43m{\u001b[49m\u001b[43m}\u001b[49m\u001b[43m)\u001b[49m\u001b[43m,\u001b[49m\n\u001b[0;32m   3595\u001b[0m \u001b[43m        \u001b[49m\u001b[38;5;241;43m*\u001b[39;49m\u001b[38;5;241;43m*\u001b[39;49m\u001b[43mkwargs\u001b[49m\u001b[43m,\u001b[49m\n\u001b[0;32m   3596\u001b[0m \u001b[43m    \u001b[49m\u001b[43m)\u001b[49m\n",
      "File \u001b[1;32mc:\\Users\\nadia\\anaconda3\\envs\\steinmetzlab\\Lib\\site-packages\\matplotlib\\axes\\_axes.py:1724\u001b[0m, in \u001b[0;36mAxes.plot\u001b[1;34m(self, scalex, scaley, data, *args, **kwargs)\u001b[0m\n\u001b[0;32m   1481\u001b[0m \u001b[38;5;250m\u001b[39m\u001b[38;5;124;03m\"\"\"\u001b[39;00m\n\u001b[0;32m   1482\u001b[0m \u001b[38;5;124;03mPlot y versus x as lines and/or markers.\u001b[39;00m\n\u001b[0;32m   1483\u001b[0m \n\u001b[1;32m   (...)\u001b[0m\n\u001b[0;32m   1721\u001b[0m \u001b[38;5;124;03m(``'green'``) or hex strings (``'#008000'``).\u001b[39;00m\n\u001b[0;32m   1722\u001b[0m \u001b[38;5;124;03m\"\"\"\u001b[39;00m\n\u001b[0;32m   1723\u001b[0m kwargs \u001b[38;5;241m=\u001b[39m cbook\u001b[38;5;241m.\u001b[39mnormalize_kwargs(kwargs, mlines\u001b[38;5;241m.\u001b[39mLine2D)\n\u001b[1;32m-> 1724\u001b[0m lines \u001b[38;5;241m=\u001b[39m [\u001b[38;5;241m*\u001b[39m\u001b[38;5;28mself\u001b[39m\u001b[38;5;241m.\u001b[39m_get_lines(\u001b[38;5;28mself\u001b[39m, \u001b[38;5;241m*\u001b[39margs, data\u001b[38;5;241m=\u001b[39mdata, \u001b[38;5;241m*\u001b[39m\u001b[38;5;241m*\u001b[39mkwargs)]\n\u001b[0;32m   1725\u001b[0m \u001b[38;5;28;01mfor\u001b[39;00m line \u001b[38;5;129;01min\u001b[39;00m lines:\n\u001b[0;32m   1726\u001b[0m     \u001b[38;5;28mself\u001b[39m\u001b[38;5;241m.\u001b[39madd_line(line)\n",
      "File \u001b[1;32mc:\\Users\\nadia\\anaconda3\\envs\\steinmetzlab\\Lib\\site-packages\\matplotlib\\axes\\_base.py:303\u001b[0m, in \u001b[0;36m_process_plot_var_args.__call__\u001b[1;34m(self, axes, data, *args, **kwargs)\u001b[0m\n\u001b[0;32m    301\u001b[0m     this \u001b[38;5;241m+\u001b[39m\u001b[38;5;241m=\u001b[39m args[\u001b[38;5;241m0\u001b[39m],\n\u001b[0;32m    302\u001b[0m     args \u001b[38;5;241m=\u001b[39m args[\u001b[38;5;241m1\u001b[39m:]\n\u001b[1;32m--> 303\u001b[0m \u001b[38;5;28;01myield from\u001b[39;00m \u001b[38;5;28;43mself\u001b[39;49m\u001b[38;5;241;43m.\u001b[39;49m\u001b[43m_plot_args\u001b[49m\u001b[43m(\u001b[49m\n\u001b[0;32m    304\u001b[0m \u001b[43m    \u001b[49m\u001b[43maxes\u001b[49m\u001b[43m,\u001b[49m\u001b[43m \u001b[49m\u001b[43mthis\u001b[49m\u001b[43m,\u001b[49m\u001b[43m \u001b[49m\u001b[43mkwargs\u001b[49m\u001b[43m,\u001b[49m\u001b[43m \u001b[49m\u001b[43mambiguous_fmt_datakey\u001b[49m\u001b[38;5;241;43m=\u001b[39;49m\u001b[43mambiguous_fmt_datakey\u001b[49m\u001b[43m)\u001b[49m\n",
      "File \u001b[1;32mc:\\Users\\nadia\\anaconda3\\envs\\steinmetzlab\\Lib\\site-packages\\matplotlib\\axes\\_base.py:499\u001b[0m, in \u001b[0;36m_process_plot_var_args._plot_args\u001b[1;34m(self, axes, tup, kwargs, return_kwargs, ambiguous_fmt_datakey)\u001b[0m\n\u001b[0;32m    496\u001b[0m     axes\u001b[38;5;241m.\u001b[39myaxis\u001b[38;5;241m.\u001b[39mupdate_units(y)\n\u001b[0;32m    498\u001b[0m \u001b[38;5;28;01mif\u001b[39;00m x\u001b[38;5;241m.\u001b[39mshape[\u001b[38;5;241m0\u001b[39m] \u001b[38;5;241m!=\u001b[39m y\u001b[38;5;241m.\u001b[39mshape[\u001b[38;5;241m0\u001b[39m]:\n\u001b[1;32m--> 499\u001b[0m     \u001b[38;5;28;01mraise\u001b[39;00m \u001b[38;5;167;01mValueError\u001b[39;00m(\u001b[38;5;124mf\u001b[39m\u001b[38;5;124m\"\u001b[39m\u001b[38;5;124mx and y must have same first dimension, but \u001b[39m\u001b[38;5;124m\"\u001b[39m\n\u001b[0;32m    500\u001b[0m                      \u001b[38;5;124mf\u001b[39m\u001b[38;5;124m\"\u001b[39m\u001b[38;5;124mhave shapes \u001b[39m\u001b[38;5;132;01m{\u001b[39;00mx\u001b[38;5;241m.\u001b[39mshape\u001b[38;5;132;01m}\u001b[39;00m\u001b[38;5;124m and \u001b[39m\u001b[38;5;132;01m{\u001b[39;00my\u001b[38;5;241m.\u001b[39mshape\u001b[38;5;132;01m}\u001b[39;00m\u001b[38;5;124m\"\u001b[39m)\n\u001b[0;32m    501\u001b[0m \u001b[38;5;28;01mif\u001b[39;00m x\u001b[38;5;241m.\u001b[39mndim \u001b[38;5;241m>\u001b[39m \u001b[38;5;241m2\u001b[39m \u001b[38;5;129;01mor\u001b[39;00m y\u001b[38;5;241m.\u001b[39mndim \u001b[38;5;241m>\u001b[39m \u001b[38;5;241m2\u001b[39m:\n\u001b[0;32m    502\u001b[0m     \u001b[38;5;28;01mraise\u001b[39;00m \u001b[38;5;167;01mValueError\u001b[39;00m(\u001b[38;5;124mf\u001b[39m\u001b[38;5;124m\"\u001b[39m\u001b[38;5;124mx and y can be no greater than 2D, but have \u001b[39m\u001b[38;5;124m\"\u001b[39m\n\u001b[0;32m    503\u001b[0m                      \u001b[38;5;124mf\u001b[39m\u001b[38;5;124m\"\u001b[39m\u001b[38;5;124mshapes \u001b[39m\u001b[38;5;132;01m{\u001b[39;00mx\u001b[38;5;241m.\u001b[39mshape\u001b[38;5;132;01m}\u001b[39;00m\u001b[38;5;124m and \u001b[39m\u001b[38;5;132;01m{\u001b[39;00my\u001b[38;5;241m.\u001b[39mshape\u001b[38;5;132;01m}\u001b[39;00m\u001b[38;5;124m\"\u001b[39m)\n",
      "\u001b[1;31mValueError\u001b[0m: x and y must have same first dimension, but have shapes (650,) and (1,)"
     ]
    },
    {
     "data": {
      "image/png": "[encoded data removed]",
      "text/plain": [
       "<Figure size 640x480 with 1 Axes>"
      ]
     },
     "metadata": {},
     "output_type": "display_data"
    }
   ],
   "source": [
    "# f = plt.figure(figsize=(10, 3))\n",
    "# gs = mpl.gridspec.GridSpec(1)\n",
    "\n",
    "ylim=[-50,50]\n",
    "stimDepPow1(ax,ylim,data,.75)\n",
    "\n",
    "# stimDepPow2(ax,ylim,data,.75)"
   ]
  },
  {
   "cell_type": "code",
   "execution_count": null,
   "id": "bf51591b",
   "metadata": {},
   "outputs": [],
   "source": [
    "mouse='AL_0027'\n",
    "date=\"4/18\""
   ]
  },
  {
   "cell_type": "code",
   "execution_count": null,
   "id": "9d3aca38",
   "metadata": {},
   "outputs": [],
   "source": [
    "f.savefig(f'C:\\GitHub\\steinmetzlab\\wf + opto\\figs\\opto\\{mouse}stimLen_{date}')"
   ]
  },
  {
   "cell_type": "markdown",
   "id": "48ca4c21",
   "metadata": {},
   "source": [
    "## Visresp figs"
   ]
  },
  {
   "cell_type": "code",
   "execution_count": 88,
   "id": "1dc3c27a",
   "metadata": {},
   "outputs": [
    {
     "ename": "ValueError",
     "evalue": "x and y arrays must be equal in length along interpolation axis.",
     "output_type": "error",
     "traceback": [
      "\u001b[1;31m---------------------------------------------------------------------------\u001b[0m",
      "\u001b[1;31mValueError\u001b[0m                                Traceback (most recent call last)",
      "Cell \u001b[1;32mIn[88], line 3\u001b[0m\n\u001b[0;32m      1\u001b[0m dataFlicker\u001b[38;5;241m=\u001b[39mwfOpto(Path(\u001b[38;5;124mr\u001b[39m\u001b[38;5;124m'\u001b[39m\u001b[38;5;124mY:\u001b[39m\u001b[38;5;124m\\\u001b[39m\u001b[38;5;124mSubjects\u001b[39m\u001b[38;5;124m\\\u001b[39m\u001b[38;5;124mAL_0032\u001b[39m\u001b[38;5;124m\\\u001b[39m\u001b[38;5;124m2024-04-28\u001b[39m\u001b[38;5;124m\\\u001b[39m\u001b[38;5;124m1\u001b[39m\u001b[38;5;124m'\u001b[39m))\n\u001b[1;32m----> 3\u001b[0m dataNo\u001b[38;5;241m=\u001b[39m\u001b[43mwfOpto\u001b[49m\u001b[43m(\u001b[49m\u001b[43mPath\u001b[49m\u001b[43m(\u001b[49m\u001b[38;5;124;43mr\u001b[39;49m\u001b[38;5;124;43m'\u001b[39;49m\u001b[38;5;124;43mY:\u001b[39;49m\u001b[38;5;124;43m\\\u001b[39;49m\u001b[38;5;124;43mSubjects\u001b[39;49m\u001b[38;5;124;43m\\\u001b[39;49m\u001b[38;5;124;43mAL_0032\u001b[39;49m\u001b[38;5;124;43m\\\u001b[39;49m\u001b[38;5;124;43m2024-04-19\u001b[39;49m\u001b[38;5;124;43m\\\u001b[39;49m\u001b[38;5;124;43m1\u001b[39;49m\u001b[38;5;124;43m'\u001b[39;49m\u001b[43m)\u001b[49m\u001b[43m)\u001b[49m\n",
      "File \u001b[1;32mc:\\GitHub\\steinmetzlab\\wf + opto\\wfOpto.py:37\u001b[0m, in \u001b[0;36mwfOpto.__init__\u001b[1;34m(self, pathSubject, listExps)\u001b[0m\n\u001b[0;32m     34\u001b[0m \u001b[38;5;28mself\u001b[39m\u001b[38;5;241m.\u001b[39mpx, \u001b[38;5;28mself\u001b[39m\u001b[38;5;241m.\u001b[39mpy, \u001b[38;5;28mself\u001b[39m\u001b[38;5;241m.\u001b[39mncomps \u001b[38;5;241m=\u001b[39m \u001b[38;5;28mself\u001b[39m\u001b[38;5;241m.\u001b[39msvdSpatFull\u001b[38;5;241m.\u001b[39mshape\n\u001b[0;32m     36\u001b[0m \u001b[38;5;28mself\u001b[39m\u001b[38;5;241m.\u001b[39msvdSpat \u001b[38;5;241m=\u001b[39m \u001b[38;5;28mself\u001b[39m\u001b[38;5;241m.\u001b[39msvdSpatFull\u001b[38;5;241m.\u001b[39mreshape(\u001b[38;5;28mself\u001b[39m\u001b[38;5;241m.\u001b[39mpx\u001b[38;5;241m*\u001b[39m\u001b[38;5;28mself\u001b[39m\u001b[38;5;241m.\u001b[39mpy, \u001b[38;5;28mself\u001b[39m\u001b[38;5;241m.\u001b[39mncomps)\n\u001b[1;32m---> 37\u001b[0m \u001b[38;5;28mself\u001b[39m\u001b[38;5;241m.\u001b[39mtToWf \u001b[38;5;241m=\u001b[39m \u001b[43mscipy\u001b[49m\u001b[38;5;241;43m.\u001b[39;49m\u001b[43minterpolate\u001b[49m\u001b[38;5;241;43m.\u001b[39;49m\u001b[43minterp1d\u001b[49m\u001b[43m(\u001b[49m\u001b[38;5;28;43mself\u001b[39;49m\u001b[38;5;241;43m.\u001b[39;49m\u001b[43mframeTimes\u001b[49m\u001b[43m,\u001b[49m\u001b[43m \u001b[49m\u001b[38;5;28;43mself\u001b[39;49m\u001b[38;5;241;43m.\u001b[39;49m\u001b[43msvdTemp\u001b[49m\u001b[43m,\u001b[49m\u001b[43m \u001b[49m\u001b[43maxis\u001b[49m\u001b[38;5;241;43m=\u001b[39;49m\u001b[38;5;241;43m0\u001b[39;49m\u001b[43m,\u001b[49m\u001b[43m \u001b[49m\u001b[43mfill_value\u001b[49m\u001b[38;5;241;43m=\u001b[39;49m\u001b[38;5;124;43m'\u001b[39;49m\u001b[38;5;124;43mextrapolate\u001b[39;49m\u001b[38;5;124;43m'\u001b[39;49m\u001b[43m)\u001b[49m\n\u001b[0;32m     38\u001b[0m \u001b[38;5;28mself\u001b[39m\u001b[38;5;241m.\u001b[39mspatial \u001b[38;5;241m=\u001b[39m \u001b[38;5;28mself\u001b[39m\u001b[38;5;241m.\u001b[39msvdSpatFull\u001b[38;5;241m.\u001b[39mreshape(\u001b[38;5;241m560\u001b[39m\u001b[38;5;241m*\u001b[39m\u001b[38;5;241m560\u001b[39m,\u001b[38;5;241m-\u001b[39m\u001b[38;5;241m1\u001b[39m)\n\u001b[0;32m     39\u001b[0m \u001b[38;5;28;01mif\u001b[39;00m listExps \u001b[38;5;241m==\u001b[39m \u001b[38;5;28;01mNone\u001b[39;00m:\n",
      "File \u001b[1;32mc:\\Users\\nadia\\anaconda3\\envs\\steinmetzlab\\Lib\\site-packages\\scipy\\interpolate\\_interpolate.py:503\u001b[0m, in \u001b[0;36minterp1d.__init__\u001b[1;34m(self, x, y, kind, axis, copy, bounds_error, fill_value, assume_sorted)\u001b[0m\n\u001b[0;32m    499\u001b[0m \u001b[38;5;28;01mdef\u001b[39;00m \u001b[38;5;21m__init__\u001b[39m(\u001b[38;5;28mself\u001b[39m, x, y, kind\u001b[38;5;241m=\u001b[39m\u001b[38;5;124m'\u001b[39m\u001b[38;5;124mlinear\u001b[39m\u001b[38;5;124m'\u001b[39m, axis\u001b[38;5;241m=\u001b[39m\u001b[38;5;241m-\u001b[39m\u001b[38;5;241m1\u001b[39m,\n\u001b[0;32m    500\u001b[0m              copy\u001b[38;5;241m=\u001b[39m\u001b[38;5;28;01mTrue\u001b[39;00m, bounds_error\u001b[38;5;241m=\u001b[39m\u001b[38;5;28;01mNone\u001b[39;00m, fill_value\u001b[38;5;241m=\u001b[39mnp\u001b[38;5;241m.\u001b[39mnan,\n\u001b[0;32m    501\u001b[0m              assume_sorted\u001b[38;5;241m=\u001b[39m\u001b[38;5;28;01mFalse\u001b[39;00m):\n\u001b[0;32m    502\u001b[0m \u001b[38;5;250m    \u001b[39m\u001b[38;5;124;03m\"\"\" Initialize a 1-D linear interpolation class.\"\"\"\u001b[39;00m\n\u001b[1;32m--> 503\u001b[0m     \u001b[43m_Interpolator1D\u001b[49m\u001b[38;5;241;43m.\u001b[39;49m\u001b[38;5;21;43m__init__\u001b[39;49m\u001b[43m(\u001b[49m\u001b[38;5;28;43mself\u001b[39;49m\u001b[43m,\u001b[49m\u001b[43m \u001b[49m\u001b[43mx\u001b[49m\u001b[43m,\u001b[49m\u001b[43m \u001b[49m\u001b[43my\u001b[49m\u001b[43m,\u001b[49m\u001b[43m \u001b[49m\u001b[43maxis\u001b[49m\u001b[38;5;241;43m=\u001b[39;49m\u001b[43maxis\u001b[49m\u001b[43m)\u001b[49m\n\u001b[0;32m    505\u001b[0m     \u001b[38;5;28mself\u001b[39m\u001b[38;5;241m.\u001b[39mbounds_error \u001b[38;5;241m=\u001b[39m bounds_error  \u001b[38;5;66;03m# used by fill_value setter\u001b[39;00m\n\u001b[0;32m    506\u001b[0m     \u001b[38;5;28mself\u001b[39m\u001b[38;5;241m.\u001b[39mcopy \u001b[38;5;241m=\u001b[39m copy\n",
      "File \u001b[1;32mc:\\Users\\nadia\\anaconda3\\envs\\steinmetzlab\\Lib\\site-packages\\scipy\\interpolate\\_polyint.py:57\u001b[0m, in \u001b[0;36m_Interpolator1D.__init__\u001b[1;34m(self, xi, yi, axis)\u001b[0m\n\u001b[0;32m     55\u001b[0m \u001b[38;5;28mself\u001b[39m\u001b[38;5;241m.\u001b[39mdtype \u001b[38;5;241m=\u001b[39m \u001b[38;5;28;01mNone\u001b[39;00m\n\u001b[0;32m     56\u001b[0m \u001b[38;5;28;01mif\u001b[39;00m yi \u001b[38;5;129;01mis\u001b[39;00m \u001b[38;5;129;01mnot\u001b[39;00m \u001b[38;5;28;01mNone\u001b[39;00m:\n\u001b[1;32m---> 57\u001b[0m     \u001b[38;5;28;43mself\u001b[39;49m\u001b[38;5;241;43m.\u001b[39;49m\u001b[43m_set_yi\u001b[49m\u001b[43m(\u001b[49m\u001b[43myi\u001b[49m\u001b[43m,\u001b[49m\u001b[43m \u001b[49m\u001b[43mxi\u001b[49m\u001b[38;5;241;43m=\u001b[39;49m\u001b[43mxi\u001b[49m\u001b[43m,\u001b[49m\u001b[43m \u001b[49m\u001b[43maxis\u001b[49m\u001b[38;5;241;43m=\u001b[39;49m\u001b[43maxis\u001b[49m\u001b[43m)\u001b[49m\n",
      "File \u001b[1;32mc:\\Users\\nadia\\anaconda3\\envs\\steinmetzlab\\Lib\\site-packages\\scipy\\interpolate\\_polyint.py:127\u001b[0m, in \u001b[0;36m_Interpolator1D._set_yi\u001b[1;34m(self, yi, xi, axis)\u001b[0m\n\u001b[0;32m    125\u001b[0m     shape \u001b[38;5;241m=\u001b[39m (\u001b[38;5;241m1\u001b[39m,)\n\u001b[0;32m    126\u001b[0m \u001b[38;5;28;01mif\u001b[39;00m xi \u001b[38;5;129;01mis\u001b[39;00m \u001b[38;5;129;01mnot\u001b[39;00m \u001b[38;5;28;01mNone\u001b[39;00m \u001b[38;5;129;01mand\u001b[39;00m shape[axis] \u001b[38;5;241m!=\u001b[39m \u001b[38;5;28mlen\u001b[39m(xi):\n\u001b[1;32m--> 127\u001b[0m     \u001b[38;5;28;01mraise\u001b[39;00m \u001b[38;5;167;01mValueError\u001b[39;00m(\u001b[38;5;124m\"\u001b[39m\u001b[38;5;124mx and y arrays must be equal in length along \u001b[39m\u001b[38;5;124m\"\u001b[39m\n\u001b[0;32m    128\u001b[0m                      \u001b[38;5;124m\"\u001b[39m\u001b[38;5;124minterpolation axis.\u001b[39m\u001b[38;5;124m\"\u001b[39m)\n\u001b[0;32m    130\u001b[0m \u001b[38;5;28mself\u001b[39m\u001b[38;5;241m.\u001b[39m_y_axis \u001b[38;5;241m=\u001b[39m (axis \u001b[38;5;241m%\u001b[39m yi\u001b[38;5;241m.\u001b[39mndim)\n\u001b[0;32m    131\u001b[0m \u001b[38;5;28mself\u001b[39m\u001b[38;5;241m.\u001b[39m_y_extra_shape \u001b[38;5;241m=\u001b[39m yi\u001b[38;5;241m.\u001b[39mshape[:\u001b[38;5;28mself\u001b[39m\u001b[38;5;241m.\u001b[39m_y_axis] \u001b[38;5;241m+\u001b[39m yi\u001b[38;5;241m.\u001b[39mshape[\u001b[38;5;28mself\u001b[39m\u001b[38;5;241m.\u001b[39m_y_axis\u001b[38;5;241m+\u001b[39m\u001b[38;5;241m1\u001b[39m:]\n",
      "\u001b[1;31mValueError\u001b[0m: x and y arrays must be equal in length along interpolation axis."
     ]
    }
   ],
   "source": [
    "dataFlicker=wfOpto(Path(r'Y:\\Subjects\\AL_0032\\2024-04-28\\1'))"
   ]
  },
  {
   "cell_type": "code",
   "execution_count": 90,
   "id": "bfc24f58",
   "metadata": {},
   "outputs": [
    {
     "ename": "ValueError",
     "evalue": "x and y arrays must be equal in length along interpolation axis.",
     "output_type": "error",
     "traceback": [
      "\u001b[1;31m---------------------------------------------------------------------------\u001b[0m",
      "\u001b[1;31mValueError\u001b[0m                                Traceback (most recent call last)",
      "Cell \u001b[1;32mIn[90], line 1\u001b[0m\n\u001b[1;32m----> 1\u001b[0m dataNo\u001b[38;5;241m=\u001b[39m\u001b[43mwfOpto\u001b[49m\u001b[43m(\u001b[49m\u001b[43mPath\u001b[49m\u001b[43m(\u001b[49m\u001b[38;5;124;43mr\u001b[39;49m\u001b[38;5;124;43m'\u001b[39;49m\u001b[38;5;124;43mY:\u001b[39;49m\u001b[38;5;124;43m\\\u001b[39;49m\u001b[38;5;124;43mSubjects\u001b[39;49m\u001b[38;5;124;43m\\\u001b[39;49m\u001b[38;5;124;43mAL_0032\u001b[39;49m\u001b[38;5;124;43m\\\u001b[39;49m\u001b[38;5;124;43m2024-04-19\u001b[39;49m\u001b[38;5;124;43m\\\u001b[39;49m\u001b[38;5;124;43m1\u001b[39;49m\u001b[38;5;124;43m'\u001b[39;49m\u001b[43m)\u001b[49m\u001b[43m)\u001b[49m\n",
      "File \u001b[1;32mc:\\GitHub\\steinmetzlab\\wf + opto\\wfOpto.py:37\u001b[0m, in \u001b[0;36mwfOpto.__init__\u001b[1;34m(self, pathSubject, listExps)\u001b[0m\n\u001b[0;32m     34\u001b[0m \u001b[38;5;28mself\u001b[39m\u001b[38;5;241m.\u001b[39mpx, \u001b[38;5;28mself\u001b[39m\u001b[38;5;241m.\u001b[39mpy, \u001b[38;5;28mself\u001b[39m\u001b[38;5;241m.\u001b[39mncomps \u001b[38;5;241m=\u001b[39m \u001b[38;5;28mself\u001b[39m\u001b[38;5;241m.\u001b[39msvdSpatFull\u001b[38;5;241m.\u001b[39mshape\n\u001b[0;32m     36\u001b[0m \u001b[38;5;28mself\u001b[39m\u001b[38;5;241m.\u001b[39msvdSpat \u001b[38;5;241m=\u001b[39m \u001b[38;5;28mself\u001b[39m\u001b[38;5;241m.\u001b[39msvdSpatFull\u001b[38;5;241m.\u001b[39mreshape(\u001b[38;5;28mself\u001b[39m\u001b[38;5;241m.\u001b[39mpx\u001b[38;5;241m*\u001b[39m\u001b[38;5;28mself\u001b[39m\u001b[38;5;241m.\u001b[39mpy, \u001b[38;5;28mself\u001b[39m\u001b[38;5;241m.\u001b[39mncomps)\n\u001b[1;32m---> 37\u001b[0m \u001b[38;5;28mself\u001b[39m\u001b[38;5;241m.\u001b[39mtToWf \u001b[38;5;241m=\u001b[39m \u001b[43mscipy\u001b[49m\u001b[38;5;241;43m.\u001b[39;49m\u001b[43minterpolate\u001b[49m\u001b[38;5;241;43m.\u001b[39;49m\u001b[43minterp1d\u001b[49m\u001b[43m(\u001b[49m\u001b[38;5;28;43mself\u001b[39;49m\u001b[38;5;241;43m.\u001b[39;49m\u001b[43mframeTimes\u001b[49m\u001b[43m,\u001b[49m\u001b[43m \u001b[49m\u001b[38;5;28;43mself\u001b[39;49m\u001b[38;5;241;43m.\u001b[39;49m\u001b[43msvdTemp\u001b[49m\u001b[43m,\u001b[49m\u001b[43m \u001b[49m\u001b[43maxis\u001b[49m\u001b[38;5;241;43m=\u001b[39;49m\u001b[38;5;241;43m0\u001b[39;49m\u001b[43m,\u001b[49m\u001b[43m \u001b[49m\u001b[43mfill_value\u001b[49m\u001b[38;5;241;43m=\u001b[39;49m\u001b[38;5;124;43m'\u001b[39;49m\u001b[38;5;124;43mextrapolate\u001b[39;49m\u001b[38;5;124;43m'\u001b[39;49m\u001b[43m)\u001b[49m\n\u001b[0;32m     38\u001b[0m \u001b[38;5;28mself\u001b[39m\u001b[38;5;241m.\u001b[39mspatial \u001b[38;5;241m=\u001b[39m \u001b[38;5;28mself\u001b[39m\u001b[38;5;241m.\u001b[39msvdSpatFull\u001b[38;5;241m.\u001b[39mreshape(\u001b[38;5;241m560\u001b[39m\u001b[38;5;241m*\u001b[39m\u001b[38;5;241m560\u001b[39m,\u001b[38;5;241m-\u001b[39m\u001b[38;5;241m1\u001b[39m)\n\u001b[0;32m     39\u001b[0m \u001b[38;5;28;01mif\u001b[39;00m listExps \u001b[38;5;241m==\u001b[39m \u001b[38;5;28;01mNone\u001b[39;00m:\n",
      "File \u001b[1;32mc:\\Users\\nadia\\anaconda3\\envs\\steinmetzlab\\Lib\\site-packages\\scipy\\interpolate\\_interpolate.py:503\u001b[0m, in \u001b[0;36minterp1d.__init__\u001b[1;34m(self, x, y, kind, axis, copy, bounds_error, fill_value, assume_sorted)\u001b[0m\n\u001b[0;32m    499\u001b[0m \u001b[38;5;28;01mdef\u001b[39;00m \u001b[38;5;21m__init__\u001b[39m(\u001b[38;5;28mself\u001b[39m, x, y, kind\u001b[38;5;241m=\u001b[39m\u001b[38;5;124m'\u001b[39m\u001b[38;5;124mlinear\u001b[39m\u001b[38;5;124m'\u001b[39m, axis\u001b[38;5;241m=\u001b[39m\u001b[38;5;241m-\u001b[39m\u001b[38;5;241m1\u001b[39m,\n\u001b[0;32m    500\u001b[0m              copy\u001b[38;5;241m=\u001b[39m\u001b[38;5;28;01mTrue\u001b[39;00m, bounds_error\u001b[38;5;241m=\u001b[39m\u001b[38;5;28;01mNone\u001b[39;00m, fill_value\u001b[38;5;241m=\u001b[39mnp\u001b[38;5;241m.\u001b[39mnan,\n\u001b[0;32m    501\u001b[0m              assume_sorted\u001b[38;5;241m=\u001b[39m\u001b[38;5;28;01mFalse\u001b[39;00m):\n\u001b[0;32m    502\u001b[0m \u001b[38;5;250m    \u001b[39m\u001b[38;5;124;03m\"\"\" Initialize a 1-D linear interpolation class.\"\"\"\u001b[39;00m\n\u001b[1;32m--> 503\u001b[0m     \u001b[43m_Interpolator1D\u001b[49m\u001b[38;5;241;43m.\u001b[39;49m\u001b[38;5;21;43m__init__\u001b[39;49m\u001b[43m(\u001b[49m\u001b[38;5;28;43mself\u001b[39;49m\u001b[43m,\u001b[49m\u001b[43m \u001b[49m\u001b[43mx\u001b[49m\u001b[43m,\u001b[49m\u001b[43m \u001b[49m\u001b[43my\u001b[49m\u001b[43m,\u001b[49m\u001b[43m \u001b[49m\u001b[43maxis\u001b[49m\u001b[38;5;241;43m=\u001b[39;49m\u001b[43maxis\u001b[49m\u001b[43m)\u001b[49m\n\u001b[0;32m    505\u001b[0m     \u001b[38;5;28mself\u001b[39m\u001b[38;5;241m.\u001b[39mbounds_error \u001b[38;5;241m=\u001b[39m bounds_error  \u001b[38;5;66;03m# used by fill_value setter\u001b[39;00m\n\u001b[0;32m    506\u001b[0m     \u001b[38;5;28mself\u001b[39m\u001b[38;5;241m.\u001b[39mcopy \u001b[38;5;241m=\u001b[39m copy\n",
      "File \u001b[1;32mc:\\Users\\nadia\\anaconda3\\envs\\steinmetzlab\\Lib\\site-packages\\scipy\\interpolate\\_polyint.py:57\u001b[0m, in \u001b[0;36m_Interpolator1D.__init__\u001b[1;34m(self, xi, yi, axis)\u001b[0m\n\u001b[0;32m     55\u001b[0m \u001b[38;5;28mself\u001b[39m\u001b[38;5;241m.\u001b[39mdtype \u001b[38;5;241m=\u001b[39m \u001b[38;5;28;01mNone\u001b[39;00m\n\u001b[0;32m     56\u001b[0m \u001b[38;5;28;01mif\u001b[39;00m yi \u001b[38;5;129;01mis\u001b[39;00m \u001b[38;5;129;01mnot\u001b[39;00m \u001b[38;5;28;01mNone\u001b[39;00m:\n\u001b[1;32m---> 57\u001b[0m     \u001b[38;5;28;43mself\u001b[39;49m\u001b[38;5;241;43m.\u001b[39;49m\u001b[43m_set_yi\u001b[49m\u001b[43m(\u001b[49m\u001b[43myi\u001b[49m\u001b[43m,\u001b[49m\u001b[43m \u001b[49m\u001b[43mxi\u001b[49m\u001b[38;5;241;43m=\u001b[39;49m\u001b[43mxi\u001b[49m\u001b[43m,\u001b[49m\u001b[43m \u001b[49m\u001b[43maxis\u001b[49m\u001b[38;5;241;43m=\u001b[39;49m\u001b[43maxis\u001b[49m\u001b[43m)\u001b[49m\n",
      "File \u001b[1;32mc:\\Users\\nadia\\anaconda3\\envs\\steinmetzlab\\Lib\\site-packages\\scipy\\interpolate\\_polyint.py:127\u001b[0m, in \u001b[0;36m_Interpolator1D._set_yi\u001b[1;34m(self, yi, xi, axis)\u001b[0m\n\u001b[0;32m    125\u001b[0m     shape \u001b[38;5;241m=\u001b[39m (\u001b[38;5;241m1\u001b[39m,)\n\u001b[0;32m    126\u001b[0m \u001b[38;5;28;01mif\u001b[39;00m xi \u001b[38;5;129;01mis\u001b[39;00m \u001b[38;5;129;01mnot\u001b[39;00m \u001b[38;5;28;01mNone\u001b[39;00m \u001b[38;5;129;01mand\u001b[39;00m shape[axis] \u001b[38;5;241m!=\u001b[39m \u001b[38;5;28mlen\u001b[39m(xi):\n\u001b[1;32m--> 127\u001b[0m     \u001b[38;5;28;01mraise\u001b[39;00m \u001b[38;5;167;01mValueError\u001b[39;00m(\u001b[38;5;124m\"\u001b[39m\u001b[38;5;124mx and y arrays must be equal in length along \u001b[39m\u001b[38;5;124m\"\u001b[39m\n\u001b[0;32m    128\u001b[0m                      \u001b[38;5;124m\"\u001b[39m\u001b[38;5;124minterpolation axis.\u001b[39m\u001b[38;5;124m\"\u001b[39m)\n\u001b[0;32m    130\u001b[0m \u001b[38;5;28mself\u001b[39m\u001b[38;5;241m.\u001b[39m_y_axis \u001b[38;5;241m=\u001b[39m (axis \u001b[38;5;241m%\u001b[39m yi\u001b[38;5;241m.\u001b[39mndim)\n\u001b[0;32m    131\u001b[0m \u001b[38;5;28mself\u001b[39m\u001b[38;5;241m.\u001b[39m_y_extra_shape \u001b[38;5;241m=\u001b[39m yi\u001b[38;5;241m.\u001b[39mshape[:\u001b[38;5;28mself\u001b[39m\u001b[38;5;241m.\u001b[39m_y_axis] \u001b[38;5;241m+\u001b[39m yi\u001b[38;5;241m.\u001b[39mshape[\u001b[38;5;28mself\u001b[39m\u001b[38;5;241m.\u001b[39m_y_axis\u001b[38;5;241m+\u001b[39m\u001b[38;5;241m1\u001b[39m:]\n",
      "\u001b[1;31mValueError\u001b[0m: x and y arrays must be equal in length along interpolation axis."
     ]
    }
   ],
   "source": [
    "dataNo=wfOpto(Path(r'Y:\\Subjects\\AL_0032\\2024-04-19\\1'))"
   ]
  },
  {
   "cell_type": "code",
   "execution_count": 93,
   "id": "68bb8aab",
   "metadata": {},
   "outputs": [
    {
     "ename": "NameError",
     "evalue": "name 'dataNo' is not defined",
     "output_type": "error",
     "traceback": [
      "\u001b[1;31m---------------------------------------------------------------------------\u001b[0m",
      "\u001b[1;31mNameError\u001b[0m                                 Traceback (most recent call last)",
      "Cell \u001b[1;32mIn[93], line 1\u001b[0m\n\u001b[1;32m----> 1\u001b[0m \u001b[43mdataNo\u001b[49m\u001b[38;5;241m.\u001b[39msvdTemp\n",
      "\u001b[1;31mNameError\u001b[0m: name 'dataNo' is not defined"
     ]
    }
   ],
   "source": [
    "dataNo.svdTemp"
   ]
  },
  {
   "cell_type": "code",
   "execution_count": null,
   "id": "69987889",
   "metadata": {},
   "outputs": [],
   "source": [
    "def visPow(ax,ylim,pow,dataFlicker,dataNo):\n",
    "    # process flicker\n",
    "    power = 3\n",
    "    pixel = (410, 428)\n",
    "    n_samples = 650\n",
    "    timestamps = np.linspace(-0.3, 1, n_samples)*1000\n",
    "\n",
    "    pixel_ix = np.ravel_multi_index((428, 410), (dataFlicker.py, dataFlicker.px))\n",
    "    pows = np.argwhere(dataFlicker.laserPowers[dataFlicker.listExps[0]] == power).ravel()\n",
    "    onTimes = dataFlicker.laserOn[dataFlicker.listExps[0]][pows]\n",
    "    trs = [np.linspace(-.3+on, 1+on, n_samples) for on in onTimes]\n",
    "    trs = np.squeeze(np.array(trs))\n",
    "\n",
    "    flicker = []\n",
    "    for iT, tr in enumerate(trs):\n",
    "        wf = dataFlicker.tToWFManual(tr)\n",
    "        dwf = [np.diff(i, prepend=i[0]) for i in wf.T]\n",
    "        dwf = np.array(dwf)\n",
    "        mov = dataFlicker.svdSpat[pixel_ix] @ dwf\n",
    "        flicker.append(mov)\n",
    "    flicker = np.array(flicker)\n",
    "\n",
    "    # process no flicker\n",
    "    power = 3\n",
    "    pixel = (410, 428)\n",
    "    n_samples = 650\n",
    "    timestamps = np.linspace(-0.3, 1, n_samples)*1000\n",
    "\n",
    "    pixel_ix = np.ravel_multi_index((428, 410), (dataNo.py, dataNo.px))\n",
    "    pows = np.argwhere(dataNo.laserPowers[dataNo.listExps[0]] == power).ravel()\n",
    "    onTimes = dataNo.laserOn[dataNo.listExps[0]][pows]\n",
    "    trs = [np.linspace(-.3+on, 1+on, n_samples) for on in onTimes]\n",
    "    trs = np.squeeze(np.array(trs))\n",
    "\n",
    "    noFlicker = []\n",
    "    for iT, tr in enumerate(trs):\n",
    "        wf = dataNo.tToWFManual(tr)\n",
    "        dwf = [np.diff(i, prepend=i[0]) for i in wf.T]\n",
    "        dwf = np.array(dwf)\n",
    "        mov = dataNo.svdSpat[pixel_ix] @ dwf\n",
    "        noFlicker.append(mov)\n",
    "    noFlicker = np.array(noFlicker)\n",
    "\n",
    "    plt.plot(timestamps, np.mean(noFlicker, axis=0), color='k')\n",
    "    plt.fill_between(timestamps, \\\n",
    "                     np.mean(noFlicker, axis=0)-scipy.stats.sem(noFlicker,axis=0),\\\n",
    "                     np.mean(noFlicker,axis=0)+scipy.stats.sem(noFlicker,axis=0), color='k', alpha=0.3, lw=0, label='_nolegend_')\n",
    "    \n",
    "    plt.plot(timestamps, np.mean(flicker,axis=0),color='k',linestyle='dotted')\n",
    "    plt.fill_between(timestamps, \\\n",
    "                     np.mean(flicker, axis=0)-scipy.stats.sem(flicker,axis=0),\\\n",
    "                     np.mean(flicker,axis=0)+scipy.stats.sem(flicker,axis=0), color='k', lw=0, label='_nolegend_', alpha=0.3)\n",
    "    plt.axvspan(0,100,color='gray',alpha=.3,lw=0)\n",
    "    ax.xaxis.set_major_locator(mpl.ticker.MultipleLocator(200))\n",
    "    # plt.legend()\n",
    "    plt.xlim([-100,500])\n",
    "    plt.xlabel('Time from stim onset(s)')\n",
    "    plt.ylabel('Activity in visual cortex')\n",
    "    plt.title(f'{power} mW opto stim')"
   ]
  },
  {
   "cell_type": "code",
   "execution_count": null,
   "id": "e5cf5721",
   "metadata": {},
   "outputs": [],
   "source": [
    "pow=3\n",
    "visPow(ax,ylim,pow,dataFlicker,dataNo)\n",
    "\n",
    "# visQuant"
   ]
  },
  {
   "cell_type": "code",
   "execution_count": null,
   "id": "c71eaca2",
   "metadata": {},
   "outputs": [],
   "source": [
    "mouse='AL_0027'\n",
    "date=\"4/18\""
   ]
  },
  {
   "cell_type": "code",
   "execution_count": null,
   "id": "6d897741",
   "metadata": {},
   "outputs": [],
   "source": [
    "fig.savefig(f'C:\\GitHub\\steinmetzlab\\wf + opto\\figs\\control\\{mouse}_{date}')"
   ]
  },
  {
   "cell_type": "markdown",
   "id": "a0e2fc57",
   "metadata": {},
   "source": [
    "## AL_0023"
   ]
  },
  {
   "cell_type": "code",
   "execution_count": 37,
   "id": "f1b58022-1fd6-41d0-b31f-1f02a94411f1",
   "metadata": {},
   "outputs": [
    {
     "name": "stdout",
     "output_type": "stream",
     "text": [
      "[-0.]\n",
      "[-0.]\n",
      "[0.1  0.25 0.5  0.75 1.   1.5  2.   2.5  3.  ]\n",
      "[0.1]\n"
     ]
    }
   ],
   "source": [
    "serverPath = Path(r'Z:\\Subjects\\AL_0023\\2023-08-30\\1')\n",
    "galvoX = np.squeeze(np.load(serverPath/'galvoXPositions.npy'))\n",
    "galvoY = np.squeeze(np.load(serverPath/'galvoYPositions.npy'))\n",
    "laserPowers = np.squeeze(np.load(serverPath/'laserPowers.npy'))\n",
    "laserOn = np.squeeze(np.load(serverPath / 'laserOnTimes.npy'))\n",
    "laserOff = np.squeeze(np.load(serverPath / 'laserOffTimes.npy'))\n",
    "pulseLengths = []\n",
    "for count,time in enumerate(laserOff):\n",
    "        length = laserOff[count]-laserOn[count]\n",
    "        length = round(length,2)\n",
    "        pulseLengths.append(length)\n",
    "pulseLengths = np.array(pulseLengths)\n",
    "print(np.unique(galvoX))\n",
    "print(np.unique(galvoY))\n",
    "print(np.unique(laserPowers))\n",
    "print(np.unique(pulseLengths))"
   ]
  },
  {
   "cell_type": "code",
   "execution_count": 38,
   "id": "68dc9f11-d2dc-4d76-a9f2-d3573b5c439f",
   "metadata": {},
   "outputs": [
    {
     "name": "stdout",
     "output_type": "stream",
     "text": [
      "[-0.]\n",
      "[-0.]\n",
      "[0.1  0.25 0.5  0.75 1.   1.5  2.   2.5  3.  ]\n",
      "[0.1]\n"
     ]
    }
   ],
   "source": [
    "serverPath = Path(r'Z:\\Subjects\\AL_0023\\2023-08-30\\1')\n",
    "galvoX = np.squeeze(np.load(serverPath/'galvoXPositions.npy'))\n",
    "galvoY = np.squeeze(np.load(serverPath/'galvoYPositions.npy'))\n",
    "laserPowers = np.squeeze(np.load(serverPath/'laserPowers.npy'))\n",
    "laserOn = np.squeeze(np.load(serverPath / 'laserOnTimes.npy'))\n",
    "laserOff = np.squeeze(np.load(serverPath / 'laserOffTimes.npy'))\n",
    "pulseLengths = []\n",
    "for count,time in enumerate(laserOff):\n",
    "        length = laserOff[count]-laserOn[count]\n",
    "        length = round(length,2)\n",
    "        pulseLengths.append(length)\n",
    "pulseLengths = np.array(pulseLengths)\n",
    "print(np.unique(galvoX))\n",
    "print(np.unique(galvoY))\n",
    "print(np.unique(laserPowers))\n",
    "print(np.unique(pulseLengths))"
   ]
  },
  {
   "cell_type": "code",
   "execution_count": 6,
   "id": "3120fac0",
   "metadata": {},
   "outputs": [
    {
     "name": "stdout",
     "output_type": "stream",
     "text": [
      "[1. 4.]\n",
      "[-0.]\n",
      "[0.1 0.5 0.6 0.7]\n",
      "[0.1]\n"
     ]
    }
   ],
   "source": [
    "serverPath = Path(r'Z:\\Subjects\\AL_0023\\2023-08-09\\1')\n",
    "galvoX = np.squeeze(np.load(serverPath/'galvoXPositions.npy'))\n",
    "galvoY = np.squeeze(np.load(serverPath/'galvoYPositions.npy'))\n",
    "laserPowers = np.squeeze(np.load(serverPath/'laserPowers.npy'))\n",
    "laserOn = np.squeeze(np.load(serverPath / 'laserOnTimes.npy'))\n",
    "laserOff = np.squeeze(np.load(serverPath / 'laserOffTimes.npy'))\n",
    "pulseLengths = []\n",
    "for count,time in enumerate(laserOff):\n",
    "        length = laserOff[count]-laserOn[count]\n",
    "        length = round(length,2)\n",
    "        pulseLengths.append(length)\n",
    "pulseLengths = np.array(pulseLengths)\n",
    "print(np.unique(galvoX))\n",
    "print(np.unique(galvoY))\n",
    "print(np.unique(laserPowers))\n",
    "print(np.unique(pulseLengths))"
   ]
  },
  {
   "cell_type": "code",
   "execution_count": 8,
   "id": "f2109616",
   "metadata": {},
   "outputs": [
    {
     "name": "stdout",
     "output_type": "stream",
     "text": [
      "[1. 4.]\n",
      "[-0.]\n",
      "[0.1 0.5 1.  1.5 2.  2.5 3. ]\n",
      "[0.1]\n"
     ]
    }
   ],
   "source": [
    "serverPath = Path(r'Z:\\Subjects\\AL_0023\\2023-08-11\\1')\n",
    "galvoX = np.squeeze(np.load(serverPath/'galvoXPositions.npy'))\n",
    "galvoY = np.squeeze(np.load(serverPath/'galvoYPositions.npy'))\n",
    "laserPowers = np.squeeze(np.load(serverPath/'laserPowers.npy'))\n",
    "laserOn = np.squeeze(np.load(serverPath / 'laserOnTimes.npy'))\n",
    "laserOff = np.squeeze(np.load(serverPath / 'laserOffTimes.npy'))\n",
    "pulseLengths = []\n",
    "for count,time in enumerate(laserOff):\n",
    "        length = laserOff[count]-laserOn[count]\n",
    "        length = round(length,2)\n",
    "        pulseLengths.append(length)\n",
    "pulseLengths = np.array(pulseLengths)\n",
    "print(np.unique(galvoX))\n",
    "print(np.unique(galvoY))\n",
    "print(np.unique(laserPowers))\n",
    "print(np.unique(pulseLengths))"
   ]
  },
  {
   "cell_type": "code",
   "execution_count": 13,
   "metadata": {},
   "outputs": [
    {
     "name": "stdout",
     "output_type": "stream",
     "text": [
      "[1. 4.]\n",
      "[-0.]\n",
      "[0.1 0.5 1.  1.5 2.  2.5 3. ]\n",
      "[0.1]\n"
     ]
    }
   ],
   "source": [
    "serverPath = Path(r'Z:\\Subjects\\AL_0023\\2023-08-14\\1')\n",
    "galvoX = np.squeeze(np.load(serverPath/'galvoXPositions.npy'))\n",
    "galvoY = np.squeeze(np.load(serverPath/'galvoYPositions.npy'))\n",
    "laserPowers = np.squeeze(np.load(serverPath/'laserPowers.npy'))\n",
    "laserOn = np.squeeze(np.load(serverPath / 'laserOnTimes.npy'))\n",
    "laserOff = np.squeeze(np.load(serverPath / 'laserOffTimes.npy'))\n",
    "pulseLengths = []\n",
    "for count,time in enumerate(laserOff):\n",
    "        length = laserOff[count]-laserOn[count]\n",
    "        length = round(length,2)\n",
    "        pulseLengths.append(length)\n",
    "pulseLengths = np.array(pulseLengths)\n",
    "print(np.unique(galvoX))\n",
    "print(np.unique(galvoY))\n",
    "print(np.unique(laserPowers))\n",
    "print(np.unique(pulseLengths))"
   ]
  },
  {
   "cell_type": "code",
   "execution_count": 14,
   "id": "95f5764a",
   "metadata": {},
   "outputs": [
    {
     "name": "stdout",
     "output_type": "stream",
     "text": [
      "[1. 4.]\n",
      "[-0.]\n",
      "[1. 2. 3. 4. 5.]\n",
      "[0.1]\n"
     ]
    }
   ],
   "source": [
    "serverPath = Path(r'Z:\\Subjects\\AL_0023\\2023-08-15\\1')\n",
    "galvoX = np.squeeze(np.load(serverPath/'galvoXPositions.npy'))\n",
    "galvoY = np.squeeze(np.load(serverPath/'galvoYPositions.npy'))\n",
    "laserPowers = np.squeeze(np.load(serverPath/'laserPowers.npy'))\n",
    "laserOn = np.squeeze(np.load(serverPath / 'laserOnTimes.npy'))\n",
    "laserOff = np.squeeze(np.load(serverPath / 'laserOffTimes.npy'))\n",
    "pulseLengths = []\n",
    "for count,time in enumerate(laserOff):\n",
    "        length = laserOff[count]-laserOn[count]\n",
    "        length = round(length,2)\n",
    "        pulseLengths.append(length)\n",
    "pulseLengths = np.array(pulseLengths)\n",
    "print(np.unique(galvoX))\n",
    "print(np.unique(galvoY))\n",
    "print(np.unique(laserPowers))\n",
    "print(np.unique(pulseLengths))"
   ]
  },
  {
   "cell_type": "code",
   "execution_count": 15,
   "id": "edcc3f12",
   "metadata": {},
   "outputs": [
    {
     "name": "stdout",
     "output_type": "stream",
     "text": [
      "[-0.]\n",
      "[-0.   1.5  2.5]\n",
      "[0.05 0.1  0.15 0.2  0.3  0.5  0.75 1.   1.5 ]\n",
      "[0.1]\n"
     ]
    }
   ],
   "source": [
    "serverPath = Path(r'Z:\\Subjects\\AL_0023\\2023-08-23\\3')\n",
    "galvoX = np.squeeze(np.load(serverPath/'galvoXPositions.npy'))\n",
    "galvoY = np.squeeze(np.load(serverPath/'galvoYPositions.npy'))\n",
    "laserPowers = np.squeeze(np.load(serverPath/'laserPowers.npy'))\n",
    "laserOn = np.squeeze(np.load(serverPath / 'laserOnTimes.npy'))\n",
    "laserOff = np.squeeze(np.load(serverPath / 'laserOffTimes.npy'))\n",
    "pulseLengths = []\n",
    "for count,time in enumerate(laserOff):\n",
    "        length = laserOff[count]-laserOn[count]\n",
    "        length = round(length,2)\n",
    "        pulseLengths.append(length)\n",
    "pulseLengths = np.array(pulseLengths)\n",
    "print(np.unique(galvoX))\n",
    "print(np.unique(galvoY))\n",
    "print(np.unique(laserPowers))\n",
    "print(np.unique(pulseLengths))"
   ]
  },
  {
   "cell_type": "code",
   "execution_count": 17,
   "id": "bb9fde09",
   "metadata": {},
   "outputs": [
    {
     "name": "stdout",
     "output_type": "stream",
     "text": [
      "[-0.]\n",
      "[-0.   1.5  2.5]\n",
      "[0.1  0.25 0.5  0.75 1.   1.5  2.   2.5  3.  ]\n",
      "[0.1]\n"
     ]
    }
   ],
   "source": [
    "serverPath = Path(r'Z:\\Subjects\\AL_0023\\2023-08-24\\1')\n",
    "galvoX = np.squeeze(np.load(serverPath/'galvoXPositions.npy'))\n",
    "galvoY = np.squeeze(np.load(serverPath/'galvoYPositions.npy'))\n",
    "laserPowers = np.squeeze(np.load(serverPath/'laserPowers.npy'))\n",
    "laserOn = np.squeeze(np.load(serverPath / 'laserOnTimes.npy'))\n",
    "laserOff = np.squeeze(np.load(serverPath / 'laserOffTimes.npy'))\n",
    "pulseLengths = []\n",
    "for count,time in enumerate(laserOff):\n",
    "        length = laserOff[count]-laserOn[count]\n",
    "        length = round(length,2)\n",
    "        pulseLengths.append(length)\n",
    "pulseLengths = np.array(pulseLengths)\n",
    "print(np.unique(galvoX))\n",
    "print(np.unique(galvoY))\n",
    "print(np.unique(laserPowers))\n",
    "print(np.unique(pulseLengths))"
   ]
  },
  {
   "cell_type": "code",
   "execution_count": 20,
   "id": "89941932",
   "metadata": {},
   "outputs": [
    {
     "name": "stdout",
     "output_type": "stream",
     "text": [
      "[-0.]\n",
      "[-0.   1.5  2.5]\n",
      "[0.1  0.25 0.5  0.75 1.   1.5  2.   2.5  3.  ]\n",
      "[0.1]\n"
     ]
    }
   ],
   "source": [
    "serverPath = Path(r'Z:\\Subjects\\AL_0023\\2023-08-25\\2')\n",
    "galvoX = np.squeeze(np.load(serverPath/'galvoXPositions.npy'))\n",
    "galvoY = np.squeeze(np.load(serverPath/'galvoYPositions.npy'))\n",
    "laserPowers = np.squeeze(np.load(serverPath/'laserPowers.npy'))\n",
    "laserOn = np.squeeze(np.load(serverPath / 'laserOnTimes.npy'))\n",
    "laserOff = np.squeeze(np.load(serverPath / 'laserOffTimes.npy'))\n",
    "pulseLengths = []\n",
    "for count,time in enumerate(laserOff):\n",
    "        length = laserOff[count]-laserOn[count]\n",
    "        length = round(length,2)\n",
    "        pulseLengths.append(length)\n",
    "pulseLengths = np.array(pulseLengths)\n",
    "print(np.unique(galvoX))\n",
    "print(np.unique(galvoY))\n",
    "print(np.unique(laserPowers))\n",
    "print(np.unique(pulseLengths))"
   ]
  },
  {
   "cell_type": "code",
   "execution_count": 21,
   "id": "8398a9d8",
   "metadata": {},
   "outputs": [
    {
     "name": "stdout",
     "output_type": "stream",
     "text": [
      "[-0.]\n",
      "[-0.]\n",
      "[0.1  0.25 0.5  0.75 1.   1.5  2.   2.5  3.  ]\n",
      "[0.1]\n"
     ]
    }
   ],
   "source": [
    "serverPath = Path(r'Z:\\Subjects\\AL_0023\\2023-08-30\\1')\n",
    "galvoX = np.squeeze(np.load(serverPath/'galvoXPositions.npy'))\n",
    "galvoY = np.squeeze(np.load(serverPath/'galvoYPositions.npy'))\n",
    "laserPowers = np.squeeze(np.load(serverPath/'laserPowers.npy'))\n",
    "laserOn = np.squeeze(np.load(serverPath / 'laserOnTimes.npy'))\n",
    "laserOff = np.squeeze(np.load(serverPath / 'laserOffTimes.npy'))\n",
    "pulseLengths = []\n",
    "for count,time in enumerate(laserOff):\n",
    "        length = laserOff[count]-laserOn[count]\n",
    "        length = round(length,2)\n",
    "        pulseLengths.append(length)\n",
    "pulseLengths = np.array(pulseLengths)\n",
    "print(np.unique(galvoX))\n",
    "print(np.unique(galvoY))\n",
    "print(np.unique(laserPowers))\n",
    "print(np.unique(pulseLengths))"
   ]
  },
  {
   "cell_type": "code",
   "execution_count": null,
   "id": "9c49fe3b",
   "metadata": {},
   "outputs": [],
   "source": []
  },
  {
   "cell_type": "markdown",
   "id": "670e11f7",
   "metadata": {},
   "source": [
    "## ZYE_0069"
   ]
  },
  {
   "cell_type": "code",
   "execution_count": 22,
   "id": "2b491dec",
   "metadata": {},
   "outputs": [
    {
     "name": "stdout",
     "output_type": "stream",
     "text": [
      "[0.]\n",
      "[0.]\n",
      "[3.2]\n",
      "[0.5]\n"
     ]
    }
   ],
   "source": [
    "serverPath = Path(r'Z:\\Subjects\\ZYE_0069\\2023-07-14\\4')\n",
    "galvoX = np.squeeze(np.load(serverPath/'galvoXPositions.npy'))\n",
    "galvoY = np.squeeze(np.load(serverPath/'galvoYPositions.npy'))\n",
    "laserPowers = np.squeeze(np.load(serverPath/'laserPowers.npy'))\n",
    "laserOn = np.squeeze(np.load(serverPath / 'laserOnTimes.npy'))\n",
    "laserOff = np.squeeze(np.load(serverPath / 'laserOffTimes.npy'))\n",
    "pulseLengths = []\n",
    "for count,time in enumerate(laserOff):\n",
    "        length = laserOff[count]-laserOn[count]\n",
    "        length = round(length,2)\n",
    "        pulseLengths.append(length)\n",
    "pulseLengths = np.array(pulseLengths)\n",
    "print(np.unique(galvoX))\n",
    "print(np.unique(galvoY))\n",
    "print(np.unique(laserPowers))\n",
    "print(np.unique(pulseLengths))"
   ]
  },
  {
   "cell_type": "code",
   "execution_count": 40,
   "id": "b4bad64c",
   "metadata": {},
   "outputs": [
    {
     "ename": "FileNotFoundError",
     "evalue": "[Errno 2] No such file or directory: 'Z:\\\\Subjects\\\\ZYE_0069\\\\2023-07-14\\\\6\\\\galvoXPositions.npy'",
     "output_type": "error",
     "traceback": [
      "\u001b[1;31m---------------------------------------------------------------------------\u001b[0m",
      "\u001b[1;31mFileNotFoundError\u001b[0m                         Traceback (most recent call last)",
      "Cell \u001b[1;32mIn[40], line 2\u001b[0m\n\u001b[0;32m      1\u001b[0m serverPath \u001b[38;5;241m=\u001b[39m Path(\u001b[38;5;124mr\u001b[39m\u001b[38;5;124m'\u001b[39m\u001b[38;5;124mZ:\u001b[39m\u001b[38;5;124m\\\u001b[39m\u001b[38;5;124mSubjects\u001b[39m\u001b[38;5;124m\\\u001b[39m\u001b[38;5;124mZYE_0069\u001b[39m\u001b[38;5;124m\\\u001b[39m\u001b[38;5;124m2023-07-14\u001b[39m\u001b[38;5;124m\\\u001b[39m\u001b[38;5;124m6\u001b[39m\u001b[38;5;124m'\u001b[39m)\n\u001b[1;32m----> 2\u001b[0m galvoX \u001b[38;5;241m=\u001b[39m np\u001b[38;5;241m.\u001b[39msqueeze(\u001b[43mnp\u001b[49m\u001b[38;5;241;43m.\u001b[39;49m\u001b[43mload\u001b[49m\u001b[43m(\u001b[49m\u001b[43mserverPath\u001b[49m\u001b[38;5;241;43m/\u001b[39;49m\u001b[38;5;124;43m'\u001b[39;49m\u001b[38;5;124;43mgalvoXPositions.npy\u001b[39;49m\u001b[38;5;124;43m'\u001b[39;49m\u001b[43m)\u001b[49m)\n\u001b[0;32m      3\u001b[0m galvoY \u001b[38;5;241m=\u001b[39m np\u001b[38;5;241m.\u001b[39msqueeze(np\u001b[38;5;241m.\u001b[39mload(serverPath\u001b[38;5;241m/\u001b[39m\u001b[38;5;124m'\u001b[39m\u001b[38;5;124mgalvoYPositions.npy\u001b[39m\u001b[38;5;124m'\u001b[39m))\n\u001b[0;32m      4\u001b[0m laserPowers \u001b[38;5;241m=\u001b[39m np\u001b[38;5;241m.\u001b[39msqueeze(np\u001b[38;5;241m.\u001b[39mload(serverPath\u001b[38;5;241m/\u001b[39m\u001b[38;5;124m'\u001b[39m\u001b[38;5;124mlaserPowers.npy\u001b[39m\u001b[38;5;124m'\u001b[39m))\n",
      "File \u001b[1;32mc:\\Users\\nadia\\anaconda3\\envs\\steinmetzlab\\lib\\site-packages\\numpy\\lib\\npyio.py:427\u001b[0m, in \u001b[0;36mload\u001b[1;34m(file, mmap_mode, allow_pickle, fix_imports, encoding, max_header_size)\u001b[0m\n\u001b[0;32m    425\u001b[0m     own_fid \u001b[38;5;241m=\u001b[39m \u001b[38;5;28;01mFalse\u001b[39;00m\n\u001b[0;32m    426\u001b[0m \u001b[38;5;28;01melse\u001b[39;00m:\n\u001b[1;32m--> 427\u001b[0m     fid \u001b[38;5;241m=\u001b[39m stack\u001b[38;5;241m.\u001b[39menter_context(\u001b[38;5;28;43mopen\u001b[39;49m\u001b[43m(\u001b[49m\u001b[43mos_fspath\u001b[49m\u001b[43m(\u001b[49m\u001b[43mfile\u001b[49m\u001b[43m)\u001b[49m\u001b[43m,\u001b[49m\u001b[43m \u001b[49m\u001b[38;5;124;43m\"\u001b[39;49m\u001b[38;5;124;43mrb\u001b[39;49m\u001b[38;5;124;43m\"\u001b[39;49m\u001b[43m)\u001b[49m)\n\u001b[0;32m    428\u001b[0m     own_fid \u001b[38;5;241m=\u001b[39m \u001b[38;5;28;01mTrue\u001b[39;00m\n\u001b[0;32m    430\u001b[0m \u001b[38;5;66;03m# Code to distinguish from NumPy binary files and pickles.\u001b[39;00m\n",
      "\u001b[1;31mFileNotFoundError\u001b[0m: [Errno 2] No such file or directory: 'Z:\\\\Subjects\\\\ZYE_0069\\\\2023-07-14\\\\6\\\\galvoXPositions.npy'"
     ]
    }
   ],
   "source": [
    "serverPath = Path(r'Z:\\Subjects\\ZYE_0069\\2023-07-14\\6')\n",
    "galvoX = np.squeeze(np.load(serverPath/'galvoXPositions.npy'))\n",
    "galvoY = np.squeeze(np.load(serverPath/'galvoYPositions.npy'))\n",
    "laserPowers = np.squeeze(np.load(serverPath/'laserPowers.npy'))\n",
    "laserOn = np.squeeze(np.load(serverPath / 'laserOnTimes.npy'))\n",
    "laserOff = np.squeeze(np.load(serverPath / 'laserOffTimes.npy'))\n",
    "pulseLengths = []\n",
    "for count,time in enumerate(laserOff):\n",
    "        length = laserOff[count]-laserOn[count]\n",
    "        length = round(length,2)\n",
    "        pulseLengths.append(length)\n",
    "pulseLengths = np.array(pulseLengths)\n",
    "print(np.unique(galvoX))\n",
    "print(np.unique(galvoY))\n",
    "print(np.unique(laserPowers))\n",
    "print(np.unique(pulseLengths))"
   ]
  },
  {
   "cell_type": "code",
   "execution_count": 29,
   "id": "b2ff86b5",
   "metadata": {},
   "outputs": [
    {
     "name": "stdout",
     "output_type": "stream",
     "text": [
      "[-0.   3.3]\n",
      "[0.]\n",
      "[0.1 0.4 0.5 0.7 1.1 2.2 3.2]\n",
      "[0.01 0.05 0.1  0.2  0.5 ]\n"
     ]
    }
   ],
   "source": [
    "# this one is messy since it switches halfway through\n",
    "serverPath = Path(r'Z:\\Subjects\\ZYE_0069\\2023-07-17\\1')\n",
    "galvoX = np.squeeze(np.load(serverPath/'galvoXPositions.npy'))\n",
    "galvoY = np.squeeze(np.load(serverPath/'galvoYPositions.npy'))\n",
    "laserPowers = np.squeeze(np.load(serverPath/'laserPowers.npy'))\n",
    "laserOn = np.squeeze(np.load(serverPath / 'laserOnTimes.npy'))\n",
    "laserOff = np.squeeze(np.load(serverPath / 'laserOffTimes.npy'))\n",
    "pulseLengths = []\n",
    "for count,time in enumerate(laserOff):\n",
    "        length = laserOff[count]-laserOn[count]\n",
    "        length = round(length,2)\n",
    "        pulseLengths.append(length)\n",
    "pulseLengths = np.array(pulseLengths)\n",
    "print(np.unique(galvoX))\n",
    "print(np.unique(galvoY))\n",
    "print(np.unique(laserPowers))\n",
    "print(np.unique(pulseLengths))"
   ]
  },
  {
   "cell_type": "code",
   "execution_count": 31,
   "id": "50b07e8b",
   "metadata": {},
   "outputs": [
    {
     "name": "stdout",
     "output_type": "stream",
     "text": [
      "[0.  3.3]\n",
      "[0.  3.3]\n",
      "[0.5 1.  1.5 2.  3.2]\n",
      "[0.1]\n"
     ]
    }
   ],
   "source": [
    "serverPath = Path(r'Z:\\Subjects\\ZYE_0069\\2023-07-19\\1')\n",
    "galvoX = np.squeeze(np.load(serverPath/'galvoXPositions.npy'))\n",
    "galvoY = np.squeeze(np.load(serverPath/'galvoYPositions.npy'))\n",
    "laserPowers = np.squeeze(np.load(serverPath/'laserPowers.npy'))\n",
    "laserOn = np.squeeze(np.load(serverPath / 'laserOnTimes.npy'))\n",
    "laserOff = np.squeeze(np.load(serverPath / 'laserOffTimes.npy'))\n",
    "pulseLengths = []\n",
    "for count,time in enumerate(laserOff):\n",
    "        length = laserOff[count]-laserOn[count]\n",
    "        length = round(length,2)\n",
    "        pulseLengths.append(length)\n",
    "pulseLengths = np.array(pulseLengths)\n",
    "print(np.unique(galvoX))\n",
    "print(np.unique(galvoY))\n",
    "print(np.unique(laserPowers))\n",
    "print(np.unique(pulseLengths))"
   ]
  },
  {
   "cell_type": "code",
   "execution_count": 32,
   "id": "780ac90f",
   "metadata": {},
   "outputs": [
    {
     "name": "stdout",
     "output_type": "stream",
     "text": [
      "[-0.01 -0.  ]\n",
      "[-0.01 -0.  ]\n",
      "[0.1 0.2 0.5 0.7 1.  1.2 1.5 1.7 2. ]\n",
      "[0.1]\n"
     ]
    }
   ],
   "source": [
    "serverPath = Path(r'Z:\\Subjects\\ZYE_0069\\2023-08-16\\1')\n",
    "galvoX = np.squeeze(np.load(serverPath/'galvoXPositions.npy'))\n",
    "galvoY = np.squeeze(np.load(serverPath/'galvoYPositions.npy'))\n",
    "laserPowers = np.squeeze(np.load(serverPath/'laserPowers.npy'))\n",
    "laserOn = np.squeeze(np.load(serverPath / 'laserOnTimes.npy'))\n",
    "laserOff = np.squeeze(np.load(serverPath / 'laserOffTimes.npy'))\n",
    "pulseLengths = []\n",
    "for count,time in enumerate(laserOff):\n",
    "        length = laserOff[count]-laserOn[count]\n",
    "        length = round(length,2)\n",
    "        pulseLengths.append(length)\n",
    "pulseLengths = np.array(pulseLengths)\n",
    "print(np.unique(galvoX))\n",
    "print(np.unique(galvoY))\n",
    "print(np.unique(laserPowers))\n",
    "print(np.unique(pulseLengths))"
   ]
  },
  {
   "cell_type": "code",
   "execution_count": 35,
   "id": "64a1dd86",
   "metadata": {},
   "outputs": [
    {
     "name": "stdout",
     "output_type": "stream",
     "text": [
      "[-0.]\n",
      "[-0.]\n",
      "[0.05 0.1  0.15 0.2  0.3  0.5  0.75 1.   1.5 ]\n",
      "[0.1]\n"
     ]
    }
   ],
   "source": [
    "serverPath = Path(r'Z:\\Subjects\\ZYE_0069\\2023-08-22\\1')\n",
    "galvoX = np.squeeze(np.load(serverPath/'galvoXPositions.npy'))\n",
    "galvoY = np.squeeze(np.load(serverPath/'galvoYPositions.npy'))\n",
    "laserPowers = np.squeeze(np.load(serverPath/'laserPowers.npy'))\n",
    "laserOn = np.squeeze(np.load(serverPath / 'laserOnTimes.npy'))\n",
    "laserOff = np.squeeze(np.load(serverPath / 'laserOffTimes.npy'))\n",
    "pulseLengths = []\n",
    "for count,time in enumerate(laserOff):\n",
    "        length = laserOff[count]-laserOn[count]\n",
    "        length = round(length,2)\n",
    "        pulseLengths.append(length)\n",
    "pulseLengths = np.array(pulseLengths)\n",
    "print(np.unique(galvoX))\n",
    "print(np.unique(galvoY))\n",
    "print(np.unique(laserPowers))\n",
    "print(np.unique(pulseLengths))"
   ]
  },
  {
   "cell_type": "markdown",
   "id": "32d76bf9",
   "metadata": {},
   "source": [
    "## AL_0027"
   ]
  },
  {
   "cell_type": "code",
   "execution_count": 36,
   "id": "b955e432",
   "metadata": {},
   "outputs": [
    {
     "name": "stdout",
     "output_type": "stream",
     "text": [
      "[-0.]\n",
      "[-0.]\n",
      "[0.1  0.25 0.5  0.75 1.   1.5  2.   2.5  3.  ]\n",
      "[0.1]\n"
     ]
    }
   ],
   "source": [
    "serverPath = Path(r'Z:\\Subjects\\AL_0027\\2023-10-24\\1')\n",
    "galvoX = np.squeeze(np.load(serverPath/'galvoXPositions.npy'))\n",
    "galvoY = np.squeeze(np.load(serverPath/'galvoYPositions.npy'))\n",
    "laserPowers = np.squeeze(np.load(serverPath/'laserPowers.npy'))\n",
    "laserOn = np.squeeze(np.load(serverPath / 'laserOnTimes.npy'))\n",
    "laserOff = np.squeeze(np.load(serverPath / 'laserOffTimes.npy'))\n",
    "pulseLengths = []\n",
    "for count,time in enumerate(laserOff):\n",
    "        length = laserOff[count]-laserOn[count]\n",
    "        length = round(length,2)\n",
    "        pulseLengths.append(length)\n",
    "pulseLengths = np.array(pulseLengths)\n",
    "print(np.unique(galvoX))\n",
    "print(np.unique(galvoY))\n",
    "print(np.unique(laserPowers))\n",
    "print(np.unique(pulseLengths))"
   ]
  },
  {
   "cell_type": "code",
   "execution_count": null,
   "id": "c7365063",
   "metadata": {},
   "outputs": [],
   "source": []
  }
 ],
 "metadata": {
  "kernelspec": {
   "display_name": "Python 3 (ipykernel)",
   "language": "python",
   "name": "python3"
  },
  "language_info": {
   "codemirror_mode": {
    "name": "ipython",
    "version": 3
   },
   "file_extension": ".py",
   "mimetype": "text/x-python",
   "name": "python",
   "nbconvert_exporter": "python",
   "pygments_lexer": "ipython3",
   "version": "3.12.1"
  }
 },
 "nbformat": 4,
 "nbformat_minor": 5
}
