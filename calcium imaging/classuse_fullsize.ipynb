{
 "cells": [
  {
   "cell_type": "markdown",
   "id": "a2237fda-7145-42d6-90ba-72e66ffbf471",
   "metadata": {},
   "source": [
    "### using the wfData class "
   ]
  },
  {
   "cell_type": "code",
   "execution_count": 1,
   "id": "63990f46-eec4-463e-bc7f-bc4a813d4608",
   "metadata": {},
   "outputs": [],
   "source": [
    "from wfData_fullsize import *"
   ]
  },
  {
   "cell_type": "code",
   "execution_count": 2,
   "id": "3f909441-fc54-487c-a879-5645a84d50b6",
   "metadata": {
    "tags": []
   },
   "outputs": [
    {
     "ename": "ValueError",
     "evalue": "cannot reshape array of size 0 into shape (2000,560,560)",
     "output_type": "error",
     "traceback": [
      "\u001b[1;31m---------------------------------------------------------------------------\u001b[0m",
      "\u001b[1;31mValueError\u001b[0m                                Traceback (most recent call last)",
      "Cell \u001b[1;32mIn[2], line 2\u001b[0m\n\u001b[0;32m      1\u001b[0m \u001b[38;5;66;03m# load 5/15 data\u001b[39;00m\n\u001b[1;32m----> 2\u001b[0m wfData_new \u001b[38;5;241m=\u001b[39m \u001b[43mwfData\u001b[49m\u001b[43m(\u001b[49m\u001b[43mPath\u001b[49m\u001b[43m(\u001b[49m\u001b[38;5;124;43mr\u001b[39;49m\u001b[38;5;124;43m'\u001b[39;49m\u001b[38;5;124;43mZ:\u001b[39;49m\u001b[38;5;124;43m\\\u001b[39;49m\u001b[38;5;124;43mSubjects\u001b[39;49m\u001b[38;5;124;43m\\\u001b[39;49m\u001b[38;5;124;43mAL_0023\u001b[39;49m\u001b[38;5;124;43m\\\u001b[39;49m\u001b[38;5;124;43m2023-05-15\u001b[39;49m\u001b[38;5;124;43m\\\u001b[39;49m\u001b[38;5;124;43m1\u001b[39;49m\u001b[38;5;124;43m'\u001b[39;49m\u001b[43m)\u001b[49m\u001b[43m,\u001b[49m\u001b[43m \u001b[49m\u001b[43mPath\u001b[49m\u001b[43m(\u001b[49m\u001b[38;5;124;43mr\u001b[39;49m\u001b[38;5;124;43m'\u001b[39;49m\u001b[38;5;124;43mZ:\u001b[39;49m\u001b[38;5;124;43m\\\u001b[39;49m\u001b[38;5;124;43mSubjects\u001b[39;49m\u001b[38;5;124;43m\\\u001b[39;49m\u001b[38;5;124;43mAL_0023\u001b[39;49m\u001b[38;5;124;43m\\\u001b[39;49m\u001b[38;5;124;43m2023-05-15\u001b[39;49m\u001b[38;5;124;43m\\\u001b[39;49m\u001b[38;5;124;43m3\u001b[39;49m\u001b[38;5;124;43m'\u001b[39;49m\u001b[43m)\u001b[49m\u001b[43m)\u001b[49m\n",
      "File \u001b[1;32m~\\OneDrive\\Documents\\GitHub\\steinmetzlab\\calcium imaging\\wfData_fullsize.py:21\u001b[0m, in \u001b[0;36mwfData.__init__\u001b[1;34m(self, pathSubject, pathStim)\u001b[0m\n\u001b[0;32m     19\u001b[0m \u001b[38;5;28mself\u001b[39m\u001b[38;5;241m.\u001b[39mframeTimes \u001b[38;5;241m=\u001b[39m np\u001b[38;5;241m.\u001b[39msqueeze(np\u001b[38;5;241m.\u001b[39mload(\u001b[38;5;28mself\u001b[39m\u001b[38;5;241m.\u001b[39mtimeFile))[::\u001b[38;5;241m2\u001b[39m]\n\u001b[0;32m     20\u001b[0m \u001b[38;5;28mself\u001b[39m\u001b[38;5;241m.\u001b[39msvdTemp \u001b[38;5;241m=\u001b[39m np\u001b[38;5;241m.\u001b[39mload(serverPath \u001b[38;5;241m/\u001b[39m \u001b[38;5;124m'\u001b[39m\u001b[38;5;124mcorr/svdTemporalComponents_corr.npy\u001b[39m\u001b[38;5;124m'\u001b[39m)\n\u001b[1;32m---> 21\u001b[0m \u001b[38;5;28mself\u001b[39m\u001b[38;5;241m.\u001b[39msvdSpat \u001b[38;5;241m=\u001b[39m \u001b[43mnp\u001b[49m\u001b[38;5;241;43m.\u001b[39;49m\u001b[43mload\u001b[49m\u001b[43m(\u001b[49m\u001b[43mserverPath\u001b[49m\u001b[43m \u001b[49m\u001b[38;5;241;43m/\u001b[39;49m\u001b[43m \u001b[49m\u001b[38;5;124;43m'\u001b[39;49m\u001b[38;5;124;43mblue/svdSpatialComponents.npy\u001b[39;49m\u001b[38;5;124;43m'\u001b[39;49m\u001b[43m)\u001b[49m\n\u001b[0;32m     22\u001b[0m \u001b[38;5;28mself\u001b[39m\u001b[38;5;241m.\u001b[39msvdSpatModify \u001b[38;5;241m=\u001b[39m \u001b[38;5;28mself\u001b[39m\u001b[38;5;241m.\u001b[39msvdSpat[:,:,:\u001b[38;5;241m500\u001b[39m]\n\u001b[0;32m     23\u001b[0m \u001b[38;5;28mself\u001b[39m\u001b[38;5;241m.\u001b[39mmeanImage \u001b[38;5;241m=\u001b[39m np\u001b[38;5;241m.\u001b[39mload(serverPath \u001b[38;5;241m/\u001b[39m \u001b[38;5;124m'\u001b[39m\u001b[38;5;124mblue/meanImage.npy\u001b[39m\u001b[38;5;124m'\u001b[39m)\n",
      "File \u001b[1;32m~\\anaconda3\\envs\\steinmetzlab\\lib\\site-packages\\numpy\\lib\\npyio.py:456\u001b[0m, in \u001b[0;36mload\u001b[1;34m(file, mmap_mode, allow_pickle, fix_imports, encoding, max_header_size)\u001b[0m\n\u001b[0;32m    453\u001b[0m         \u001b[38;5;28;01mreturn\u001b[39;00m \u001b[38;5;28mformat\u001b[39m\u001b[38;5;241m.\u001b[39mopen_memmap(file, mode\u001b[38;5;241m=\u001b[39mmmap_mode,\n\u001b[0;32m    454\u001b[0m                                   max_header_size\u001b[38;5;241m=\u001b[39mmax_header_size)\n\u001b[0;32m    455\u001b[0m     \u001b[38;5;28;01melse\u001b[39;00m:\n\u001b[1;32m--> 456\u001b[0m         \u001b[38;5;28;01mreturn\u001b[39;00m \u001b[38;5;28;43mformat\u001b[39;49m\u001b[38;5;241;43m.\u001b[39;49m\u001b[43mread_array\u001b[49m\u001b[43m(\u001b[49m\u001b[43mfid\u001b[49m\u001b[43m,\u001b[49m\u001b[43m \u001b[49m\u001b[43mallow_pickle\u001b[49m\u001b[38;5;241;43m=\u001b[39;49m\u001b[43mallow_pickle\u001b[49m\u001b[43m,\u001b[49m\n\u001b[0;32m    457\u001b[0m \u001b[43m                                 \u001b[49m\u001b[43mpickle_kwargs\u001b[49m\u001b[38;5;241;43m=\u001b[39;49m\u001b[43mpickle_kwargs\u001b[49m\u001b[43m,\u001b[49m\n\u001b[0;32m    458\u001b[0m \u001b[43m                                 \u001b[49m\u001b[43mmax_header_size\u001b[49m\u001b[38;5;241;43m=\u001b[39;49m\u001b[43mmax_header_size\u001b[49m\u001b[43m)\u001b[49m\n\u001b[0;32m    459\u001b[0m \u001b[38;5;28;01melse\u001b[39;00m:\n\u001b[0;32m    460\u001b[0m     \u001b[38;5;66;03m# Try a pickle\u001b[39;00m\n\u001b[0;32m    461\u001b[0m     \u001b[38;5;28;01mif\u001b[39;00m \u001b[38;5;129;01mnot\u001b[39;00m allow_pickle:\n",
      "File \u001b[1;32m~\\anaconda3\\envs\\steinmetzlab\\lib\\site-packages\\numpy\\lib\\format.py:836\u001b[0m, in \u001b[0;36mread_array\u001b[1;34m(fp, allow_pickle, pickle_kwargs, max_header_size)\u001b[0m\n\u001b[0;32m    832\u001b[0m             array[i:i\u001b[38;5;241m+\u001b[39mread_count] \u001b[38;5;241m=\u001b[39m numpy\u001b[38;5;241m.\u001b[39mfrombuffer(data, dtype\u001b[38;5;241m=\u001b[39mdtype,\n\u001b[0;32m    833\u001b[0m                                                      count\u001b[38;5;241m=\u001b[39mread_count)\n\u001b[0;32m    835\u001b[0m \u001b[38;5;28;01mif\u001b[39;00m fortran_order:\n\u001b[1;32m--> 836\u001b[0m     \u001b[43marray\u001b[49m\u001b[38;5;241;43m.\u001b[39;49m\u001b[43mshape\u001b[49m \u001b[38;5;241m=\u001b[39m shape[::\u001b[38;5;241m-\u001b[39m\u001b[38;5;241m1\u001b[39m]\n\u001b[0;32m    837\u001b[0m     array \u001b[38;5;241m=\u001b[39m array\u001b[38;5;241m.\u001b[39mtranspose()\n\u001b[0;32m    838\u001b[0m \u001b[38;5;28;01melse\u001b[39;00m:\n",
      "\u001b[1;31mValueError\u001b[0m: cannot reshape array of size 0 into shape (2000,560,560)"
     ]
    }
   ],
   "source": [
    "# load 5/15 data\n",
    "wfData_new = wfData(Path(r'Z:\\Subjects\\AL_0023\\2023-05-15\\1'), Path(r'Z:\\Subjects\\AL_0023\\2023-05-15\\3'))"
   ]
  },
  {
   "cell_type": "code",
   "execution_count": null,
   "id": "6fdcb386-26d2-46e0-89bd-8abfbcb79a96",
   "metadata": {},
   "outputs": [],
   "source": [
    "trial_time_data = wfData_new.trial_timeFunc(-.1, .4, 100)\n",
    "trial_activity_data = wfData_new.trial_activityFunc(trial_time_data)\n",
    "video = wfData_new.createVideo(trial_activity_data)"
   ]
  },
  {
   "cell_type": "code",
   "execution_count": null,
   "id": "820e6296-fdcc-43e3-934a-9b266cc92827",
   "metadata": {},
   "outputs": [],
   "source": [
    "wfData_new.video.shape"
   ]
  },
  {
   "cell_type": "code",
   "execution_count": null,
   "id": "e7b7c7e1-f5da-4f25-bf00-712b34f06fab",
   "metadata": {
    "scrolled": true,
    "tags": []
   },
   "outputs": [],
   "source": [
    "# load 6/27 data\n",
    "wfData_627 = wfData(Path(r'Z:\\Subjects\\AL_0023\\2023-06-27\\1'), Path(r'Z:\\Subjects\\AL_0023\\2023-06-27\\3'))"
   ]
  },
  {
   "cell_type": "code",
   "execution_count": null,
   "id": "2a47a4ef-ab81-48d1-9082-e5577922cd5d",
   "metadata": {},
   "outputs": [],
   "source": [
    "trial_time_data2 = wfData_627.trial_timeFunc(-.1,.4,100)\n",
    "trial_activity_data2 = wfData_627.trial_activityFunc(trial_time_data2)\n",
    "video = wfData_627.createVideo(trial_activity_data2)"
   ]
  },
  {
   "cell_type": "code",
   "execution_count": null,
   "id": "56db27b5-38d2-48b9-9b9f-f90cd1db37df",
   "metadata": {},
   "outputs": [],
   "source": [
    "# 7/10 data\n",
    "wfData_710 = wfData(Path(r'Z:\\Subjects\\AL_0023\\2023-07-10\\1'), Path(r'Z:\\Subjects\\AL_0023\\2023-07-10\\3'))"
   ]
  },
  {
   "cell_type": "code",
   "execution_count": null,
   "id": "423caef2-c931-477a-a509-04b0ad2f6182",
   "metadata": {},
   "outputs": [],
   "source": [
    "trial_time_data3 = wfData_710.trial_timeFunc(-.1,.6,100)\n",
    "trial_activity_data3 = wfData_710.trial_activityFunc(trial_time_data3)\n",
    "video = wfData_710.createVideo(trial_activity_data3)"
   ]
  },
  {
   "cell_type": "code",
   "execution_count": null,
   "id": "c0230d6f-6ddc-4cba-b5d2-27c55a2ab33e",
   "metadata": {},
   "outputs": [],
   "source": [
    "# plotting differnet numbers of components 5/15\n",
    "wfData_new.modifyCountComponents(0,500)\n",
    "videoAll = wfData_new.quickCreateVideo()\n",
    "plot = wfData_new.plotBrain(1,1,True)\n",
    "plt.title(\"avg activity all components\")\n",
    "\n",
    "wfData_new.modifyCountComponents(0,10)\n",
    "videoFirst = wfData_new.quickCreateVideo()\n",
    "plot = wfData_new.plotBrain(1,1,True)\n",
    "plt.title(\"avg activity first 10 components\")\n",
    "\n",
    "wfData_new.modifyCountComponents(0,40)\n",
    "videoLast = wfData_new.quickCreateVideo()\n",
    "plot = wfData_new.plotBrain(1,1,True)\n",
    "plt.title(\"avg activity first 40 components\")\n",
    "\n",
    "wfData_new.modifyCountComponents(0,50)\n",
    "videoLast = wfData_new.quickCreateVideo()\n",
    "plot = wfData_new.plotBrain(1,1,True)\n",
    "plt.title(\"avg activity first 50 components\")\n",
    "\n",
    "wfData_new.modifyCountComponents(450,500)\n",
    "videoLast = wfData_new.quickCreateVideo()\n",
    "plot = wfData_new.plotBrain(1,1,True)\n",
    "plt.title(\"avg activity last 50 components\")\n",
    "\n",
    "# 40 components is enough to capture almost all of the variance\n",
    "# most of the information is stored in the first 50 components "
   ]
  },
  {
   "cell_type": "code",
   "execution_count": null,
   "id": "d47bc24f-4276-4391-bf78-f35e6dac1625",
   "metadata": {},
   "outputs": [],
   "source": [
    "# diff numbers of components 6/27\n",
    "wfData_627.modifyCountComponents(0,500)\n",
    "videoAll = wfData_627.quickCreateVideo()\n",
    "plot = wfData_627.plotBrain(1,1,True)\n",
    "plt.title(\"avg activity all components\")\n",
    "\n",
    "wfData_627.modifyCountComponents(0,10)\n",
    "videoFirst = wfData_627.quickCreateVideo()\n",
    "plot = wfData_627.plotBrain(1,1,True)\n",
    "plt.title(\"avg activity first 10 components\")\n",
    "\n",
    "wfData_627.modifyCountComponents(0,40)\n",
    "videoLast = wfData_627.quickCreateVideo()\n",
    "plot = wfData_627.plotBrain(1,1,True)\n",
    "plt.title(\"avg activity first 40 components\")"
   ]
  },
  {
   "cell_type": "code",
   "execution_count": null,
   "id": "67d6f830-50d6-484e-8635-2dce533c1ff8",
   "metadata": {
    "scrolled": true
   },
   "outputs": [],
   "source": [
    "# diff numbers of components 7/10\n",
    "wfData_710.modifyCountComponents(0,500)\n",
    "videoAll = wfData_710.quickCreateVideo()\n",
    "plot = wfData_710.plotBrain(1,1,True)\n",
    "plt.title(\"avg activity all components\")\n",
    "\n",
    "wfData_710.modifyCountComponents(0,10)\n",
    "videoFirst = wfData_710.quickCreateVideo()\n",
    "plot = wfData_710.plotBrain(1,1,True)\n",
    "plt.title(\"avg activity first 10 components\")\n",
    "\n",
    "wfData_710.modifyCountComponents(0,40)\n",
    "videoLast = wfData_710.quickCreateVideo()\n",
    "plot = wfData_710.plotBrain(1,1,True)\n",
    "plt.title(\"avg activity first 40 components\")"
   ]
  },
  {
   "cell_type": "code",
   "execution_count": null,
   "id": "b20f07c1-13b5-46e9-a0a7-a79bdc267414",
   "metadata": {},
   "outputs": [],
   "source": [
    "wfData_new.modifyCountComponents(0,500)\n",
    "wfData_627.modifyCountComponents(0,500)\n",
    "wfData_710.modifyCountComponents(0,500)"
   ]
  },
  {
   "cell_type": "code",
   "execution_count": null,
   "id": "77a7ea08-0f99-4213-8ff2-37f0cc8fc830",
   "metadata": {
    "tags": []
   },
   "outputs": [],
   "source": [
    "plot = wfData_new.plotBrain(10,5)"
   ]
  },
  {
   "cell_type": "code",
   "execution_count": null,
   "id": "3f7182b9-1263-4c05-8ae3-61657f5bab40",
   "metadata": {
    "tags": []
   },
   "outputs": [],
   "source": [
    "plot = wfData_627.plotBrain(10,5)"
   ]
  },
  {
   "cell_type": "code",
   "execution_count": null,
   "id": "c1470ce7-abdd-4c57-bc41-89831eea03f1",
   "metadata": {
    "tags": []
   },
   "outputs": [],
   "source": [
    "plot = wfData_710.plotBrain(10,5)"
   ]
  },
  {
   "cell_type": "code",
   "execution_count": null,
   "id": "c82ab5fa-8886-4c41-afa5-6720ecabf9cd",
   "metadata": {
    "tags": []
   },
   "outputs": [],
   "source": [
    "# average cortical response for 5/15 \n",
    "plot = wfData_new.plotBrain(1,1,True)\n",
    "plt.scatter([460],[400], c=\"orange\", marker=\"v\", s=5)"
   ]
  },
  {
   "cell_type": "code",
   "execution_count": null,
   "id": "6bf8d918-6b85-425e-848b-18527b64619a",
   "metadata": {
    "tags": []
   },
   "outputs": [],
   "source": [
    "# avg cortical response for 6/27\n",
    "plot = wfData_627.plotBrain(1,1,True)\n",
    "plt.scatter([460],[450], c=\"orange\", marker=\"v\", s=5)"
   ]
  },
  {
   "cell_type": "code",
   "execution_count": null,
   "id": "5f37bc54-f4fb-435d-97b9-187dd97d4f29",
   "metadata": {
    "tags": []
   },
   "outputs": [],
   "source": [
    "# avg 7/10\n",
    "plot = wfData_710.plotBrain(1,1,True)\n",
    "plt.scatter([499],[451], c=\"orange\", marker=\"v\", s=5)"
   ]
  },
  {
   "cell_type": "code",
   "execution_count": null,
   "id": "eb19ac71-1e9c-46f2-ab5e-78ed5fee09d2",
   "metadata": {
    "tags": []
   },
   "outputs": [],
   "source": [
    "# one time 5/15\n",
    "trial_time_data_0 = wfData_new.trial_timeFunc(-.1, .6, 100, True, 0)\n",
    "trial_activity_data_0 = wfData_new.trial_activityFunc(trial_time_data_0)\n",
    "\n",
    "video_0 = wfData_new.createVideo(trial_activity_data_0)\n",
    "plot_0 = wfData_new.plotBrain(10,5,True)"
   ]
  },
  {
   "cell_type": "code",
   "execution_count": null,
   "id": "fdb588d6-4e4f-49ad-8b91-3da6344c6c95",
   "metadata": {},
   "outputs": [],
   "source": [
    "#create time scales for others\n",
    "\n",
    "trial_time_data2 = wfData_627.trial_timeFunc(-.1,.6,100,True,0)\n",
    "trial_time_data3 = wfData_710.trial_timeFunc(-.1,.4,100,True,0)"
   ]
  },
  {
   "cell_type": "code",
   "execution_count": null,
   "id": "0b8ebcfa-d06b-451f-b068-b50a23bfd404",
   "metadata": {
    "tags": []
   },
   "outputs": [],
   "source": [
    "# contrast videos 5/15\n",
    "videos = wfData_new.createContrastVideos(.1,.6,100)\n",
    "colors = ['red', 'blue', 'orange', 'pink', 'purple']\n",
    "\n",
    "# corrections with contrasts \n",
    "videosCorr = []\n",
    "for j in range(0,5):\n",
    "    frame_raw = videos[j,:,:,:]\n",
    "    frame_corr = wfData_new.corrections(frame_raw)\n",
    "    plt.plot(trial_time_data_0, frame_corr)\n",
    "    plt.legend([\"0.062\", \".125\", '.25', '.5', '1'])\n",
    "    plt.title(\"contrast activity 5/15\")"
   ]
  },
  {
   "cell_type": "code",
   "execution_count": null,
   "id": "421901b7-c9f7-45db-897e-a0ab62b63131",
   "metadata": {
    "tags": []
   },
   "outputs": [],
   "source": [
    "# contrast 6/27\n",
    "videos = wfData_627.createContrastVideos(.1,.6,100)\n",
    "colors = ['red', 'blue', 'orange', 'pink', 'purple']\n",
    "\n",
    "# corrections with contrasts \n",
    "videosCorr = []\n",
    "for j in range(0,5):\n",
    "    frame_raw = videos[j,:,:,:]\n",
    "    frame_corr = wfData_627.corrections(frame_raw)\n",
    "    plt.plot(trial_time_data2, frame_corr)\n",
    "    plt.legend([\"0.062\", \".125\", '.25', '.5', '1'])\n",
    "    plt.title(\"contrast activity 6/27\")"
   ]
  },
  {
   "cell_type": "code",
   "execution_count": null,
   "id": "5ae838d7-788c-4868-a546-d4ace5c1569b",
   "metadata": {
    "tags": []
   },
   "outputs": [],
   "source": [
    "# contrast 7/10\n",
    "videos = wfData_710.createContrastVideos(.1,.6,100)\n",
    "colors = ['red', 'blue', 'orange', 'pink', 'purple']\n",
    "\n",
    "# corrections with contrasts \n",
    "videosCorr = []\n",
    "for j in range(0,5):\n",
    "    frame_raw = videos[j,:,:,:]\n",
    "    frame_corr = wfData_710.corrections(frame_raw)\n",
    "    plt.plot(trial_time_data3, frame_corr)\n",
    "    plt.legend([\"0.062\", \".125\", '.25', '.5', '1'])\n",
    "    plt.title(\"contrast activity 7/10\")"
   ]
  },
  {
   "cell_type": "code",
   "execution_count": null,
   "id": "a78fd3d7-5fe3-4c22-8634-e97e3268fdfb",
   "metadata": {
    "tags": []
   },
   "outputs": [],
   "source": [
    "# con v dur 5/15 \n",
    "colors = ['red', 'blue', 'orange', 'pink', 'purple']\n",
    "videosCD = wfData_new.createConDurVid(.1,.6,100,3)\n",
    "timeScale = np.linspace(0.1,0.6,100)\n",
    "\n",
    "#plot with corrections\n",
    "n_cols = 1\n",
    "n_rows = 3\n",
    "f = plt.figure(figsize=(n_cols*4, n_rows*4))\n",
    "gs = mpl.gridspec.GridSpec(n_rows, n_cols)\n",
    "for i in range(3):\n",
    "    ax = plt.subplot(gs[i])\n",
    "    for j in range(0,5):\n",
    "        frame_rawCD = videosCD[i,j,440:470,390:410,:]\n",
    "        frame_corrCD = wfData_new.corrections(frame_rawCD)\n",
    "        plt.plot(timeScale, frame_corrCD, marker='*', c=colors[j])\n",
    "    plt.legend([\"0.062\", \".125\", '.25', '.5', '1'])\n",
    "    plt.xlabel(\"Time (s)\")\n",
    "    plt.ylabel(\"Activity\")\n",
    "    plt.title(\"Duration value \" + str(i), fontsize = 7)"
   ]
  },
  {
   "cell_type": "code",
   "execution_count": null,
   "id": "5fe010d8-74b6-4a0d-b7eb-54db166be1a8",
   "metadata": {},
   "outputs": [],
   "source": [
    "# con v dur 6/27\n",
    "colors = ['red', 'blue', 'orange', 'pink', 'purple']\n",
    "videosCD_627 = wfData_627.createConDurVid(.1,.6,100,3)\n",
    "timeScale = np.linspace(0.1,0.6,100)\n",
    "\n",
    "#plot with corrections\n",
    "n_cols = 1\n",
    "n_rows = 3\n",
    "f = plt.figure(figsize=(n_cols*4, n_rows*4))\n",
    "gs = mpl.gridspec.GridSpec(n_rows, n_cols)\n",
    "for i in range(3):\n",
    "    ax = plt.subplot(gs[i])\n",
    "    for j in range(0,5):\n",
    "        frame_rawCD = videosCD_627[i,j,440:470,390:410,:]\n",
    "        frame_corrCD = wfData_627.corrections(frame_rawCD)\n",
    "        plt.plot(timeScale, frame_corrCD, marker='*', c=colors[j])\n",
    "    plt.legend([\"0.062\", \".125\", '.25', '.5', '1'])\n",
    "    plt.xlabel(\"Time (s)\")\n",
    "    plt.ylabel(\"Activity\")\n",
    "    plt.title(\"Duration value \" + str(i), fontsize = 7)"
   ]
  },
  {
   "cell_type": "code",
   "execution_count": null,
   "id": "f7e96b56-8fe4-4d7e-b035-12854f429e5c",
   "metadata": {},
   "outputs": [],
   "source": [
    "# con v dur 7/10\n",
    "colors = ['red', 'blue', 'orange', 'pink', 'purple']\n",
    "videosCD_710 = wfData_710.createConDurVid(.1,.6,100,3)\n",
    "timeScale = np.linspace(0.1,0.6,100)\n",
    "\n",
    "#plot with corrections\n",
    "n_cols = 1\n",
    "n_rows = 3\n",
    "f = plt.figure(figsize=(n_cols*4, n_rows*4))\n",
    "gs = mpl.gridspec.GridSpec(n_rows, n_cols)\n",
    "for i in range(3):\n",
    "    ax = plt.subplot(gs[i])\n",
    "    for j in range(0,5):\n",
    "        frame_rawCD = videosCD_710[i,j,440:470,390:410,:]\n",
    "        frame_corrCD = wfData_710.corrections(frame_rawCD)\n",
    "        plt.plot(timeScale, frame_corrCD, marker='*', c=colors[j])\n",
    "    plt.legend([\"0.062\", \".125\", '.25', '.5', '1'])\n",
    "    plt.xlabel(\"Time (s)\")\n",
    "    plt.ylabel(\"Activity\")\n",
    "    plt.title(\"Duration value \" + str(i), fontsize = 7)"
   ]
  },
  {
   "cell_type": "code",
   "execution_count": null,
   "id": "c12dd8d0-27fb-4649-aafe-6f48f9fe5716",
   "metadata": {},
   "outputs": [],
   "source": []
  }
 ],
 "metadata": {
  "kernelspec": {
   "display_name": "Python 3 (ipykernel)",
   "language": "python",
   "name": "python3"
  },
  "language_info": {
   "codemirror_mode": {
    "name": "ipython",
    "version": 3
   },
   "file_extension": ".py",
   "mimetype": "text/x-python",
   "name": "python",
   "nbconvert_exporter": "python",
   "pygments_lexer": "ipython3",
   "version": "3.10.12"
  }
 },
 "nbformat": 4,
 "nbformat_minor": 5
}
