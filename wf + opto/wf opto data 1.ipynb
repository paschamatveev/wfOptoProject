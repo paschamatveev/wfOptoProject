{
 "cells": [
  {
   "cell_type": "markdown",
   "id": "7b5aeec8-1907-4527-9353-0d18b909d9c9",
   "metadata": {},
   "source": [
    "### WF and Opto data "
   ]
  },
  {
   "cell_type": "code",
   "execution_count": 1,
   "id": "71ce17da-30a8-4a6b-9de6-afd33175ee7b",
   "metadata": {},
   "outputs": [],
   "source": [
    "import matplotlib as mpl\n",
    "import matplotlib.pyplot as plt\n",
    "import numpy as np\n",
    "import os\n",
    "from pathlib import Path\n",
    "import scipy"
   ]
  },
  {
   "cell_type": "code",
   "execution_count": 2,
   "id": "ea8824f9-4766-42b6-8cfa-8605ccca10da",
   "metadata": {},
   "outputs": [
    {
     "ename": "FileNotFoundError",
     "evalue": "[Errno 2] No such file or directory: 'Z:\\\\Subjects\\\\ZYE_0069\\\\2023-07-14\\\\4\\\\cameraFrameTimes.npy'",
     "output_type": "error",
     "traceback": [
      "\u001b[1;31m---------------------------------------------------------------------------\u001b[0m",
      "\u001b[1;31mFileNotFoundError\u001b[0m                         Traceback (most recent call last)",
      "Cell \u001b[1;32mIn[2], line 3\u001b[0m\n\u001b[0;32m      1\u001b[0m serverPath \u001b[38;5;241m=\u001b[39m Path(\u001b[38;5;124mr\u001b[39m\u001b[38;5;124m'\u001b[39m\u001b[38;5;124mZ:\u001b[39m\u001b[38;5;124m\\\u001b[39m\u001b[38;5;124mSubjects\u001b[39m\u001b[38;5;124m\\\u001b[39m\u001b[38;5;124mZYE_0069\u001b[39m\u001b[38;5;124m\\\u001b[39m\u001b[38;5;124m2023-07-14\u001b[39m\u001b[38;5;124m\\\u001b[39m\u001b[38;5;124m4\u001b[39m\u001b[38;5;124m'\u001b[39m)\n\u001b[0;32m      2\u001b[0m timeFile \u001b[38;5;241m=\u001b[39m serverPath \u001b[38;5;241m/\u001b[39m \u001b[38;5;124m'\u001b[39m\u001b[38;5;124mcameraFrameTimes.npy\u001b[39m\u001b[38;5;124m'\u001b[39m\n\u001b[1;32m----> 3\u001b[0m frameTimes \u001b[38;5;241m=\u001b[39m np\u001b[38;5;241m.\u001b[39msqueeze(\u001b[43mnp\u001b[49m\u001b[38;5;241;43m.\u001b[39;49m\u001b[43mload\u001b[49m\u001b[43m(\u001b[49m\u001b[43mtimeFile\u001b[49m\u001b[43m)\u001b[49m)[::\u001b[38;5;241m2\u001b[39m] \u001b[38;5;66;03m# every other frame - we want blue only\u001b[39;00m\n\u001b[0;32m      4\u001b[0m svdTemp \u001b[38;5;241m=\u001b[39m np\u001b[38;5;241m.\u001b[39mload(serverPath \u001b[38;5;241m/\u001b[39m \u001b[38;5;124m'\u001b[39m\u001b[38;5;124mcorr/svdTemporalComponents_corr.npy\u001b[39m\u001b[38;5;124m'\u001b[39m)\n\u001b[0;32m      5\u001b[0m svdSpat \u001b[38;5;241m=\u001b[39m np\u001b[38;5;241m.\u001b[39mload(serverPath \u001b[38;5;241m/\u001b[39m \u001b[38;5;124m'\u001b[39m\u001b[38;5;124mblue/svdSpatialComponents.npy\u001b[39m\u001b[38;5;124m'\u001b[39m)\n",
      "File \u001b[1;32m~\\anaconda3\\envs\\steinmetzlab\\lib\\site-packages\\numpy\\lib\\npyio.py:427\u001b[0m, in \u001b[0;36mload\u001b[1;34m(file, mmap_mode, allow_pickle, fix_imports, encoding, max_header_size)\u001b[0m\n\u001b[0;32m    425\u001b[0m     own_fid \u001b[38;5;241m=\u001b[39m \u001b[38;5;28;01mFalse\u001b[39;00m\n\u001b[0;32m    426\u001b[0m \u001b[38;5;28;01melse\u001b[39;00m:\n\u001b[1;32m--> 427\u001b[0m     fid \u001b[38;5;241m=\u001b[39m stack\u001b[38;5;241m.\u001b[39menter_context(\u001b[38;5;28;43mopen\u001b[39;49m\u001b[43m(\u001b[49m\u001b[43mos_fspath\u001b[49m\u001b[43m(\u001b[49m\u001b[43mfile\u001b[49m\u001b[43m)\u001b[49m\u001b[43m,\u001b[49m\u001b[43m \u001b[49m\u001b[38;5;124;43m\"\u001b[39;49m\u001b[38;5;124;43mrb\u001b[39;49m\u001b[38;5;124;43m\"\u001b[39;49m\u001b[43m)\u001b[49m)\n\u001b[0;32m    428\u001b[0m     own_fid \u001b[38;5;241m=\u001b[39m \u001b[38;5;28;01mTrue\u001b[39;00m\n\u001b[0;32m    430\u001b[0m \u001b[38;5;66;03m# Code to distinguish from NumPy binary files and pickles.\u001b[39;00m\n",
      "\u001b[1;31mFileNotFoundError\u001b[0m: [Errno 2] No such file or directory: 'Z:\\\\Subjects\\\\ZYE_0069\\\\2023-07-14\\\\4\\\\cameraFrameTimes.npy'"
     ]
    }
   ],
   "source": [
    "serverPath = Path(r'Z:\\Subjects\\ZYE_0069\\2023-07-14\\4')\n",
    "\n",
    "timeFile = serverPath / 'cameraFrameTimes.npy'\n",
    "frameTimes = np.squeeze(np.load(timeFile))[::2] # every other frame - we want blue only\n",
    "svdTemp = np.load(serverPath / 'corr/svdTemporalComponents_corr.npy')\n",
    "svdSpat = np.load(serverPath / 'blue/svdSpatialComponents.npy')\n",
    "meanImage = np.load(serverPath / 'blue/meanImage.npy')"
   ]
  },
  {
   "cell_type": "code",
   "execution_count": null,
   "id": "85b0be0e-85c8-4531-a99b-19c9f58269bc",
   "metadata": {},
   "outputs": [],
   "source": []
  }
 ],
 "metadata": {
  "kernelspec": {
   "display_name": "Python 3 (ipykernel)",
   "language": "python",
   "name": "python3"
  },
  "language_info": {
   "codemirror_mode": {
    "name": "ipython",
    "version": 3
   },
   "file_extension": ".py",
   "mimetype": "text/x-python",
   "name": "python",
   "nbconvert_exporter": "python",
   "pygments_lexer": "ipython3",
   "version": "3.10.12"
  }
 },
 "nbformat": 4,
 "nbformat_minor": 5
}
