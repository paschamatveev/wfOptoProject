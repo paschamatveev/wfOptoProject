{
 "cells": [
  {
   "cell_type": "code",
   "execution_count": 5,
   "id": "0f6fee5e-dec6-4a73-8b87-0559ad5ae52c",
   "metadata": {},
   "outputs": [
    {
     "ename": "ModuleNotFoundError",
     "evalue": "No module named 'plotting'",
     "output_type": "error",
     "traceback": [
      "\u001b[1;31m---------------------------------------------------------------------------\u001b[0m",
      "\u001b[1;31mModuleNotFoundError\u001b[0m                       Traceback (most recent call last)",
      "Cell \u001b[1;32mIn[5], line 9\u001b[0m\n\u001b[0;32m      6\u001b[0m \u001b[38;5;28;01mimport\u001b[39;00m \u001b[38;5;21;01mscipy\u001b[39;00m\n\u001b[0;32m      8\u001b[0m \u001b[38;5;28;01mimport\u001b[39;00m \u001b[38;5;21;01mpytoolsAL\u001b[39;00m \u001b[38;5;28;01mas\u001b[39;00m \u001b[38;5;21;01mptAL\u001b[39;00m\n\u001b[1;32m----> 9\u001b[0m \u001b[38;5;28;01mimport\u001b[39;00m \u001b[38;5;21;01mplotting\u001b[39;00m \u001b[38;5;28;01mas\u001b[39;00m \u001b[38;5;21;01mplotAL\u001b[39;00m\n\u001b[0;32m     11\u001b[0m f \u001b[38;5;241m=\u001b[39m plt\u001b[38;5;241m.\u001b[39mfigure(figsize\u001b[38;5;241m=\u001b[39m(\u001b[38;5;241m2\u001b[39m\u001b[38;5;241m*\u001b[39m\u001b[38;5;241m3\u001b[39m, \u001b[38;5;241m2\u001b[39m\u001b[38;5;241m*\u001b[39m\u001b[38;5;241m3\u001b[39m))\n\u001b[0;32m     12\u001b[0m gs \u001b[38;5;241m=\u001b[39m mpl\u001b[38;5;241m.\u001b[39mgridspec\u001b[38;5;241m.\u001b[39mGridSpec(\u001b[38;5;241m2\u001b[39m, \u001b[38;5;241m2\u001b[39m)\n",
      "\u001b[1;31mModuleNotFoundError\u001b[0m: No module named 'plotting'"
     ]
    }
   ],
   "source": [
    "import matplotlib as mpl\n",
    "import matplotlib.pyplot as plt\n",
    "import numpy as np\n",
    "import os\n",
    "from pathlib import Path\n",
    "import scipy\n",
    "\n",
    "import pytoolsAL as ptAL\n",
    "import plotting as plotAL\n",
    "\n",
    "f = plt.figure(figsize=(2*3, 2*3))\n",
    "gs = mpl.gridspec.GridSpec(2, 2)\n",
    "\n",
    "ax = plt.subplot(gs[2])\n",
    "plt.plot([1,2,3],[1,2,3])\n",
    "ax = plotAL.apply_image_defaults(ax)"
   ]
  },
  {
   "cell_type": "code",
   "execution_count": null,
   "id": "cb9fe253-8f8b-49ae-a620-b8deb3d77775",
   "metadata": {},
   "outputs": [],
   "source": []
  }
 ],
 "metadata": {
  "kernelspec": {
   "display_name": "Python 3 (ipykernel)",
   "language": "python",
   "name": "python3"
  },
  "language_info": {
   "codemirror_mode": {
    "name": "ipython",
    "version": 3
   },
   "file_extension": ".py",
   "mimetype": "text/x-python",
   "name": "python",
   "nbconvert_exporter": "python",
   "pygments_lexer": "ipython3",
   "version": "3.10.12"
  }
 },
 "nbformat": 4,
 "nbformat_minor": 5
}
