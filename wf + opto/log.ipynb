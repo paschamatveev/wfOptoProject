{
 "cells": [
  {
   "cell_type": "code",
   "execution_count": 1,
   "id": "54d9901c-bf95-46d2-bc49-9e38cf68fbfc",
   "metadata": {},
   "outputs": [],
   "source": [
    "from wfOpto import *"
   ]
  },
  {
   "cell_type": "markdown",
   "id": "a0e2fc57",
   "metadata": {},
   "source": [
    "## AL_0023"
   ]
  },
  {
   "cell_type": "code",
   "execution_count": 37,
   "id": "f1b58022-1fd6-41d0-b31f-1f02a94411f1",
   "metadata": {},
   "outputs": [
    {
     "name": "stdout",
     "output_type": "stream",
     "text": [
      "[-0.]\n",
      "[-0.]\n",
      "[0.1  0.25 0.5  0.75 1.   1.5  2.   2.5  3.  ]\n",
      "[0.1]\n"
     ]
    }
   ],
   "source": [
    "serverPath = Path(r'Z:\\Subjects\\AL_0023\\2023-08-30\\1')\n",
    "galvoX = np.squeeze(np.load(serverPath/'galvoXPositions.npy'))\n",
    "galvoY = np.squeeze(np.load(serverPath/'galvoYPositions.npy'))\n",
    "laserPowers = np.squeeze(np.load(serverPath/'laserPowers.npy'))\n",
    "laserOn = np.squeeze(np.load(serverPath / 'laserOnTimes.npy'))\n",
    "laserOff = np.squeeze(np.load(serverPath / 'laserOffTimes.npy'))\n",
    "pulseLengths = []\n",
    "for count,time in enumerate(laserOff):\n",
    "        length = laserOff[count]-laserOn[count]\n",
    "        length = round(length,2)\n",
    "        pulseLengths.append(length)\n",
    "pulseLengths = np.array(pulseLengths)\n",
    "print(np.unique(galvoX))\n",
    "print(np.unique(galvoY))\n",
    "print(np.unique(laserPowers))\n",
    "print(np.unique(pulseLengths))"
   ]
  },
  {
   "cell_type": "code",
   "execution_count": 38,
   "id": "68dc9f11-d2dc-4d76-a9f2-d3573b5c439f",
   "metadata": {},
   "outputs": [
    {
     "name": "stdout",
     "output_type": "stream",
     "text": [
      "[-0.]\n",
      "[-0.]\n",
      "[0.1  0.25 0.5  0.75 1.   1.5  2.   2.5  3.  ]\n",
      "[0.1]\n"
     ]
    }
   ],
   "source": [
    "serverPath = Path(r'Z:\\Subjects\\AL_0023\\2023-08-30\\1')\n",
    "galvoX = np.squeeze(np.load(serverPath/'galvoXPositions.npy'))\n",
    "galvoY = np.squeeze(np.load(serverPath/'galvoYPositions.npy'))\n",
    "laserPowers = np.squeeze(np.load(serverPath/'laserPowers.npy'))\n",
    "laserOn = np.squeeze(np.load(serverPath / 'laserOnTimes.npy'))\n",
    "laserOff = np.squeeze(np.load(serverPath / 'laserOffTimes.npy'))\n",
    "pulseLengths = []\n",
    "for count,time in enumerate(laserOff):\n",
    "        length = laserOff[count]-laserOn[count]\n",
    "        length = round(length,2)\n",
    "        pulseLengths.append(length)\n",
    "pulseLengths = np.array(pulseLengths)\n",
    "print(np.unique(galvoX))\n",
    "print(np.unique(galvoY))\n",
    "print(np.unique(laserPowers))\n",
    "print(np.unique(pulseLengths))"
   ]
  },
  {
   "cell_type": "code",
   "execution_count": 6,
   "id": "3120fac0",
   "metadata": {},
   "outputs": [
    {
     "name": "stdout",
     "output_type": "stream",
     "text": [
      "[1. 4.]\n",
      "[-0.]\n",
      "[0.1 0.5 0.6 0.7]\n",
      "[0.1]\n"
     ]
    }
   ],
   "source": [
    "serverPath = Path(r'Z:\\Subjects\\AL_0023\\2023-08-09\\1')\n",
    "galvoX = np.squeeze(np.load(serverPath/'galvoXPositions.npy'))\n",
    "galvoY = np.squeeze(np.load(serverPath/'galvoYPositions.npy'))\n",
    "laserPowers = np.squeeze(np.load(serverPath/'laserPowers.npy'))\n",
    "laserOn = np.squeeze(np.load(serverPath / 'laserOnTimes.npy'))\n",
    "laserOff = np.squeeze(np.load(serverPath / 'laserOffTimes.npy'))\n",
    "pulseLengths = []\n",
    "for count,time in enumerate(laserOff):\n",
    "        length = laserOff[count]-laserOn[count]\n",
    "        length = round(length,2)\n",
    "        pulseLengths.append(length)\n",
    "pulseLengths = np.array(pulseLengths)\n",
    "print(np.unique(galvoX))\n",
    "print(np.unique(galvoY))\n",
    "print(np.unique(laserPowers))\n",
    "print(np.unique(pulseLengths))"
   ]
  },
  {
   "cell_type": "code",
   "execution_count": 8,
   "id": "f2109616",
   "metadata": {},
   "outputs": [
    {
     "name": "stdout",
     "output_type": "stream",
     "text": [
      "[1. 4.]\n",
      "[-0.]\n",
      "[0.1 0.5 1.  1.5 2.  2.5 3. ]\n",
      "[0.1]\n"
     ]
    }
   ],
   "source": [
    "serverPath = Path(r'Z:\\Subjects\\AL_0023\\2023-08-11\\1')\n",
    "galvoX = np.squeeze(np.load(serverPath/'galvoXPositions.npy'))\n",
    "galvoY = np.squeeze(np.load(serverPath/'galvoYPositions.npy'))\n",
    "laserPowers = np.squeeze(np.load(serverPath/'laserPowers.npy'))\n",
    "laserOn = np.squeeze(np.load(serverPath / 'laserOnTimes.npy'))\n",
    "laserOff = np.squeeze(np.load(serverPath / 'laserOffTimes.npy'))\n",
    "pulseLengths = []\n",
    "for count,time in enumerate(laserOff):\n",
    "        length = laserOff[count]-laserOn[count]\n",
    "        length = round(length,2)\n",
    "        pulseLengths.append(length)\n",
    "pulseLengths = np.array(pulseLengths)\n",
    "print(np.unique(galvoX))\n",
    "print(np.unique(galvoY))\n",
    "print(np.unique(laserPowers))\n",
    "print(np.unique(pulseLengths))"
   ]
  },
  {
   "cell_type": "code",
   "execution_count": 13,
   "metadata": {},
   "outputs": [
    {
     "name": "stdout",
     "output_type": "stream",
     "text": [
      "[1. 4.]\n",
      "[-0.]\n",
      "[0.1 0.5 1.  1.5 2.  2.5 3. ]\n",
      "[0.1]\n"
     ]
    }
   ],
   "source": [
    "serverPath = Path(r'Z:\\Subjects\\AL_0023\\2023-08-14\\1')\n",
    "galvoX = np.squeeze(np.load(serverPath/'galvoXPositions.npy'))\n",
    "galvoY = np.squeeze(np.load(serverPath/'galvoYPositions.npy'))\n",
    "laserPowers = np.squeeze(np.load(serverPath/'laserPowers.npy'))\n",
    "laserOn = np.squeeze(np.load(serverPath / 'laserOnTimes.npy'))\n",
    "laserOff = np.squeeze(np.load(serverPath / 'laserOffTimes.npy'))\n",
    "pulseLengths = []\n",
    "for count,time in enumerate(laserOff):\n",
    "        length = laserOff[count]-laserOn[count]\n",
    "        length = round(length,2)\n",
    "        pulseLengths.append(length)\n",
    "pulseLengths = np.array(pulseLengths)\n",
    "print(np.unique(galvoX))\n",
    "print(np.unique(galvoY))\n",
    "print(np.unique(laserPowers))\n",
    "print(np.unique(pulseLengths))"
   ]
  },
  {
   "cell_type": "code",
   "execution_count": 14,
   "id": "95f5764a",
   "metadata": {},
   "outputs": [
    {
     "name": "stdout",
     "output_type": "stream",
     "text": [
      "[1. 4.]\n",
      "[-0.]\n",
      "[1. 2. 3. 4. 5.]\n",
      "[0.1]\n"
     ]
    }
   ],
   "source": [
    "serverPath = Path(r'Z:\\Subjects\\AL_0023\\2023-08-15\\1')\n",
    "galvoX = np.squeeze(np.load(serverPath/'galvoXPositions.npy'))\n",
    "galvoY = np.squeeze(np.load(serverPath/'galvoYPositions.npy'))\n",
    "laserPowers = np.squeeze(np.load(serverPath/'laserPowers.npy'))\n",
    "laserOn = np.squeeze(np.load(serverPath / 'laserOnTimes.npy'))\n",
    "laserOff = np.squeeze(np.load(serverPath / 'laserOffTimes.npy'))\n",
    "pulseLengths = []\n",
    "for count,time in enumerate(laserOff):\n",
    "        length = laserOff[count]-laserOn[count]\n",
    "        length = round(length,2)\n",
    "        pulseLengths.append(length)\n",
    "pulseLengths = np.array(pulseLengths)\n",
    "print(np.unique(galvoX))\n",
    "print(np.unique(galvoY))\n",
    "print(np.unique(laserPowers))\n",
    "print(np.unique(pulseLengths))"
   ]
  },
  {
   "cell_type": "code",
   "execution_count": 15,
   "id": "edcc3f12",
   "metadata": {},
   "outputs": [
    {
     "name": "stdout",
     "output_type": "stream",
     "text": [
      "[-0.]\n",
      "[-0.   1.5  2.5]\n",
      "[0.05 0.1  0.15 0.2  0.3  0.5  0.75 1.   1.5 ]\n",
      "[0.1]\n"
     ]
    }
   ],
   "source": [
    "serverPath = Path(r'Z:\\Subjects\\AL_0023\\2023-08-23\\3')\n",
    "galvoX = np.squeeze(np.load(serverPath/'galvoXPositions.npy'))\n",
    "galvoY = np.squeeze(np.load(serverPath/'galvoYPositions.npy'))\n",
    "laserPowers = np.squeeze(np.load(serverPath/'laserPowers.npy'))\n",
    "laserOn = np.squeeze(np.load(serverPath / 'laserOnTimes.npy'))\n",
    "laserOff = np.squeeze(np.load(serverPath / 'laserOffTimes.npy'))\n",
    "pulseLengths = []\n",
    "for count,time in enumerate(laserOff):\n",
    "        length = laserOff[count]-laserOn[count]\n",
    "        length = round(length,2)\n",
    "        pulseLengths.append(length)\n",
    "pulseLengths = np.array(pulseLengths)\n",
    "print(np.unique(galvoX))\n",
    "print(np.unique(galvoY))\n",
    "print(np.unique(laserPowers))\n",
    "print(np.unique(pulseLengths))"
   ]
  },
  {
   "cell_type": "code",
   "execution_count": 17,
   "id": "bb9fde09",
   "metadata": {},
   "outputs": [
    {
     "name": "stdout",
     "output_type": "stream",
     "text": [
      "[-0.]\n",
      "[-0.   1.5  2.5]\n",
      "[0.1  0.25 0.5  0.75 1.   1.5  2.   2.5  3.  ]\n",
      "[0.1]\n"
     ]
    }
   ],
   "source": [
    "serverPath = Path(r'Z:\\Subjects\\AL_0023\\2023-08-24\\1')\n",
    "galvoX = np.squeeze(np.load(serverPath/'galvoXPositions.npy'))\n",
    "galvoY = np.squeeze(np.load(serverPath/'galvoYPositions.npy'))\n",
    "laserPowers = np.squeeze(np.load(serverPath/'laserPowers.npy'))\n",
    "laserOn = np.squeeze(np.load(serverPath / 'laserOnTimes.npy'))\n",
    "laserOff = np.squeeze(np.load(serverPath / 'laserOffTimes.npy'))\n",
    "pulseLengths = []\n",
    "for count,time in enumerate(laserOff):\n",
    "        length = laserOff[count]-laserOn[count]\n",
    "        length = round(length,2)\n",
    "        pulseLengths.append(length)\n",
    "pulseLengths = np.array(pulseLengths)\n",
    "print(np.unique(galvoX))\n",
    "print(np.unique(galvoY))\n",
    "print(np.unique(laserPowers))\n",
    "print(np.unique(pulseLengths))"
   ]
  },
  {
   "cell_type": "code",
   "execution_count": 20,
   "id": "89941932",
   "metadata": {},
   "outputs": [
    {
     "name": "stdout",
     "output_type": "stream",
     "text": [
      "[-0.]\n",
      "[-0.   1.5  2.5]\n",
      "[0.1  0.25 0.5  0.75 1.   1.5  2.   2.5  3.  ]\n",
      "[0.1]\n"
     ]
    }
   ],
   "source": [
    "serverPath = Path(r'Z:\\Subjects\\AL_0023\\2023-08-25\\2')\n",
    "galvoX = np.squeeze(np.load(serverPath/'galvoXPositions.npy'))\n",
    "galvoY = np.squeeze(np.load(serverPath/'galvoYPositions.npy'))\n",
    "laserPowers = np.squeeze(np.load(serverPath/'laserPowers.npy'))\n",
    "laserOn = np.squeeze(np.load(serverPath / 'laserOnTimes.npy'))\n",
    "laserOff = np.squeeze(np.load(serverPath / 'laserOffTimes.npy'))\n",
    "pulseLengths = []\n",
    "for count,time in enumerate(laserOff):\n",
    "        length = laserOff[count]-laserOn[count]\n",
    "        length = round(length,2)\n",
    "        pulseLengths.append(length)\n",
    "pulseLengths = np.array(pulseLengths)\n",
    "print(np.unique(galvoX))\n",
    "print(np.unique(galvoY))\n",
    "print(np.unique(laserPowers))\n",
    "print(np.unique(pulseLengths))"
   ]
  },
  {
   "cell_type": "code",
   "execution_count": 21,
   "id": "8398a9d8",
   "metadata": {},
   "outputs": [
    {
     "name": "stdout",
     "output_type": "stream",
     "text": [
      "[-0.]\n",
      "[-0.]\n",
      "[0.1  0.25 0.5  0.75 1.   1.5  2.   2.5  3.  ]\n",
      "[0.1]\n"
     ]
    }
   ],
   "source": [
    "serverPath = Path(r'Z:\\Subjects\\AL_0023\\2023-08-30\\1')\n",
    "galvoX = np.squeeze(np.load(serverPath/'galvoXPositions.npy'))\n",
    "galvoY = np.squeeze(np.load(serverPath/'galvoYPositions.npy'))\n",
    "laserPowers = np.squeeze(np.load(serverPath/'laserPowers.npy'))\n",
    "laserOn = np.squeeze(np.load(serverPath / 'laserOnTimes.npy'))\n",
    "laserOff = np.squeeze(np.load(serverPath / 'laserOffTimes.npy'))\n",
    "pulseLengths = []\n",
    "for count,time in enumerate(laserOff):\n",
    "        length = laserOff[count]-laserOn[count]\n",
    "        length = round(length,2)\n",
    "        pulseLengths.append(length)\n",
    "pulseLengths = np.array(pulseLengths)\n",
    "print(np.unique(galvoX))\n",
    "print(np.unique(galvoY))\n",
    "print(np.unique(laserPowers))\n",
    "print(np.unique(pulseLengths))"
   ]
  },
  {
   "cell_type": "code",
   "execution_count": null,
   "id": "9c49fe3b",
   "metadata": {},
   "outputs": [],
   "source": []
  },
  {
   "cell_type": "markdown",
   "id": "670e11f7",
   "metadata": {},
   "source": [
    "## ZYE_0069"
   ]
  },
  {
   "cell_type": "code",
   "execution_count": 22,
   "id": "2b491dec",
   "metadata": {},
   "outputs": [
    {
     "name": "stdout",
     "output_type": "stream",
     "text": [
      "[0.]\n",
      "[0.]\n",
      "[3.2]\n",
      "[0.5]\n"
     ]
    }
   ],
   "source": [
    "serverPath = Path(r'Z:\\Subjects\\ZYE_0069\\2023-07-14\\4')\n",
    "galvoX = np.squeeze(np.load(serverPath/'galvoXPositions.npy'))\n",
    "galvoY = np.squeeze(np.load(serverPath/'galvoYPositions.npy'))\n",
    "laserPowers = np.squeeze(np.load(serverPath/'laserPowers.npy'))\n",
    "laserOn = np.squeeze(np.load(serverPath / 'laserOnTimes.npy'))\n",
    "laserOff = np.squeeze(np.load(serverPath / 'laserOffTimes.npy'))\n",
    "pulseLengths = []\n",
    "for count,time in enumerate(laserOff):\n",
    "        length = laserOff[count]-laserOn[count]\n",
    "        length = round(length,2)\n",
    "        pulseLengths.append(length)\n",
    "pulseLengths = np.array(pulseLengths)\n",
    "print(np.unique(galvoX))\n",
    "print(np.unique(galvoY))\n",
    "print(np.unique(laserPowers))\n",
    "print(np.unique(pulseLengths))"
   ]
  },
  {
   "cell_type": "code",
   "execution_count": 40,
   "id": "b4bad64c",
   "metadata": {},
   "outputs": [
    {
     "ename": "FileNotFoundError",
     "evalue": "[Errno 2] No such file or directory: 'Z:\\\\Subjects\\\\ZYE_0069\\\\2023-07-14\\\\6\\\\galvoXPositions.npy'",
     "output_type": "error",
     "traceback": [
      "\u001b[1;31m---------------------------------------------------------------------------\u001b[0m",
      "\u001b[1;31mFileNotFoundError\u001b[0m                         Traceback (most recent call last)",
      "Cell \u001b[1;32mIn[40], line 2\u001b[0m\n\u001b[0;32m      1\u001b[0m serverPath \u001b[38;5;241m=\u001b[39m Path(\u001b[38;5;124mr\u001b[39m\u001b[38;5;124m'\u001b[39m\u001b[38;5;124mZ:\u001b[39m\u001b[38;5;124m\\\u001b[39m\u001b[38;5;124mSubjects\u001b[39m\u001b[38;5;124m\\\u001b[39m\u001b[38;5;124mZYE_0069\u001b[39m\u001b[38;5;124m\\\u001b[39m\u001b[38;5;124m2023-07-14\u001b[39m\u001b[38;5;124m\\\u001b[39m\u001b[38;5;124m6\u001b[39m\u001b[38;5;124m'\u001b[39m)\n\u001b[1;32m----> 2\u001b[0m galvoX \u001b[38;5;241m=\u001b[39m np\u001b[38;5;241m.\u001b[39msqueeze(\u001b[43mnp\u001b[49m\u001b[38;5;241;43m.\u001b[39;49m\u001b[43mload\u001b[49m\u001b[43m(\u001b[49m\u001b[43mserverPath\u001b[49m\u001b[38;5;241;43m/\u001b[39;49m\u001b[38;5;124;43m'\u001b[39;49m\u001b[38;5;124;43mgalvoXPositions.npy\u001b[39;49m\u001b[38;5;124;43m'\u001b[39;49m\u001b[43m)\u001b[49m)\n\u001b[0;32m      3\u001b[0m galvoY \u001b[38;5;241m=\u001b[39m np\u001b[38;5;241m.\u001b[39msqueeze(np\u001b[38;5;241m.\u001b[39mload(serverPath\u001b[38;5;241m/\u001b[39m\u001b[38;5;124m'\u001b[39m\u001b[38;5;124mgalvoYPositions.npy\u001b[39m\u001b[38;5;124m'\u001b[39m))\n\u001b[0;32m      4\u001b[0m laserPowers \u001b[38;5;241m=\u001b[39m np\u001b[38;5;241m.\u001b[39msqueeze(np\u001b[38;5;241m.\u001b[39mload(serverPath\u001b[38;5;241m/\u001b[39m\u001b[38;5;124m'\u001b[39m\u001b[38;5;124mlaserPowers.npy\u001b[39m\u001b[38;5;124m'\u001b[39m))\n",
      "File \u001b[1;32mc:\\Users\\nadia\\anaconda3\\envs\\steinmetzlab\\lib\\site-packages\\numpy\\lib\\npyio.py:427\u001b[0m, in \u001b[0;36mload\u001b[1;34m(file, mmap_mode, allow_pickle, fix_imports, encoding, max_header_size)\u001b[0m\n\u001b[0;32m    425\u001b[0m     own_fid \u001b[38;5;241m=\u001b[39m \u001b[38;5;28;01mFalse\u001b[39;00m\n\u001b[0;32m    426\u001b[0m \u001b[38;5;28;01melse\u001b[39;00m:\n\u001b[1;32m--> 427\u001b[0m     fid \u001b[38;5;241m=\u001b[39m stack\u001b[38;5;241m.\u001b[39menter_context(\u001b[38;5;28;43mopen\u001b[39;49m\u001b[43m(\u001b[49m\u001b[43mos_fspath\u001b[49m\u001b[43m(\u001b[49m\u001b[43mfile\u001b[49m\u001b[43m)\u001b[49m\u001b[43m,\u001b[49m\u001b[43m \u001b[49m\u001b[38;5;124;43m\"\u001b[39;49m\u001b[38;5;124;43mrb\u001b[39;49m\u001b[38;5;124;43m\"\u001b[39;49m\u001b[43m)\u001b[49m)\n\u001b[0;32m    428\u001b[0m     own_fid \u001b[38;5;241m=\u001b[39m \u001b[38;5;28;01mTrue\u001b[39;00m\n\u001b[0;32m    430\u001b[0m \u001b[38;5;66;03m# Code to distinguish from NumPy binary files and pickles.\u001b[39;00m\n",
      "\u001b[1;31mFileNotFoundError\u001b[0m: [Errno 2] No such file or directory: 'Z:\\\\Subjects\\\\ZYE_0069\\\\2023-07-14\\\\6\\\\galvoXPositions.npy'"
     ]
    }
   ],
   "source": [
    "serverPath = Path(r'Z:\\Subjects\\ZYE_0069\\2023-07-14\\6')\n",
    "galvoX = np.squeeze(np.load(serverPath/'galvoXPositions.npy'))\n",
    "galvoY = np.squeeze(np.load(serverPath/'galvoYPositions.npy'))\n",
    "laserPowers = np.squeeze(np.load(serverPath/'laserPowers.npy'))\n",
    "laserOn = np.squeeze(np.load(serverPath / 'laserOnTimes.npy'))\n",
    "laserOff = np.squeeze(np.load(serverPath / 'laserOffTimes.npy'))\n",
    "pulseLengths = []\n",
    "for count,time in enumerate(laserOff):\n",
    "        length = laserOff[count]-laserOn[count]\n",
    "        length = round(length,2)\n",
    "        pulseLengths.append(length)\n",
    "pulseLengths = np.array(pulseLengths)\n",
    "print(np.unique(galvoX))\n",
    "print(np.unique(galvoY))\n",
    "print(np.unique(laserPowers))\n",
    "print(np.unique(pulseLengths))"
   ]
  },
  {
   "cell_type": "code",
   "execution_count": 29,
   "id": "b2ff86b5",
   "metadata": {},
   "outputs": [
    {
     "name": "stdout",
     "output_type": "stream",
     "text": [
      "[-0.   3.3]\n",
      "[0.]\n",
      "[0.1 0.4 0.5 0.7 1.1 2.2 3.2]\n",
      "[0.01 0.05 0.1  0.2  0.5 ]\n"
     ]
    }
   ],
   "source": [
    "# this one is messy since it switches halfway through\n",
    "serverPath = Path(r'Z:\\Subjects\\ZYE_0069\\2023-07-17\\1')\n",
    "galvoX = np.squeeze(np.load(serverPath/'galvoXPositions.npy'))\n",
    "galvoY = np.squeeze(np.load(serverPath/'galvoYPositions.npy'))\n",
    "laserPowers = np.squeeze(np.load(serverPath/'laserPowers.npy'))\n",
    "laserOn = np.squeeze(np.load(serverPath / 'laserOnTimes.npy'))\n",
    "laserOff = np.squeeze(np.load(serverPath / 'laserOffTimes.npy'))\n",
    "pulseLengths = []\n",
    "for count,time in enumerate(laserOff):\n",
    "        length = laserOff[count]-laserOn[count]\n",
    "        length = round(length,2)\n",
    "        pulseLengths.append(length)\n",
    "pulseLengths = np.array(pulseLengths)\n",
    "print(np.unique(galvoX))\n",
    "print(np.unique(galvoY))\n",
    "print(np.unique(laserPowers))\n",
    "print(np.unique(pulseLengths))"
   ]
  },
  {
   "cell_type": "code",
   "execution_count": 31,
   "id": "50b07e8b",
   "metadata": {},
   "outputs": [
    {
     "name": "stdout",
     "output_type": "stream",
     "text": [
      "[0.  3.3]\n",
      "[0.  3.3]\n",
      "[0.5 1.  1.5 2.  3.2]\n",
      "[0.1]\n"
     ]
    }
   ],
   "source": [
    "serverPath = Path(r'Z:\\Subjects\\ZYE_0069\\2023-07-19\\1')\n",
    "galvoX = np.squeeze(np.load(serverPath/'galvoXPositions.npy'))\n",
    "galvoY = np.squeeze(np.load(serverPath/'galvoYPositions.npy'))\n",
    "laserPowers = np.squeeze(np.load(serverPath/'laserPowers.npy'))\n",
    "laserOn = np.squeeze(np.load(serverPath / 'laserOnTimes.npy'))\n",
    "laserOff = np.squeeze(np.load(serverPath / 'laserOffTimes.npy'))\n",
    "pulseLengths = []\n",
    "for count,time in enumerate(laserOff):\n",
    "        length = laserOff[count]-laserOn[count]\n",
    "        length = round(length,2)\n",
    "        pulseLengths.append(length)\n",
    "pulseLengths = np.array(pulseLengths)\n",
    "print(np.unique(galvoX))\n",
    "print(np.unique(galvoY))\n",
    "print(np.unique(laserPowers))\n",
    "print(np.unique(pulseLengths))"
   ]
  },
  {
   "cell_type": "code",
   "execution_count": 32,
   "id": "780ac90f",
   "metadata": {},
   "outputs": [
    {
     "name": "stdout",
     "output_type": "stream",
     "text": [
      "[-0.01 -0.  ]\n",
      "[-0.01 -0.  ]\n",
      "[0.1 0.2 0.5 0.7 1.  1.2 1.5 1.7 2. ]\n",
      "[0.1]\n"
     ]
    }
   ],
   "source": [
    "serverPath = Path(r'Z:\\Subjects\\ZYE_0069\\2023-08-16\\1')\n",
    "galvoX = np.squeeze(np.load(serverPath/'galvoXPositions.npy'))\n",
    "galvoY = np.squeeze(np.load(serverPath/'galvoYPositions.npy'))\n",
    "laserPowers = np.squeeze(np.load(serverPath/'laserPowers.npy'))\n",
    "laserOn = np.squeeze(np.load(serverPath / 'laserOnTimes.npy'))\n",
    "laserOff = np.squeeze(np.load(serverPath / 'laserOffTimes.npy'))\n",
    "pulseLengths = []\n",
    "for count,time in enumerate(laserOff):\n",
    "        length = laserOff[count]-laserOn[count]\n",
    "        length = round(length,2)\n",
    "        pulseLengths.append(length)\n",
    "pulseLengths = np.array(pulseLengths)\n",
    "print(np.unique(galvoX))\n",
    "print(np.unique(galvoY))\n",
    "print(np.unique(laserPowers))\n",
    "print(np.unique(pulseLengths))"
   ]
  },
  {
   "cell_type": "code",
   "execution_count": 35,
   "id": "64a1dd86",
   "metadata": {},
   "outputs": [
    {
     "name": "stdout",
     "output_type": "stream",
     "text": [
      "[-0.]\n",
      "[-0.]\n",
      "[0.05 0.1  0.15 0.2  0.3  0.5  0.75 1.   1.5 ]\n",
      "[0.1]\n"
     ]
    }
   ],
   "source": [
    "serverPath = Path(r'Z:\\Subjects\\ZYE_0069\\2023-08-22\\1')\n",
    "galvoX = np.squeeze(np.load(serverPath/'galvoXPositions.npy'))\n",
    "galvoY = np.squeeze(np.load(serverPath/'galvoYPositions.npy'))\n",
    "laserPowers = np.squeeze(np.load(serverPath/'laserPowers.npy'))\n",
    "laserOn = np.squeeze(np.load(serverPath / 'laserOnTimes.npy'))\n",
    "laserOff = np.squeeze(np.load(serverPath / 'laserOffTimes.npy'))\n",
    "pulseLengths = []\n",
    "for count,time in enumerate(laserOff):\n",
    "        length = laserOff[count]-laserOn[count]\n",
    "        length = round(length,2)\n",
    "        pulseLengths.append(length)\n",
    "pulseLengths = np.array(pulseLengths)\n",
    "print(np.unique(galvoX))\n",
    "print(np.unique(galvoY))\n",
    "print(np.unique(laserPowers))\n",
    "print(np.unique(pulseLengths))"
   ]
  },
  {
   "cell_type": "markdown",
   "id": "32d76bf9",
   "metadata": {},
   "source": [
    "## AL_0027"
   ]
  },
  {
   "cell_type": "code",
   "execution_count": 36,
   "id": "b955e432",
   "metadata": {},
   "outputs": [
    {
     "name": "stdout",
     "output_type": "stream",
     "text": [
      "[-0.]\n",
      "[-0.]\n",
      "[0.1  0.25 0.5  0.75 1.   1.5  2.   2.5  3.  ]\n",
      "[0.1]\n"
     ]
    }
   ],
   "source": [
    "serverPath = Path(r'Z:\\Subjects\\AL_0027\\2023-10-24\\1')\n",
    "galvoX = np.squeeze(np.load(serverPath/'galvoXPositions.npy'))\n",
    "galvoY = np.squeeze(np.load(serverPath/'galvoYPositions.npy'))\n",
    "laserPowers = np.squeeze(np.load(serverPath/'laserPowers.npy'))\n",
    "laserOn = np.squeeze(np.load(serverPath / 'laserOnTimes.npy'))\n",
    "laserOff = np.squeeze(np.load(serverPath / 'laserOffTimes.npy'))\n",
    "pulseLengths = []\n",
    "for count,time in enumerate(laserOff):\n",
    "        length = laserOff[count]-laserOn[count]\n",
    "        length = round(length,2)\n",
    "        pulseLengths.append(length)\n",
    "pulseLengths = np.array(pulseLengths)\n",
    "print(np.unique(galvoX))\n",
    "print(np.unique(galvoY))\n",
    "print(np.unique(laserPowers))\n",
    "print(np.unique(pulseLengths))"
   ]
  },
  {
   "cell_type": "code",
   "execution_count": null,
   "id": "c7365063",
   "metadata": {},
   "outputs": [],
   "source": []
  }
 ],
 "metadata": {
  "kernelspec": {
   "display_name": "Python 3 (ipykernel)",
   "language": "python",
   "name": "python3"
  },
  "language_info": {
   "codemirror_mode": {
    "name": "ipython",
    "version": 3
   },
   "file_extension": ".py",
   "mimetype": "text/x-python",
   "name": "python",
   "nbconvert_exporter": "python",
   "pygments_lexer": "ipython3",
   "version": "3.10.13"
  }
 },
 "nbformat": 4,
 "nbformat_minor": 5
}
