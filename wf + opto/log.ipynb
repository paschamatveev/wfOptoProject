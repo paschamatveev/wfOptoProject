{
 "cells": [
  {
   "cell_type": "code",
   "execution_count": 10,
   "id": "54d9901c-bf95-46d2-bc49-9e38cf68fbfc",
   "metadata": {},
   "outputs": [],
   "source": [
    "from wfOpto import *"
   ]
  },
  {
   "cell_type": "code",
   "execution_count": 54,
   "id": "f1b58022-1fd6-41d0-b31f-1f02a94411f1",
   "metadata": {},
   "outputs": [],
   "source": [
    "serverPath = Path(r'Z:\\Subjects\\AL_0023\\2023-08-30\\1')\n",
    "galvoX = np.squeeze(np.load(serverPath/'galvoXPositions.npy'))\n",
    "galvoY = np.squeeze(np.load(serverPath/'galvoYPositions.npy'))\n",
    "laserPowers = np.squeeze(np.load(serverPath/'laserPowers.npy'))\n",
    "laserOn = np.squeeze(np.load(serverPath / 'laserOnTimes.npy'))\n",
    "laserOff = np.squeeze(np.load(serverPath / 'laserOffTimes.npy'))\n",
    "pulseLengths = []\n",
    "for count,time in enumerate(laserOff):\n",
    "        length = laserOff[count]-laserOn[count]\n",
    "        length = round(length,2)\n",
    "        pulseLengths.append(length)\n",
    "pulseLengths = np.array(pulseLengths)"
   ]
  },
  {
   "cell_type": "code",
   "execution_count": 55,
   "id": "bda6544e-497e-4483-aebd-8cd67f6d823a",
   "metadata": {},
   "outputs": [
    {
     "name": "stdout",
     "output_type": "stream",
     "text": [
      "[-0.]\n",
      "[-0.   1.5  2.5]\n"
     ]
    }
   ],
   "source": [
    "print(np.unique(galvoX))\n",
    "print(np.unique(galvoY))"
   ]
  },
  {
   "cell_type": "code",
   "execution_count": 56,
   "id": "c006a432-d88c-4267-b80d-3dc5ac6cc449",
   "metadata": {},
   "outputs": [
    {
     "name": "stdout",
     "output_type": "stream",
     "text": [
      "[0.1  0.25 0.5  0.75 1.   1.5  2.   2.5  3.  ]\n",
      "[0.1]\n"
     ]
    }
   ],
   "source": [
    "print(np.unique(laserPowers))\n",
    "print(np.unique(pulseLengths))"
   ]
  },
  {
   "cell_type": "code",
   "execution_count": null,
   "id": "68dc9f11-d2dc-4d76-a9f2-d3573b5c439f",
   "metadata": {},
   "outputs": [],
   "source": [
    "serverPath = Path(r'Z:\\Subjects\\AL_0023\\2023-08-30\\1')\n"
   ]
  }
 ],
 "metadata": {
  "kernelspec": {
   "display_name": "Python 3 (ipykernel)",
   "language": "python",
   "name": "python3"
  },
  "language_info": {
   "codemirror_mode": {
    "name": "ipython",
    "version": 3
   },
   "file_extension": ".py",
   "mimetype": "text/x-python",
   "name": "python",
   "nbconvert_exporter": "python",
   "pygments_lexer": "ipython3",
   "version": "3.10.12"
  }
 },
 "nbformat": 4,
 "nbformat_minor": 5
}
