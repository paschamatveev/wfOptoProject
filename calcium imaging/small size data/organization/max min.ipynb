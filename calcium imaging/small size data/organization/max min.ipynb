{
 "cells": [
  {
   "cell_type": "markdown",
   "id": "63916c49-a497-441e-b388-278c0205858d",
   "metadata": {},
   "source": [
    "## Max and Min comparisons"
   ]
  },
  {
   "cell_type": "code",
   "execution_count": null,
   "id": "31e614b9-efbe-45cc-9ce7-73fd6d8785a3",
   "metadata": {},
   "outputs": [],
   "source": [
    "import matplotlib as mpl\n",
    "import matplotlib.pyplot as plt\n",
    "import numpy as np\n",
    "import os\n",
    "from pathlib import Path\n",
    "import scipy\n",
    "\n",
    "serverPath = Path(r'Z:\\Subjects\\AL_0023\\2023-05-15\\1')\n",
    "\n",
    "timeFile = serverPath / 'cameraFrameTimes.npy'\n",
    "frameTimes = np.squeeze(np.load(timeFile))[::2] # every other frame - we want blue only\n",
    "svdTemp = np.load(serverPath / 'corr/50_svdTemporalComponents_corr.npy')\n",
    "svdSpat = np.load(serverPath / 'blue/50_svdSpatialComponents.npy')\n",
    "meanImage = np.load(serverPath / 'blue/meanImage.npy')\n",
    "stimOnTimes = np.squeeze(np.load(r'Z:\\Subjects\\AL_0023\\2023-05-15\\3\\linTestOnTimes.npy'))\n",
    "stimContrasts = np.squeeze(np.load(r'Z:\\Subjects\\AL_0023\\2023-05-15\\3\\linTestContrasts.npy'))\n",
    "stimDurations = np.squeeze(np.load(r'Z:\\Subjects\\AL_0023\\2023-05-15\\3\\linTestDurations.npy'))"
   ]
  },
  {
   "cell_type": "code",
   "execution_count": null,
   "id": "c84264d8-3904-4dbf-8659-8076a9d2103b",
   "metadata": {},
   "outputs": [],
   "source": [
    "# creating arrays tht correspond to the max and min stim contrasts over time\n",
    "uniqueContrasts = np.unique(stimContrasts)\n",
    "maxUnique = max(uniqueContrasts)\n",
    "minUnique = min(uniqueContrasts)\n",
    "maxContrasts = np.where(np.array(stimContrasts) == (maxUnique))[0]\n",
    "minContrasts = np.where(np.array(stimContrasts) == (minUnique))[0]\n",
    "stimOnMax = stimOnTimes[maxContrasts]\n",
    "stimOnMin = stimOnTimes[minContrasts]"
   ]
  },
  {
   "cell_type": "code",
   "execution_count": null,
   "id": "a2176dd3-9263-4305-b098-f6593128d5ed",
   "metadata": {},
   "outputs": [],
   "source": [
    "trial_time_max = [np.linspace(i-0.1, i+0.6, 100) for i in stimOnMax]\n",
    "trial_time_max = np.array(trial_time_max)\n",
    "\n",
    "trial_time_min = [np.linspace(i-0.1, i+0.6, 100) for i in stimOnMin]\n",
    "trial_time_min = np.array(trial_time_min)\n",
    "\n",
    "trial_activity_max = getTempComp(trial_time_max)\n",
    "trial_activity_min = getTempComp(trial_time_min)\n",
    "\n",
    "#creating videos of the max and min contrasts \n",
    "trial_activity_max_reshaped = np.mean(trial_activity_max, axis=0)\n",
    "spatial = svdSpat.reshape(560*560, -1)\n",
    "videoMax = spatial @ trial_activity_max_reshaped.T\n",
    "videoMax = videoMax.reshape(560, 560, -1)\n",
    "\n",
    "trial_activity_min_reshaped = np.mean(trial_activity_min, axis=0)\n",
    "spatial = svdSpat.reshape(560*560, -1)\n",
    "videoMin = spatial @ trial_activity_min_reshaped.T\n",
    "videoMin = videoMin.reshape(560, 560, -1)"
   ]
  },
  {
   "cell_type": "code",
   "execution_count": null,
   "id": "531039f5-888f-47e1-880d-e2d7792bc7c9",
   "metadata": {},
   "outputs": [],
   "source": [
    "#testing that I made the video of the max contrast/time correctly\n",
    "n_cols = 5\n",
    "n_rows = 10\n",
    "f = plt.figure(figsize=(n_cols*2, n_rows*2))\n",
    "gs = mpl.gridspec.GridSpec(n_rows, n_cols)\n",
    "for i in range(50):\n",
    "    ax = plt.subplot(gs[i])\n",
    "    plt.imshow(videoMax[:, :, i*2], clim=[-3000, 3000])\n",
    "    plt.xticks([])\n",
    "    plt.yticks([])\n",
    "    #plt.title(f't = {trial_time_all[i*2]}s')\n",
    "    # plt.colorbar()"
   ]
  },
  {
   "cell_type": "code",
   "execution_count": null,
   "id": "5b776659-c636-435e-918f-d4f5c42283f6",
   "metadata": {},
   "outputs": [],
   "source": [
    "#max and min total values\n",
    "videoMaxAvg = np.mean(videoMax, axis = (0,1))\n",
    "locationMax = np.argmax(videoMaxAvg) \n",
    "\n",
    "videoMinAvg = np.mean(videoMin, axis = (0,1))\n",
    "locationMin = np.argmax(videoMinAvg)"
   ]
  },
  {
   "cell_type": "code",
   "execution_count": null,
   "id": "2446b74f-26d0-4676-b309-169fcfbc0a1b",
   "metadata": {},
   "outputs": [],
   "source": [
    "#min didn't really work, max did\n",
    "n_cols = 2\n",
    "n_rows = 50\n",
    "f = plt.figure(figsize=(n_cols*2, n_rows*2))\n",
    "gs = mpl.gridspec.GridSpec(n_rows, n_cols)\n",
    "for i in range(0,70,2):\n",
    "    ax = plt.subplot(gs[i])\n",
    "    plt.imshow(videoMax[:, :, (locationMax - (i-35))], clim=[-3000, 3000])\n",
    "    plt.xticks([])\n",
    "    plt.yticks([])\n",
    "    ax.set_title(\"Max\")\n",
    "           \n",
    "#     ax = plt.subplot(gs[i+1])\n",
    "#     plt.imshow(videoMin[:,:, (locationMin - (i-35))], clim=[-3000,3000])\n",
    "#     plt.xticks([])\n",
    "#     plt.yticks([])\n",
    "#     ax.set_title(\"Min\")          \n",
    "#     #plt.title(f't = {trial_time_all[i*2]}s')\n",
    "#     plt.colorbar()"
   ]
  },
  {
   "cell_type": "code",
   "execution_count": null,
   "id": "d0e9914b-17f6-405d-85e8-5216a40fabcb",
   "metadata": {},
   "outputs": [],
   "source": [
    "#looking at min values\n",
    "\n",
    "videoMaxAvg = np.mean(videoMax, axis = (0,1))\n",
    "locationMax = np.argmin(videoMaxAvg) \n",
    "\n",
    "videoMinAvg = np.mean(videoMin, axis = (0,1))\n",
    "locationMin = np.argmin(videoMinAvg)\n",
    "\n",
    "n_cols = 2\n",
    "n_rows = 50\n",
    "f = plt.figure(figsize=(n_cols*2, n_rows*2))\n",
    "gs = mpl.gridspec.GridSpec(n_rows, n_cols)\n",
    "for i in range(0,70,2):\n",
    "    ax = plt.subplot(gs[i])\n",
    "    plt.imshow(videoMax[:, :, (locationMax - (i-35))], clim=[-3000, 3000])\n",
    "    plt.xticks([])\n",
    "    plt.yticks([])\n",
    "    ax.set_title(\"Max\")\n",
    "           \n",
    "    ax = plt.subplot(gs[i+1])\n",
    "    plt.imshow(videoMin[:,:, (locationMin - (i-35))], clim=[-3000,3000])\n",
    "    plt.xticks([])\n",
    "    plt.yticks([])\n",
    "    ax.set_title(\"Min\")         "
   ]
  }
 ],
 "metadata": {
  "kernelspec": {
   "display_name": "Python 3 (ipykernel)",
   "language": "python",
   "name": "python3"
  },
  "language_info": {
   "codemirror_mode": {
    "name": "ipython",
    "version": 3
   },
   "file_extension": ".py",
   "mimetype": "text/x-python",
   "name": "python",
   "nbconvert_exporter": "python",
   "pygments_lexer": "ipython3",
   "version": "3.10.9"
  }
 },
 "nbformat": 4,
 "nbformat_minor": 5
}
