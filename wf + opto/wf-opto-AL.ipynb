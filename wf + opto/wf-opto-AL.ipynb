{
 "cells": [
  {
   "cell_type": "code",
   "execution_count": 1,
   "id": "ba0cf281-f24a-4992-8e5e-65c8c258d33b",
   "metadata": {},
   "outputs": [
    {
     "name": "stdout",
     "output_type": "stream",
     "text": [
      "pytoolsAL: Modules missing.  Not loading neuropixels.  Message: No module named 'slidingRP'\n"
     ]
    }
   ],
   "source": [
    "%matplotlib inline \n",
    "%reload_ext autoreload\n",
    "%autoreload 2\n",
    "\n",
    "import collections\n",
    "from datetime import datetime\n",
    "from IPython.display import clear_output, display, HTML\n",
    "import itertools\n",
    "import matplotlib.pyplot as plt\n",
    "import matplotlib as mpl\n",
    "import numpy as np\n",
    "import os\n",
    "from pathlib import Path\n",
    "import pickle\n",
    "import scipy\n",
    "import seaborn as sns\n",
    "import sklearn\n",
    "from sklearn.decomposition import PCA\n",
    "import sys\n",
    "\n",
    "import pytoolsAL as ptAL\n",
    "\n",
    "sys.path.append('../src')"
   ]
  },
  {
   "cell_type": "code",
   "execution_count": 2,
   "id": "92c51e73-9299-4e40-8f2c-edd8f1559765",
   "metadata": {},
   "outputs": [],
   "source": [
    "mn = 'ZYE_0069'\n",
    "td = '2023-07-17'\n",
    "ca_en = '1'\n",
    "\n",
    "expRoot = Path(r'Z:\\Subjects\\ZYE_0069\\2023-07-17\\1')\n",
    "\n",
    "galvoX = np.squeeze(np.load(expRoot/'galvoXPositions.npy'))\n",
    "galvoY = np.squeeze(np.load(expRoot/'galvoYPositions.npy'))\n",
    "laserPowers = np.squeeze(np.load(expRoot/'laserPowers.npy'))\n",
    "laserOn = np.squeeze(np.load(expRoot/'laserOnTimes.npy'))\n",
    "laserOff = np.squeeze(np.load(expRoot/'laserOffTimes.npy'))\n",
    "frameTimes = np.squeeze(np.load(expRoot/'cameraFrameTimes.npy'))[::2]"
   ]
  },
  {
   "cell_type": "code",
   "execution_count": 3,
   "id": "4e5ac6f5-736c-4689-8b99-73e8f0e13410",
   "metadata": {},
   "outputs": [],
   "source": [
    "svdTemp = np.load(expRoot/'corr/svdTemporalComponents_corr.npy')\n",
    "svdSpatFull = np.load(expRoot/'blue/svdSpatialComponents.npy')[:, :, :500]\n",
    "px, py, ncomps = svdSpatFull.shape\n",
    "svdSpat = svdSpatFull.reshape(px*py, ncomps)\n",
    "tToWf = scipy.interpolate.interp1d(frameTimes, svdTemp, axis=0, fill_value='extrapolate')"
   ]
  },
  {
   "cell_type": "code",
   "execution_count": 4,
   "id": "29282c14-1a34-4ee2-b15d-97d4d3bee928",
   "metadata": {},
   "outputs": [],
   "source": [
    "exp1 = np.r_[:334]\n",
    "exp2 = np.r_[334:len(laserPowers)]"
   ]
  },
  {
   "cell_type": "code",
   "execution_count": 5,
   "id": "a3d34157-0835-4345-8d4b-9ebb5759168d",
   "metadata": {},
   "outputs": [],
   "source": [
    "savedir = Path(r'C:\\Users\\anna\\Data\\ZYE_0069\\2023-07-17\\2')\n",
    "\n",
    "powers = np.unique(laserPowers[exp1])\n",
    "trsPowers = []\n",
    "n_samples = 500\n",
    "hemi = 'right'\n",
    "for iP, power in enumerate(powers):\n",
    "    thesePowers = np.argwhere(laserPowers[exp1] == power).ravel()\n",
    "    if hemi == 'left':\n",
    "        galv = 0\n",
    "    elif hemi == 'right':\n",
    "        galv = 3.3\n",
    "        \n",
    "    thesePos = np.argwhere(galvoX[exp1] == galv).ravel()\n",
    "    theseTrs = np.intersect1d(thesePowers, thesePos)\n",
    "    onTimes = laserOn[theseTrs]\n",
    "    trs = [np.linspace(-0.3+on, 1+on, n_samples) for on in onTimes]\n",
    "    trs = np.squeeze(np.array(trs))\n",
    "    \n",
    "    wf = np.mean(tToWf(trs), axis=0)\n",
    "    \n",
    "    dwf = [np.diff(i, prepend=i[0]) for i in wf.T]\n",
    "    dwf = np.array(dwf)\n",
    "    mov = svdSpat @ dwf\n",
    "    mov = mov.reshape(px, py, -1)\n",
    "    \n",
    "    trsPowers.append(mov.transpose(2, 0, 1))\n",
    "    \n",
    "trsPowers = np.array(trsPowers)"
   ]
  },
  {
   "cell_type": "code",
   "execution_count": 6,
   "id": "5ea65bc4-90d2-42fa-a76b-1cd0c226e70a",
   "metadata": {},
   "outputs": [
    {
     "ename": "FileNotFoundError",
     "evalue": "[WinError 3] The system cannot find the path specified: 'C:\\\\Users\\\\anna\\\\Data\\\\ZYE_0069\\\\2023-07-17\\\\2'",
     "output_type": "error",
     "traceback": [
      "\u001b[1;31m---------------------------------------------------------------------------\u001b[0m",
      "\u001b[1;31mFileNotFoundError\u001b[0m                         Traceback (most recent call last)",
      "Cell \u001b[1;32mIn[6], line 42\u001b[0m\n\u001b[0;32m     39\u001b[0m anim \u001b[38;5;241m=\u001b[39m mpl\u001b[38;5;241m.\u001b[39manimation\u001b[38;5;241m.\u001b[39mFuncAnimation(f, animate, frames\u001b[38;5;241m=\u001b[39mn_samples\u001b[38;5;241m-\u001b[39m\u001b[38;5;241m1\u001b[39m, cache_frame_data\u001b[38;5;241m=\u001b[39m\u001b[38;5;28;01mFalse\u001b[39;00m, interval\u001b[38;5;241m=\u001b[39m\u001b[38;5;241m250\u001b[39m)\n\u001b[0;32m     41\u001b[0m savepath \u001b[38;5;241m=\u001b[39m savedir \u001b[38;5;241m/\u001b[39m \u001b[38;5;124mf\u001b[39m\u001b[38;5;124m'\u001b[39m\u001b[38;5;132;01m{\u001b[39;00mhemi\u001b[38;5;132;01m}\u001b[39;00m\u001b[38;5;124m_power.avi\u001b[39m\u001b[38;5;124m'\u001b[39m\n\u001b[1;32m---> 42\u001b[0m \u001b[43mptAL\u001b[49m\u001b[38;5;241;43m.\u001b[39;49m\u001b[43mplotting\u001b[49m\u001b[38;5;241;43m.\u001b[39;49m\u001b[43manim_to_file\u001b[49m\u001b[43m(\u001b[49m\u001b[43manim\u001b[49m\u001b[43m,\u001b[49m\u001b[43m \u001b[49m\u001b[38;5;28;43mstr\u001b[39;49m\u001b[43m(\u001b[49m\u001b[43msavepath\u001b[49m\u001b[43m)\u001b[49m\u001b[43m,\u001b[49m\u001b[43m \u001b[49m\u001b[43mrewrite\u001b[49m\u001b[38;5;241;43m=\u001b[39;49m\u001b[38;5;28;43;01mTrue\u001b[39;49;00m\u001b[43m,\u001b[49m\u001b[43m \u001b[49m\u001b[43mfps\u001b[49m\u001b[38;5;241;43m=\u001b[39;49m\u001b[38;5;241;43m25\u001b[39;49m\u001b[43m,\u001b[49m\u001b[43m \u001b[49m\u001b[43mbitrate\u001b[49m\u001b[38;5;241;43m=\u001b[39;49m\u001b[38;5;241;43m-\u001b[39;49m\u001b[38;5;241;43m1\u001b[39;49m\u001b[43m)\u001b[49m\n\u001b[0;32m     43\u001b[0m ptAL\u001b[38;5;241m.\u001b[39mimage\u001b[38;5;241m.\u001b[39mavi_to_gif(\u001b[38;5;28mstr\u001b[39m(savepath), fps\u001b[38;5;241m=\u001b[39m\u001b[38;5;241m4\u001b[39m)\n\u001b[0;32m     45\u001b[0m clear_output()\n",
      "File \u001b[1;32m~\\anaconda3\\envs\\steinmetzlab\\lib\\site-packages\\pytoolsal-2021.7-py3.10.egg\\pytoolsAL\\plotting.py:210\u001b[0m, in \u001b[0;36manim_to_file\u001b[1;34m(anim, savepath, rewrite, fps, bitrate)\u001b[0m\n\u001b[0;32m    207\u001b[0m \u001b[38;5;28;01melse\u001b[39;00m:\n\u001b[0;32m    208\u001b[0m     \u001b[38;5;28;01mraise\u001b[39;00m \u001b[38;5;167;01mValueError\u001b[39;00m(\u001b[38;5;124mf\u001b[39m\u001b[38;5;124m'\u001b[39m\u001b[38;5;124mincompatible file format found: \u001b[39m\u001b[38;5;132;01m{\u001b[39;00mfileformat\u001b[38;5;132;01m}\u001b[39;00m\u001b[38;5;124m. check savepath?\u001b[39m\u001b[38;5;124m'\u001b[39m)\n\u001b[1;32m--> 210\u001b[0m \u001b[43manim\u001b[49m\u001b[38;5;241;43m.\u001b[39;49m\u001b[43msave\u001b[49m\u001b[43m(\u001b[49m\u001b[43msavepath\u001b[49m\u001b[43m,\u001b[49m\u001b[43m \u001b[49m\u001b[43mwriter\u001b[49m\u001b[38;5;241;43m=\u001b[39;49m\u001b[43mwriter\u001b[49m\u001b[43m,\u001b[49m\u001b[43m \u001b[49m\u001b[43mdpi\u001b[49m\u001b[38;5;241;43m=\u001b[39;49m\u001b[38;5;241;43m300\u001b[39;49m\u001b[43m)\u001b[49m\n",
      "File \u001b[1;32m~\\anaconda3\\envs\\steinmetzlab\\lib\\site-packages\\matplotlib\\animation.py:1085\u001b[0m, in \u001b[0;36mAnimation.save\u001b[1;34m(self, filename, writer, fps, dpi, codec, bitrate, extra_args, metadata, extra_anim, savefig_kwargs, progress_callback)\u001b[0m\n\u001b[0;32m   1081\u001b[0m savefig_kwargs[\u001b[38;5;124m'\u001b[39m\u001b[38;5;124mtransparent\u001b[39m\u001b[38;5;124m'\u001b[39m] \u001b[38;5;241m=\u001b[39m \u001b[38;5;28;01mFalse\u001b[39;00m   \u001b[38;5;66;03m# just to be safe!\u001b[39;00m\n\u001b[0;32m   1082\u001b[0m \u001b[38;5;66;03m# canvas._is_saving = True makes the draw_event animation-starting\u001b[39;00m\n\u001b[0;32m   1083\u001b[0m \u001b[38;5;66;03m# callback a no-op; canvas.manager = None prevents resizing the GUI\u001b[39;00m\n\u001b[0;32m   1084\u001b[0m \u001b[38;5;66;03m# widget (both are likewise done in savefig()).\u001b[39;00m\n\u001b[1;32m-> 1085\u001b[0m \u001b[38;5;28;01mwith\u001b[39;00m mpl\u001b[38;5;241m.\u001b[39mrc_context({\u001b[38;5;124m'\u001b[39m\u001b[38;5;124msavefig.bbox\u001b[39m\u001b[38;5;124m'\u001b[39m: \u001b[38;5;28;01mNone\u001b[39;00m}), \\\n\u001b[0;32m   1086\u001b[0m      writer\u001b[38;5;241m.\u001b[39msaving(\u001b[38;5;28mself\u001b[39m\u001b[38;5;241m.\u001b[39m_fig, filename, dpi), \\\n\u001b[0;32m   1087\u001b[0m      cbook\u001b[38;5;241m.\u001b[39m_setattr_cm(\u001b[38;5;28mself\u001b[39m\u001b[38;5;241m.\u001b[39m_fig\u001b[38;5;241m.\u001b[39mcanvas,\n\u001b[0;32m   1088\u001b[0m                        _is_saving\u001b[38;5;241m=\u001b[39m\u001b[38;5;28;01mTrue\u001b[39;00m, manager\u001b[38;5;241m=\u001b[39m\u001b[38;5;28;01mNone\u001b[39;00m):\n\u001b[0;32m   1089\u001b[0m     \u001b[38;5;28;01mfor\u001b[39;00m anim \u001b[38;5;129;01min\u001b[39;00m all_anim:\n\u001b[0;32m   1090\u001b[0m         anim\u001b[38;5;241m.\u001b[39m_init_draw()  \u001b[38;5;66;03m# Clear the initial frame\u001b[39;00m\n",
      "File \u001b[1;32m~\\anaconda3\\envs\\steinmetzlab\\lib\\contextlib.py:135\u001b[0m, in \u001b[0;36m_GeneratorContextManager.__enter__\u001b[1;34m(self)\u001b[0m\n\u001b[0;32m    133\u001b[0m \u001b[38;5;28;01mdel\u001b[39;00m \u001b[38;5;28mself\u001b[39m\u001b[38;5;241m.\u001b[39margs, \u001b[38;5;28mself\u001b[39m\u001b[38;5;241m.\u001b[39mkwds, \u001b[38;5;28mself\u001b[39m\u001b[38;5;241m.\u001b[39mfunc\n\u001b[0;32m    134\u001b[0m \u001b[38;5;28;01mtry\u001b[39;00m:\n\u001b[1;32m--> 135\u001b[0m     \u001b[38;5;28;01mreturn\u001b[39;00m \u001b[38;5;28;43mnext\u001b[39;49m\u001b[43m(\u001b[49m\u001b[38;5;28;43mself\u001b[39;49m\u001b[38;5;241;43m.\u001b[39;49m\u001b[43mgen\u001b[49m\u001b[43m)\u001b[49m\n\u001b[0;32m    136\u001b[0m \u001b[38;5;28;01mexcept\u001b[39;00m \u001b[38;5;167;01mStopIteration\u001b[39;00m:\n\u001b[0;32m    137\u001b[0m     \u001b[38;5;28;01mraise\u001b[39;00m \u001b[38;5;167;01mRuntimeError\u001b[39;00m(\u001b[38;5;124m\"\u001b[39m\u001b[38;5;124mgenerator didn\u001b[39m\u001b[38;5;124m'\u001b[39m\u001b[38;5;124mt yield\u001b[39m\u001b[38;5;124m\"\u001b[39m) \u001b[38;5;28;01mfrom\u001b[39;00m \u001b[38;5;28;01mNone\u001b[39;00m\n",
      "File \u001b[1;32m~\\anaconda3\\envs\\steinmetzlab\\lib\\site-packages\\matplotlib\\animation.py:231\u001b[0m, in \u001b[0;36mAbstractMovieWriter.saving\u001b[1;34m(self, fig, outfile, dpi, *args, **kwargs)\u001b[0m\n\u001b[0;32m    225\u001b[0m \u001b[38;5;250m\u001b[39m\u001b[38;5;124;03m\"\"\"\u001b[39;00m\n\u001b[0;32m    226\u001b[0m \u001b[38;5;124;03mContext manager to facilitate writing the movie file.\u001b[39;00m\n\u001b[0;32m    227\u001b[0m \n\u001b[0;32m    228\u001b[0m \u001b[38;5;124;03m``*args, **kw`` are any parameters that should be passed to `setup`.\u001b[39;00m\n\u001b[0;32m    229\u001b[0m \u001b[38;5;124;03m\"\"\"\u001b[39;00m\n\u001b[0;32m    230\u001b[0m \u001b[38;5;66;03m# This particular sequence is what contextlib.contextmanager wants\u001b[39;00m\n\u001b[1;32m--> 231\u001b[0m \u001b[38;5;28mself\u001b[39m\u001b[38;5;241m.\u001b[39msetup(fig, outfile, dpi, \u001b[38;5;241m*\u001b[39margs, \u001b[38;5;241m*\u001b[39m\u001b[38;5;241m*\u001b[39mkwargs)\n\u001b[0;32m    232\u001b[0m \u001b[38;5;28;01mtry\u001b[39;00m:\n\u001b[0;32m    233\u001b[0m     \u001b[38;5;28;01myield\u001b[39;00m \u001b[38;5;28mself\u001b[39m\n",
      "File \u001b[1;32m~\\anaconda3\\envs\\steinmetzlab\\lib\\site-packages\\matplotlib\\animation.py:316\u001b[0m, in \u001b[0;36mMovieWriter.setup\u001b[1;34m(self, fig, outfile, dpi)\u001b[0m\n\u001b[0;32m    314\u001b[0m \u001b[38;5;28;01mdef\u001b[39;00m \u001b[38;5;21msetup\u001b[39m(\u001b[38;5;28mself\u001b[39m, fig, outfile, dpi\u001b[38;5;241m=\u001b[39m\u001b[38;5;28;01mNone\u001b[39;00m):\n\u001b[0;32m    315\u001b[0m     \u001b[38;5;66;03m# docstring inherited\u001b[39;00m\n\u001b[1;32m--> 316\u001b[0m     \u001b[38;5;28;43msuper\u001b[39;49m\u001b[43m(\u001b[49m\u001b[43m)\u001b[49m\u001b[38;5;241;43m.\u001b[39;49m\u001b[43msetup\u001b[49m\u001b[43m(\u001b[49m\u001b[43mfig\u001b[49m\u001b[43m,\u001b[49m\u001b[43m \u001b[49m\u001b[43moutfile\u001b[49m\u001b[43m,\u001b[49m\u001b[43m \u001b[49m\u001b[43mdpi\u001b[49m\u001b[38;5;241;43m=\u001b[39;49m\u001b[43mdpi\u001b[49m\u001b[43m)\u001b[49m\n\u001b[0;32m    317\u001b[0m     \u001b[38;5;28mself\u001b[39m\u001b[38;5;241m.\u001b[39m_w, \u001b[38;5;28mself\u001b[39m\u001b[38;5;241m.\u001b[39m_h \u001b[38;5;241m=\u001b[39m \u001b[38;5;28mself\u001b[39m\u001b[38;5;241m.\u001b[39m_adjust_frame_size()\n\u001b[0;32m    318\u001b[0m     \u001b[38;5;66;03m# Run here so that grab_frame() can write the data to a pipe. This\u001b[39;00m\n\u001b[0;32m    319\u001b[0m     \u001b[38;5;66;03m# eliminates the need for temp files.\u001b[39;00m\n",
      "File \u001b[1;32m~\\anaconda3\\envs\\steinmetzlab\\lib\\site-packages\\matplotlib\\animation.py:197\u001b[0m, in \u001b[0;36mAbstractMovieWriter.setup\u001b[1;34m(self, fig, outfile, dpi)\u001b[0m\n\u001b[0;32m    183\u001b[0m \u001b[38;5;250m\u001b[39m\u001b[38;5;124;03m\"\"\"\u001b[39;00m\n\u001b[0;32m    184\u001b[0m \u001b[38;5;124;03mSetup for writing the movie file.\u001b[39;00m\n\u001b[0;32m    185\u001b[0m \n\u001b[1;32m   (...)\u001b[0m\n\u001b[0;32m    194\u001b[0m \u001b[38;5;124;03m    in pixels of the resulting movie file.\u001b[39;00m\n\u001b[0;32m    195\u001b[0m \u001b[38;5;124;03m\"\"\"\u001b[39;00m\n\u001b[0;32m    196\u001b[0m \u001b[38;5;66;03m# Check that path is valid\u001b[39;00m\n\u001b[1;32m--> 197\u001b[0m \u001b[43mPath\u001b[49m\u001b[43m(\u001b[49m\u001b[43moutfile\u001b[49m\u001b[43m)\u001b[49m\u001b[38;5;241;43m.\u001b[39;49m\u001b[43mparent\u001b[49m\u001b[38;5;241;43m.\u001b[39;49m\u001b[43mresolve\u001b[49m\u001b[43m(\u001b[49m\u001b[43mstrict\u001b[49m\u001b[38;5;241;43m=\u001b[39;49m\u001b[38;5;28;43;01mTrue\u001b[39;49;00m\u001b[43m)\u001b[49m\n\u001b[0;32m    198\u001b[0m \u001b[38;5;28mself\u001b[39m\u001b[38;5;241m.\u001b[39moutfile \u001b[38;5;241m=\u001b[39m outfile\n\u001b[0;32m    199\u001b[0m \u001b[38;5;28mself\u001b[39m\u001b[38;5;241m.\u001b[39mfig \u001b[38;5;241m=\u001b[39m fig\n",
      "File \u001b[1;32m~\\anaconda3\\envs\\steinmetzlab\\lib\\pathlib.py:1077\u001b[0m, in \u001b[0;36mPath.resolve\u001b[1;34m(self, strict)\u001b[0m\n\u001b[0;32m   1074\u001b[0m         \u001b[38;5;28;01mraise\u001b[39;00m \u001b[38;5;167;01mRuntimeError\u001b[39;00m(\u001b[38;5;124m\"\u001b[39m\u001b[38;5;124mSymlink loop from \u001b[39m\u001b[38;5;132;01m%r\u001b[39;00m\u001b[38;5;124m\"\u001b[39m \u001b[38;5;241m%\u001b[39m e\u001b[38;5;241m.\u001b[39mfilename)\n\u001b[0;32m   1076\u001b[0m \u001b[38;5;28;01mtry\u001b[39;00m:\n\u001b[1;32m-> 1077\u001b[0m     s \u001b[38;5;241m=\u001b[39m \u001b[38;5;28;43mself\u001b[39;49m\u001b[38;5;241;43m.\u001b[39;49m\u001b[43m_accessor\u001b[49m\u001b[38;5;241;43m.\u001b[39;49m\u001b[43mrealpath\u001b[49m\u001b[43m(\u001b[49m\u001b[38;5;28;43mself\u001b[39;49m\u001b[43m,\u001b[49m\u001b[43m \u001b[49m\u001b[43mstrict\u001b[49m\u001b[38;5;241;43m=\u001b[39;49m\u001b[43mstrict\u001b[49m\u001b[43m)\u001b[49m\n\u001b[0;32m   1078\u001b[0m \u001b[38;5;28;01mexcept\u001b[39;00m \u001b[38;5;167;01mOSError\u001b[39;00m \u001b[38;5;28;01mas\u001b[39;00m e:\n\u001b[0;32m   1079\u001b[0m     check_eloop(e)\n",
      "File \u001b[1;32m~\\anaconda3\\envs\\steinmetzlab\\lib\\ntpath.py:689\u001b[0m, in \u001b[0;36mrealpath\u001b[1;34m(path, strict)\u001b[0m\n\u001b[0;32m    687\u001b[0m     path \u001b[38;5;241m=\u001b[39m join(cwd, path)\n\u001b[0;32m    688\u001b[0m \u001b[38;5;28;01mtry\u001b[39;00m:\n\u001b[1;32m--> 689\u001b[0m     path \u001b[38;5;241m=\u001b[39m \u001b[43m_getfinalpathname\u001b[49m\u001b[43m(\u001b[49m\u001b[43mpath\u001b[49m\u001b[43m)\u001b[49m\n\u001b[0;32m    690\u001b[0m     initial_winerror \u001b[38;5;241m=\u001b[39m \u001b[38;5;241m0\u001b[39m\n\u001b[0;32m    691\u001b[0m \u001b[38;5;28;01mexcept\u001b[39;00m \u001b[38;5;167;01mOSError\u001b[39;00m \u001b[38;5;28;01mas\u001b[39;00m ex:\n",
      "\u001b[1;31mFileNotFoundError\u001b[0m: [WinError 3] The system cannot find the path specified: 'C:\\\\Users\\\\anna\\\\Data\\\\ZYE_0069\\\\2023-07-17\\\\2'"
     ]
    },
    {
     "data": {
      "image/png": "[encoded data removed]",
      "text/plain": [
       "<Figure size 600x400 with 12 Axes>"
      ]
     },
     "metadata": {},
     "output_type": "display_data"
    }
   ],
   "source": [
    "f = plt.figure(figsize=(6, 4))\n",
    "gs = mpl.gridspec.GridSpec(2, 3)\n",
    "\n",
    "timestamps = np.linspace(-0.3, 1, n_samples)*1000\n",
    "stimOn = np.intersect1d(np.argwhere(timestamps > 0).ravel(), np.argwhere(timestamps < 100).ravel())\n",
    "\n",
    "images = []\n",
    "axes = []\n",
    "\n",
    "for pwr in range(6):\n",
    "    ax = plt.subplot(gs[pwr])\n",
    "    im = plt.imshow(np.zeros((px, py)), clim=np.r_[-1, 1]*50, cmap='bwr', animated=True)\n",
    "    ax = ptAL.plotting.apply_image_defaults(ax)\n",
    "    stext = plt.text(0.1, 0.9, '', fontsize='small', transform=ax.transAxes, zorder=20)\n",
    "    plt.title(f'~{powers[pwr]/3.3*1.9:.2f} mW')\n",
    "    \n",
    "    axes.append(ax)\n",
    "    if pwr == 0:\n",
    "        cb = ptAL.plotting.add_colorbar(ax)\n",
    "    else:\n",
    "        cb = ptAL.plotting.add_colorbar_space(ax)\n",
    "    \n",
    "    images.append(im)\n",
    "\n",
    "def animate(i):\n",
    "    for pwr in range(6):\n",
    "        images[pwr].set_array(trsPowers[pwr, i])\n",
    "        f.suptitle(f't = {timestamps[i]:.0f} ms')\n",
    "        if np.isin(i, stimOn):\n",
    "            stext.set_text('STIM ON')\n",
    "            stext.set_color('red')\n",
    "        else:\n",
    "            stext.set_text('STIM OFF')\n",
    "            stext.set_color('k')\n",
    "        \n",
    "    # if timestamps[i] <= 0 and timestamps[i] <= 0.1:\n",
    "    #     plt.text(0.1, 0.9, 'STIM ON', c='red', transform=ax.transAxes)\n",
    "    \n",
    "anim = mpl.animation.FuncAnimation(f, animate, frames=n_samples-1, cache_frame_data=False, interval=250)\n",
    "\n",
    "savepath = savedir / f'{hemi}_power.avi'\n",
    "ptAL.plotting.anim_to_file(anim, str(savepath), rewrite=True, fps=25, bitrate=-1)\n",
    "ptAL.image.avi_to_gif(str(savepath), fps=4)\n",
    "\n",
    "clear_output()\n",
    "# plt.show()"
   ]
  },
  {
   "cell_type": "code",
   "execution_count": null,
   "id": "51f3997f-f182-49ea-8aca-bd928b0c7670",
   "metadata": {},
   "outputs": [],
   "source": [
    "trials.shape"
   ]
  },
  {
   "cell_type": "code",
   "execution_count": null,
   "id": "684a87b1-1416-4475-b63d-4c8d6786dca1",
   "metadata": {},
   "outputs": [],
   "source": [
    "plt.imshow(np.mean(trials, axis=0)[100:200])"
   ]
  },
  {
   "cell_type": "code",
   "execution_count": null,
   "id": "e04da3bf-459e-463c-97cd-7439dd74df73",
   "metadata": {},
   "outputs": [],
   "source": [
    "f = plt.figure(figsize=(6, 4))\n",
    "gs = mpl.gridspec.GridSpec(2, 3)\n",
    "\n",
    "hline = 400\n",
    "vline = 400\n",
    "\n",
    "lkwargs = {'color': 'k', 'ls': 'dashed'}\n",
    "for i in range(6):\n",
    "    trials = trsPowers[i, stimOn[:50]]\n",
    "    ax = plt.subplot(gs[i])\n",
    "    plt.imshow(np.mean(trials, axis=0), cmap='bwr', clim=np.r_[-1, 1]*30)\n",
    "    ax = ptAL.plotting.apply_image_defaults(ax)\n",
    "    plt.title(f'~{powers[i]/3.3*1.9:.2f} mW')\n",
    "    \n",
    "    plt.axhline(hline, **lkwargs)\n",
    "    plt.axvline(vline, **lkwargs)\n",
    "    cb = ptAL.plotting.add_colorbar(ax)"
   ]
  },
  {
   "cell_type": "code",
   "execution_count": null,
   "id": "47313209-077d-4a23-a12f-582554e0a735",
   "metadata": {},
   "outputs": [],
   "source": [
    "f = plt.figure(figsize=(8, 4))\n",
    "gs = mpl.gridspec.GridSpec(1, 2)\n",
    "ax = plt.subplot(gs[0])\n",
    "\n",
    "cm = mpl.cm.ScalarMappable(cmap='inferno')\n",
    "cm.set_clim(-0.5, 6)\n",
    "\n",
    "for i in range(6):\n",
    "    c = cm.to_rgba(i)\n",
    "    trials = trsPowers[i, stimOn[:50]]\n",
    "    line = trials[:, hline]\n",
    "    plt.axvline(hline, c='red', ls=':')\n",
    "    plt.plot(np.mean(line, axis=0), c=c)\n",
    "    plt.fill_between(np.arange(px), np.mean(line, axis=0)+scipy.stats.sem(line, axis=0), \n",
    "                     np.mean(line, axis=0)-scipy.stats.sem(line, axis=0), color=c, lw=0, alpha=0.5)\n",
    "plt.xlabel('X pixels (ML)')\n",
    "plt.ylabel('$\\Delta$ fluo')\n",
    "\n",
    "ax = plt.subplot(gs[1])\n",
    "for i in range(6):\n",
    "    c = cm.to_rgba(i)\n",
    "    trials = trsPowers[i, stimOn[:50]]\n",
    "    line = trials[:, :, vline]\n",
    "    plt.axhline(vline, c='red', ls=':')\n",
    "    plt.plot(np.mean(line, axis=0), np.arange(px), label=f'~{powers[i]/3.3*1.9:.2f} mW', c=c)\n",
    "    plt.fill_betweenx(np.arange(px), np.mean(line, axis=0)+scipy.stats.sem(line, axis=0), \n",
    "                 np.mean(line, axis=0)-scipy.stats.sem(line, axis=0), lw=0, alpha=0.5, color=c)\n",
    "plt.ylabel('Y pixels (AP)')\n",
    "plt.xlabel('$\\Delta$fluo')\n",
    "plt.legend()"
   ]
  },
  {
   "cell_type": "code",
   "execution_count": null,
   "id": "b9ba1ef0-1da8-4096-938c-2e865971b1d3",
   "metadata": {},
   "outputs": [],
   "source": [
    "savedir = Path(r'C:\\Users\\anna\\Data\\ZYE_0069\\2023-07-17\\2')\n",
    "\n",
    "powers = np.unique(laserPowers[exp1])\n",
    "trsPowers = []\n",
    "n_samples = 500\n",
    "for iP, power in enumerate(powers):\n",
    "    theseTrs = np.argwhere(laserPowers[exp1] == power)\n",
    "    onTimes = laserOn[theseTrs]\n",
    "    trs = [np.linspace(-0.3+on, 2+on, n_samples) for on in onTimes]\n",
    "    trs = np.squeeze(np.array(trs))\n",
    "    \n",
    "    wf = np.mean(tToWf(trs), axis=0)\n",
    "    \n",
    "    dwf = [np.diff(i, prepend=i[0]) for i in wf.T]\n",
    "    dwf = np.array(dwf)\n",
    "    mov = svdSpat @ dwf\n",
    "    mov = mov.reshape(px, py, -1)\n",
    "    \n",
    "    trsPowers.append(mov.transpose(2, 0, 1))\n",
    "    \n",
    "trsPowers = np.array(trsPowers)"
   ]
  },
  {
   "cell_type": "code",
   "execution_count": null,
   "id": "c4fe8180-d68b-48e8-95cf-8c8ba4e6f909",
   "metadata": {},
   "outputs": [],
   "source": []
  }
 ],
 "metadata": {
  "kernelspec": {
   "display_name": "Python 3 (ipykernel)",
   "language": "python",
   "name": "python3"
  },
  "language_info": {
   "codemirror_mode": {
    "name": "ipython",
    "version": 3
   },
   "file_extension": ".py",
   "mimetype": "text/x-python",
   "name": "python",
   "nbconvert_exporter": "python",
   "pygments_lexer": "ipython3",
   "version": "3.10.12"
  }
 },
 "nbformat": 4,
 "nbformat_minor": 5
}
