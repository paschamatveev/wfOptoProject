{
 "cells": [
  {
   "cell_type": "code",
   "execution_count": 1,
   "id": "4ae5bd54-8ae5-4f6c-8e8d-ad0c91f4838d",
   "metadata": {},
   "outputs": [
    {
     "name": "stdout",
     "output_type": "stream",
     "text": [
      "pytoolsAL: Modules missing.  Not loading neuropixels.  Message: No module named 'slidingRP'\n",
      "pytoolsAL: Modules missing.  Not loading plotting.  Message: No module named 'pandas'\n"
     ]
    }
   ],
   "source": [
    "from wfOpto import *"
   ]
  },
  {
   "cell_type": "code",
   "execution_count": null,
   "id": "88a79b2a-9a41-4439-a787-02abc383714a",
   "metadata": {},
   "outputs": [],
   "source": [
    "data809 = wfOpto(Path(r'Z:\\Subjects\\AL_0023\\2023-08-09\\1'))"
   ]
  },
  {
   "cell_type": "code",
   "execution_count": null,
   "id": "08e54f12-a2a3-4a64-8e73-a7a29fc96df8",
   "metadata": {},
   "outputs": [],
   "source": [
    "# uniques\n",
    "\n",
    "print(np.unique(data809.laserPowers))\n",
    "print(np.unique(data809.galvoX))\n",
    "print(np.unique(data809.galvoY))"
   ]
  },
  {
   "cell_type": "code",
   "execution_count": null,
   "id": "bfb37ce0-8f4e-4890-bbf2-ce33beaec98c",
   "metadata": {},
   "outputs": [],
   "source": []
  }
 ],
 "metadata": {
  "kernelspec": {
   "display_name": "Python 3 (ipykernel)",
   "language": "python",
   "name": "python3"
  },
  "language_info": {
   "codemirror_mode": {
    "name": "ipython",
    "version": 3
   },
   "file_extension": ".py",
   "mimetype": "text/x-python",
   "name": "python",
   "nbconvert_exporter": "python",
   "pygments_lexer": "ipython3",
   "version": "3.10.12"
  }
 },
 "nbformat": 4,
 "nbformat_minor": 5
}
