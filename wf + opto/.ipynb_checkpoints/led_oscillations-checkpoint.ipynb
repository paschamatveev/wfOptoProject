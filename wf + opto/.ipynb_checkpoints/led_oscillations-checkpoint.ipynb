{
 "cells": [
  {
   "cell_type": "code",
   "execution_count": 1,
   "id": "fd000a74-4e5b-4693-a145-f0fda6243d93",
   "metadata": {},
   "outputs": [],
   "source": [
    "%matplotlib inline\n",
    "%reload_ext autoreload\n",
    "%autoreload 2\n",
    "\n",
    "import collections\n",
    "from datetime import datetime\n",
    "from IPython.display import clear_output, display, HTML\n",
    "import itertools\n",
    "import matplotlib.pyplot as plt\n",
    "import matplotlib as mpl\n",
    "import numpy as np\n",
    "import os\n",
    "from pathlib import Path\n",
    "import pickle\n",
    "import scipy\n",
    "# import seaborn as sns\n",
    "import sklearn\n",
    "from sklearn.decomposition import PCA\n",
    "import sys"
   ]
  },
  {
   "cell_type": "markdown",
   "id": "4891a970-85a4-4e64-b211-c55cfd444ea3",
   "metadata": {},
   "source": [
    "# goal: compare visual response to different LED frequencies\n",
    "- given the rate of LED and its start time\n",
    "- start with plotting the PSTH of V1 response for one mouse, 0-2 seconds\n",
    "    - it may be easier to look at a handful of frequencies first rather than all 10\n",
    "- find a \"single value\" way to quantify the extent of coherence\n",
    "    - start with using amplitude. does the amplitude across the stimulus window correspond to the extent of coherence (qualitatively?)\n",
    "- plot the amplitude vs oscillation rate\n",
    "- compare this plot for different GCaMP lines"
   ]
  },
  {
   "cell_type": "code",
   "execution_count": 2,
   "id": "947bdcc4-7793-4241-9805-ece108a64be8",
   "metadata": {},
   "outputs": [],
   "source": [
    "# load stimulus related files generated post-experiment\n",
    "pdFlips = np.load(r'Z:\\Subjects\\ZYE_0069\\2023-09-06\\2\\ledFlipTimes.npy').ravel()\n",
    "flipRates = np.load(r'Z:\\Subjects\\ZYE_0069\\2023-09-06\\2\\ledFreq.npy').ravel()\n",
    "\n",
    "def findStimStartTimes():\n",
    "    \"\"\"\n",
    "    This function takes in the photodiode flip times, which includes ALL\n",
    "    times the light turned on and off (so not just the start of the stimulus).\n",
    "    Taking advantage of the fact that stimuli are exactly 2 seconds long, we\n",
    "    find the flip times that do correspond to the start of each stimulus.\n",
    "    \n",
    "    No input arguments - uses loaded files above.\n",
    "    Returns:\n",
    "        startTimes: array of the start time for each stimulus. e.g. if \n",
    "            there were 10 repetitions each of 5 different frequencies,\n",
    "            this would be length (50, 1)\n",
    "        stimFlips: array of the flip times within each stimulus. e.g.\n",
    "            in the above example, it would be length (50, n), where\n",
    "            n corresponds to the number of flips that occurred within\n",
    "            the stimulus (and thus is not even across stimuli)\n",
    "    \"\"\"\n",
    "    \n",
    "    durationS = 2 # fixed?\n",
    "    startTimes = []\n",
    "    stimFlips = []\n",
    "    \n",
    "    thisStart = pdFlips[0]\n",
    "\n",
    "    for stim in range(len(flipRates)):\n",
    "        thisEnd = thisStart + durationS + 0.1\n",
    "        try:\n",
    "            nextStart = pdFlips[pdFlips > thisEnd][0] # set to first pd flip that is past the stim duration\n",
    "        except:\n",
    "            nextStart = None # should only happen at the end?\n",
    "        startTimes.append(thisStart)\n",
    "        \n",
    "        flipIx = np.where((pdFlips >= thisStart) & (pdFlips <= thisEnd))\n",
    "        flipTimes = pdFlips[flipIx]\n",
    "        stimFlips.append(flipTimes)\n",
    "        \n",
    "        thisStart = nextStart\n",
    "        \n",
    "    startTimes = np.array(startTimes)\n",
    "    stimFlips = np.array(stimFlips, dtype='object')\n",
    "    return startTimes, stimFlips"
   ]
  },
  {
   "cell_type": "code",
   "execution_count": 3,
   "id": "57f7cb2c-edbd-43a5-abcd-8dbcbd835151",
   "metadata": {},
   "outputs": [],
   "source": [
    "startTimes, stimFlips = findStimStartTimes()"
   ]
  },
  {
   "cell_type": "code",
   "execution_count": 18,
   "id": "fa47cb6a-06a0-48d2-ad36-8d067f370008",
   "metadata": {},
   "outputs": [
    {
     "data": {
      "text/plain": [
       "(635.0, 650.0)"
      ]
     },
     "execution_count": 18,
     "metadata": {},
     "output_type": "execute_result"
    },
    {
     "data": {
      "image/png": "[encoded data removed]",
      "text/plain": [
       "<Figure size 2000x300 with 1 Axes>"
      ]
     },
     "metadata": {},
     "output_type": "display_data"
    }
   ],
   "source": [
    "f = plt.figure(figsize=(20, 3))\n",
    "plt.scatter(pdFlips, np.ones(len(pdFlips)), lw=0)\n",
    "plt.scatter(startTimes, np.ones(len(startTimes))*1.5, marker='v', lw=0)\n",
    "plt.ylim(0, 3)\n",
    "plt.xlim(635, 650)"
   ]
  },
  {
   "cell_type": "code",
   "execution_count": null,
   "id": "a16a86ec-b599-4cbe-8d25-b26be49e0233",
   "metadata": {},
   "outputs": [],
   "source": []
  }
 ],
 "metadata": {
  "kernelspec": {
   "display_name": "Python 3 (ipykernel)",
   "language": "python",
   "name": "python3"
  },
  "language_info": {
   "codemirror_mode": {
    "name": "ipython",
    "version": 3
   },
   "file_extension": ".py",
   "mimetype": "text/x-python",
   "name": "python",
   "nbconvert_exporter": "python",
   "pygments_lexer": "ipython3",
   "version": "3.10.12"
  }
 },
 "nbformat": 4,
 "nbformat_minor": 5
}
